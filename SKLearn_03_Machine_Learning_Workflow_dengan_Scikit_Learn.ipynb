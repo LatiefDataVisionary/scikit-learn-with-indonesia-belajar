{
  "nbformat": 4,
  "nbformat_minor": 0,
  "metadata": {
    "colab": {
      "provenance": [],
      "authorship_tag": "ABX9TyMtPulFRsGNRw/EuY+PxRBw",
      "include_colab_link": true
    },
    "kernelspec": {
      "name": "python3",
      "display_name": "Python 3"
    },
    "language_info": {
      "name": "python"
    }
  },
  "cells": [
    {
      "cell_type": "markdown",
      "metadata": {
        "id": "view-in-github",
        "colab_type": "text"
      },
      "source": [
        "<a href=\"https://colab.research.google.com/github/LatiefDataVisionary/scikit-learn-with-indonesia-belajar/blob/main/SKLearn_03_Machine_Learning_Workflow_dengan_Scikit_Learn.ipynb\" target=\"_parent\"><img src=\"https://colab.research.google.com/assets/colab-badge.svg\" alt=\"Open In Colab\"/></a>"
      ]
    },
    {
      "cell_type": "markdown",
      "source": [
        "## **SKLearn 03: Machine Learning Workflow dengan Scikit-Learn | Belajar Machine Learning Dasar**\n"
      ],
      "metadata": {
        "id": "nMRNY8kn9Ft0"
      }
    },
    {
      "cell_type": "markdown",
      "source": [
        "### **Load Sample Dataset: Iris Dataset**"
      ],
      "metadata": {
        "id": "93ZJQwQxR6iK"
      }
    },
    {
      "cell_type": "code",
      "execution_count": 1,
      "metadata": {
        "id": "g0a3tULJ9DX9"
      },
      "outputs": [],
      "source": [
        "from sklearn.datasets import load_iris\n",
        "\n",
        "iris = load_iris()\n",
        "\n",
        "x = iris.data\n",
        "y = iris.target"
      ]
    },
    {
      "cell_type": "markdown",
      "source": [
        "### **Splitting Dataset: Training & Testing Set**"
      ],
      "metadata": {
        "id": "Ciey8KDdR_Y0"
      }
    },
    {
      "cell_type": "code",
      "source": [
        "from sklearn.model_selection import trains_test_split\n",
        "\n",
        "X_train, X_test, y_train, y_test = train_test_split(x,y\n",
        "                                                    test_size = 0.4,\n",
        "                                                    random_state=1)"
      ],
      "metadata": {
        "id": "J7b47fGsSE1U"
      },
      "execution_count": null,
      "outputs": []
    }
  ]
}