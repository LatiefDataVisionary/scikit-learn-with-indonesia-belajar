{
  "nbformat": 4,
  "nbformat_minor": 0,
  "metadata": {
    "colab": {
      "provenance": [],
      "authorship_tag": "ABX9TyMDjtPgSJ7sRCJMJPcw8eBq",
      "include_colab_link": true
    },
    "kernelspec": {
      "name": "python3",
      "display_name": "Python 3"
    },
    "language_info": {
      "name": "python"
    }
  },
  "cells": [
    {
      "cell_type": "markdown",
      "metadata": {
        "id": "view-in-github",
        "colab_type": "text"
      },
      "source": [
        "<a href=\"https://colab.research.google.com/github/LatiefDataVisionary/scikit-learn-with-indonesia-belajar/blob/main/SKLearn_05_Simple_Linear_Regression_dengan_Scikit_Learn.ipynb\" target=\"_parent\"><img src=\"https://colab.research.google.com/assets/colab-badge.svg\" alt=\"Open In Colab\"/></a>"
      ]
    },
    {
      "cell_type": "markdown",
      "source": [
        "## **SKLearn 05: Simple Linear Regression dengan Scikit-Learn | Belajar Machine Learning Dasar**\n"
      ],
      "metadata": {
        "id": "vrwuMHyP9ari"
      }
    },
    {
      "cell_type": "markdown",
      "source": [
        "### **Sample Dataset**"
      ],
      "metadata": {
        "id": "HEVlNAW2tbg-"
      }
    },
    {
      "cell_type": "code",
      "execution_count": 1,
      "metadata": {
        "id": "Jc9FX6a19XTo",
        "colab": {
          "base_uri": "https://localhost:8080/",
          "height": 206
        },
        "outputId": "505638da-6b0a-4114-d8b1-226af5f96381"
      },
      "outputs": [
        {
          "output_type": "execute_result",
          "data": {
            "text/plain": [
              "   diameter  harga\n",
              "0         6    7.0\n",
              "1         8    9.0\n",
              "2        10   13.0\n",
              "3        14   17.5\n",
              "4        18   18.0"
            ],
            "text/html": [
              "\n",
              "  <div id=\"df-937d6bda-7004-4f37-a742-a81e506f4204\" class=\"colab-df-container\">\n",
              "    <div>\n",
              "<style scoped>\n",
              "    .dataframe tbody tr th:only-of-type {\n",
              "        vertical-align: middle;\n",
              "    }\n",
              "\n",
              "    .dataframe tbody tr th {\n",
              "        vertical-align: top;\n",
              "    }\n",
              "\n",
              "    .dataframe thead th {\n",
              "        text-align: right;\n",
              "    }\n",
              "</style>\n",
              "<table border=\"1\" class=\"dataframe\">\n",
              "  <thead>\n",
              "    <tr style=\"text-align: right;\">\n",
              "      <th></th>\n",
              "      <th>diameter</th>\n",
              "      <th>harga</th>\n",
              "    </tr>\n",
              "  </thead>\n",
              "  <tbody>\n",
              "    <tr>\n",
              "      <th>0</th>\n",
              "      <td>6</td>\n",
              "      <td>7.0</td>\n",
              "    </tr>\n",
              "    <tr>\n",
              "      <th>1</th>\n",
              "      <td>8</td>\n",
              "      <td>9.0</td>\n",
              "    </tr>\n",
              "    <tr>\n",
              "      <th>2</th>\n",
              "      <td>10</td>\n",
              "      <td>13.0</td>\n",
              "    </tr>\n",
              "    <tr>\n",
              "      <th>3</th>\n",
              "      <td>14</td>\n",
              "      <td>17.5</td>\n",
              "    </tr>\n",
              "    <tr>\n",
              "      <th>4</th>\n",
              "      <td>18</td>\n",
              "      <td>18.0</td>\n",
              "    </tr>\n",
              "  </tbody>\n",
              "</table>\n",
              "</div>\n",
              "    <div class=\"colab-df-buttons\">\n",
              "\n",
              "  <div class=\"colab-df-container\">\n",
              "    <button class=\"colab-df-convert\" onclick=\"convertToInteractive('df-937d6bda-7004-4f37-a742-a81e506f4204')\"\n",
              "            title=\"Convert this dataframe to an interactive table.\"\n",
              "            style=\"display:none;\">\n",
              "\n",
              "  <svg xmlns=\"http://www.w3.org/2000/svg\" height=\"24px\" viewBox=\"0 -960 960 960\">\n",
              "    <path d=\"M120-120v-720h720v720H120Zm60-500h600v-160H180v160Zm220 220h160v-160H400v160Zm0 220h160v-160H400v160ZM180-400h160v-160H180v160Zm440 0h160v-160H620v160ZM180-180h160v-160H180v160Zm440 0h160v-160H620v160Z\"/>\n",
              "  </svg>\n",
              "    </button>\n",
              "\n",
              "  <style>\n",
              "    .colab-df-container {\n",
              "      display:flex;\n",
              "      gap: 12px;\n",
              "    }\n",
              "\n",
              "    .colab-df-convert {\n",
              "      background-color: #E8F0FE;\n",
              "      border: none;\n",
              "      border-radius: 50%;\n",
              "      cursor: pointer;\n",
              "      display: none;\n",
              "      fill: #1967D2;\n",
              "      height: 32px;\n",
              "      padding: 0 0 0 0;\n",
              "      width: 32px;\n",
              "    }\n",
              "\n",
              "    .colab-df-convert:hover {\n",
              "      background-color: #E2EBFA;\n",
              "      box-shadow: 0px 1px 2px rgba(60, 64, 67, 0.3), 0px 1px 3px 1px rgba(60, 64, 67, 0.15);\n",
              "      fill: #174EA6;\n",
              "    }\n",
              "\n",
              "    .colab-df-buttons div {\n",
              "      margin-bottom: 4px;\n",
              "    }\n",
              "\n",
              "    [theme=dark] .colab-df-convert {\n",
              "      background-color: #3B4455;\n",
              "      fill: #D2E3FC;\n",
              "    }\n",
              "\n",
              "    [theme=dark] .colab-df-convert:hover {\n",
              "      background-color: #434B5C;\n",
              "      box-shadow: 0px 1px 3px 1px rgba(0, 0, 0, 0.15);\n",
              "      filter: drop-shadow(0px 1px 2px rgba(0, 0, 0, 0.3));\n",
              "      fill: #FFFFFF;\n",
              "    }\n",
              "  </style>\n",
              "\n",
              "    <script>\n",
              "      const buttonEl =\n",
              "        document.querySelector('#df-937d6bda-7004-4f37-a742-a81e506f4204 button.colab-df-convert');\n",
              "      buttonEl.style.display =\n",
              "        google.colab.kernel.accessAllowed ? 'block' : 'none';\n",
              "\n",
              "      async function convertToInteractive(key) {\n",
              "        const element = document.querySelector('#df-937d6bda-7004-4f37-a742-a81e506f4204');\n",
              "        const dataTable =\n",
              "          await google.colab.kernel.invokeFunction('convertToInteractive',\n",
              "                                                    [key], {});\n",
              "        if (!dataTable) return;\n",
              "\n",
              "        const docLinkHtml = 'Like what you see? Visit the ' +\n",
              "          '<a target=\"_blank\" href=https://colab.research.google.com/notebooks/data_table.ipynb>data table notebook</a>'\n",
              "          + ' to learn more about interactive tables.';\n",
              "        element.innerHTML = '';\n",
              "        dataTable['output_type'] = 'display_data';\n",
              "        await google.colab.output.renderOutput(dataTable, element);\n",
              "        const docLink = document.createElement('div');\n",
              "        docLink.innerHTML = docLinkHtml;\n",
              "        element.appendChild(docLink);\n",
              "      }\n",
              "    </script>\n",
              "  </div>\n",
              "\n",
              "\n",
              "<div id=\"df-ff04498e-3330-46d3-ad08-79c36cd0b2be\">\n",
              "  <button class=\"colab-df-quickchart\" onclick=\"quickchart('df-ff04498e-3330-46d3-ad08-79c36cd0b2be')\"\n",
              "            title=\"Suggest charts\"\n",
              "            style=\"display:none;\">\n",
              "\n",
              "<svg xmlns=\"http://www.w3.org/2000/svg\" height=\"24px\"viewBox=\"0 0 24 24\"\n",
              "     width=\"24px\">\n",
              "    <g>\n",
              "        <path d=\"M19 3H5c-1.1 0-2 .9-2 2v14c0 1.1.9 2 2 2h14c1.1 0 2-.9 2-2V5c0-1.1-.9-2-2-2zM9 17H7v-7h2v7zm4 0h-2V7h2v10zm4 0h-2v-4h2v4z\"/>\n",
              "    </g>\n",
              "</svg>\n",
              "  </button>\n",
              "\n",
              "<style>\n",
              "  .colab-df-quickchart {\n",
              "      --bg-color: #E8F0FE;\n",
              "      --fill-color: #1967D2;\n",
              "      --hover-bg-color: #E2EBFA;\n",
              "      --hover-fill-color: #174EA6;\n",
              "      --disabled-fill-color: #AAA;\n",
              "      --disabled-bg-color: #DDD;\n",
              "  }\n",
              "\n",
              "  [theme=dark] .colab-df-quickchart {\n",
              "      --bg-color: #3B4455;\n",
              "      --fill-color: #D2E3FC;\n",
              "      --hover-bg-color: #434B5C;\n",
              "      --hover-fill-color: #FFFFFF;\n",
              "      --disabled-bg-color: #3B4455;\n",
              "      --disabled-fill-color: #666;\n",
              "  }\n",
              "\n",
              "  .colab-df-quickchart {\n",
              "    background-color: var(--bg-color);\n",
              "    border: none;\n",
              "    border-radius: 50%;\n",
              "    cursor: pointer;\n",
              "    display: none;\n",
              "    fill: var(--fill-color);\n",
              "    height: 32px;\n",
              "    padding: 0;\n",
              "    width: 32px;\n",
              "  }\n",
              "\n",
              "  .colab-df-quickchart:hover {\n",
              "    background-color: var(--hover-bg-color);\n",
              "    box-shadow: 0 1px 2px rgba(60, 64, 67, 0.3), 0 1px 3px 1px rgba(60, 64, 67, 0.15);\n",
              "    fill: var(--button-hover-fill-color);\n",
              "  }\n",
              "\n",
              "  .colab-df-quickchart-complete:disabled,\n",
              "  .colab-df-quickchart-complete:disabled:hover {\n",
              "    background-color: var(--disabled-bg-color);\n",
              "    fill: var(--disabled-fill-color);\n",
              "    box-shadow: none;\n",
              "  }\n",
              "\n",
              "  .colab-df-spinner {\n",
              "    border: 2px solid var(--fill-color);\n",
              "    border-color: transparent;\n",
              "    border-bottom-color: var(--fill-color);\n",
              "    animation:\n",
              "      spin 1s steps(1) infinite;\n",
              "  }\n",
              "\n",
              "  @keyframes spin {\n",
              "    0% {\n",
              "      border-color: transparent;\n",
              "      border-bottom-color: var(--fill-color);\n",
              "      border-left-color: var(--fill-color);\n",
              "    }\n",
              "    20% {\n",
              "      border-color: transparent;\n",
              "      border-left-color: var(--fill-color);\n",
              "      border-top-color: var(--fill-color);\n",
              "    }\n",
              "    30% {\n",
              "      border-color: transparent;\n",
              "      border-left-color: var(--fill-color);\n",
              "      border-top-color: var(--fill-color);\n",
              "      border-right-color: var(--fill-color);\n",
              "    }\n",
              "    40% {\n",
              "      border-color: transparent;\n",
              "      border-right-color: var(--fill-color);\n",
              "      border-top-color: var(--fill-color);\n",
              "    }\n",
              "    60% {\n",
              "      border-color: transparent;\n",
              "      border-right-color: var(--fill-color);\n",
              "    }\n",
              "    80% {\n",
              "      border-color: transparent;\n",
              "      border-right-color: var(--fill-color);\n",
              "      border-bottom-color: var(--fill-color);\n",
              "    }\n",
              "    90% {\n",
              "      border-color: transparent;\n",
              "      border-bottom-color: var(--fill-color);\n",
              "    }\n",
              "  }\n",
              "</style>\n",
              "\n",
              "  <script>\n",
              "    async function quickchart(key) {\n",
              "      const quickchartButtonEl =\n",
              "        document.querySelector('#' + key + ' button');\n",
              "      quickchartButtonEl.disabled = true;  // To prevent multiple clicks.\n",
              "      quickchartButtonEl.classList.add('colab-df-spinner');\n",
              "      try {\n",
              "        const charts = await google.colab.kernel.invokeFunction(\n",
              "            'suggestCharts', [key], {});\n",
              "      } catch (error) {\n",
              "        console.error('Error during call to suggestCharts:', error);\n",
              "      }\n",
              "      quickchartButtonEl.classList.remove('colab-df-spinner');\n",
              "      quickchartButtonEl.classList.add('colab-df-quickchart-complete');\n",
              "    }\n",
              "    (() => {\n",
              "      let quickchartButtonEl =\n",
              "        document.querySelector('#df-ff04498e-3330-46d3-ad08-79c36cd0b2be button');\n",
              "      quickchartButtonEl.style.display =\n",
              "        google.colab.kernel.accessAllowed ? 'block' : 'none';\n",
              "    })();\n",
              "  </script>\n",
              "</div>\n",
              "\n",
              "  <div id=\"id_710070ad-7d74-4002-aad0-f05f8688147c\">\n",
              "    <style>\n",
              "      .colab-df-generate {\n",
              "        background-color: #E8F0FE;\n",
              "        border: none;\n",
              "        border-radius: 50%;\n",
              "        cursor: pointer;\n",
              "        display: none;\n",
              "        fill: #1967D2;\n",
              "        height: 32px;\n",
              "        padding: 0 0 0 0;\n",
              "        width: 32px;\n",
              "      }\n",
              "\n",
              "      .colab-df-generate:hover {\n",
              "        background-color: #E2EBFA;\n",
              "        box-shadow: 0px 1px 2px rgba(60, 64, 67, 0.3), 0px 1px 3px 1px rgba(60, 64, 67, 0.15);\n",
              "        fill: #174EA6;\n",
              "      }\n",
              "\n",
              "      [theme=dark] .colab-df-generate {\n",
              "        background-color: #3B4455;\n",
              "        fill: #D2E3FC;\n",
              "      }\n",
              "\n",
              "      [theme=dark] .colab-df-generate:hover {\n",
              "        background-color: #434B5C;\n",
              "        box-shadow: 0px 1px 3px 1px rgba(0, 0, 0, 0.15);\n",
              "        filter: drop-shadow(0px 1px 2px rgba(0, 0, 0, 0.3));\n",
              "        fill: #FFFFFF;\n",
              "      }\n",
              "    </style>\n",
              "    <button class=\"colab-df-generate\" onclick=\"generateWithVariable('pizza_df')\"\n",
              "            title=\"Generate code using this dataframe.\"\n",
              "            style=\"display:none;\">\n",
              "\n",
              "  <svg xmlns=\"http://www.w3.org/2000/svg\" height=\"24px\"viewBox=\"0 0 24 24\"\n",
              "       width=\"24px\">\n",
              "    <path d=\"M7,19H8.4L18.45,9,17,7.55,7,17.6ZM5,21V16.75L18.45,3.32a2,2,0,0,1,2.83,0l1.4,1.43a1.91,1.91,0,0,1,.58,1.4,1.91,1.91,0,0,1-.58,1.4L9.25,21ZM18.45,9,17,7.55Zm-12,3A5.31,5.31,0,0,0,4.9,8.1,5.31,5.31,0,0,0,1,6.5,5.31,5.31,0,0,0,4.9,4.9,5.31,5.31,0,0,0,6.5,1,5.31,5.31,0,0,0,8.1,4.9,5.31,5.31,0,0,0,12,6.5,5.46,5.46,0,0,0,6.5,12Z\"/>\n",
              "  </svg>\n",
              "    </button>\n",
              "    <script>\n",
              "      (() => {\n",
              "      const buttonEl =\n",
              "        document.querySelector('#id_710070ad-7d74-4002-aad0-f05f8688147c button.colab-df-generate');\n",
              "      buttonEl.style.display =\n",
              "        google.colab.kernel.accessAllowed ? 'block' : 'none';\n",
              "\n",
              "      buttonEl.onclick = () => {\n",
              "        google.colab.notebook.generateWithVariable('pizza_df');\n",
              "      }\n",
              "      })();\n",
              "    </script>\n",
              "  </div>\n",
              "\n",
              "    </div>\n",
              "  </div>\n"
            ],
            "application/vnd.google.colaboratory.intrinsic+json": {
              "type": "dataframe",
              "variable_name": "pizza_df",
              "summary": "{\n  \"name\": \"pizza_df\",\n  \"rows\": 5,\n  \"fields\": [\n    {\n      \"column\": \"diameter\",\n      \"properties\": {\n        \"dtype\": \"number\",\n        \"std\": 4,\n        \"min\": 6,\n        \"max\": 18,\n        \"num_unique_values\": 5,\n        \"samples\": [\n          8,\n          18,\n          10\n        ],\n        \"semantic_type\": \"\",\n        \"description\": \"\"\n      }\n    },\n    {\n      \"column\": \"harga\",\n      \"properties\": {\n        \"dtype\": \"number\",\n        \"std\": 4.9295030175464944,\n        \"min\": 7.0,\n        \"max\": 18.0,\n        \"num_unique_values\": 5,\n        \"samples\": [\n          9.0,\n          18.0,\n          13.0\n        ],\n        \"semantic_type\": \"\",\n        \"description\": \"\"\n      }\n    }\n  ]\n}"
            }
          },
          "metadata": {},
          "execution_count": 1
        }
      ],
      "source": [
        "import pandas as pd\n",
        "\n",
        "pizza = {'diameter': [6,8,10,14,18],\n",
        "         'harga': [7,9,13,17.5,18]}\n",
        "\n",
        "pizza_df = pd.DataFrame(pizza)\n",
        "pizza_df"
      ]
    },
    {
      "cell_type": "markdown",
      "source": [
        "### **Visualisasi Data**"
      ],
      "metadata": {
        "id": "U4wg-LHxuKAc"
      }
    },
    {
      "cell_type": "code",
      "source": [
        "import matplotlib.pyplot as plt\n",
        "\n",
        "pizza_df.plot(kind='scatter', x='diameter', y='harga')\n",
        "\n",
        "plt.title('Perbandingan Diameter dan Harga Pizza')\n",
        "plt.xlabel('Diameter (inch)')\n",
        "plt.ylabel('Harga (USD)')\n",
        "plt.xlim(0, 25)\n",
        "plt.ylim(0, 25)\n",
        "plt.grid(True)\n",
        "plt.show()"
      ],
      "metadata": {
        "colab": {
          "base_uri": "https://localhost:8080/",
          "height": 472
        },
        "id": "Owd5hGYMuM8V",
        "outputId": "3866638a-91ac-4d6b-b772-d04ad387f465"
      },
      "execution_count": 2,
      "outputs": [
        {
          "output_type": "display_data",
          "data": {
            "text/plain": [
              "<Figure size 640x480 with 1 Axes>"
            ],
            "image/png": "[encoded data removed]"
          },
          "metadata": {}
        }
      ]
    },
    {
      "cell_type": "markdown",
      "source": [
        "### **Simple Linear Regression**"
      ],
      "metadata": {
        "id": "KalLXmXIwAqd"
      }
    },
    {
      "cell_type": "markdown",
      "source": [
        "**Penyesuaian Dataset**"
      ],
      "metadata": {
        "id": "gZne66TQwImZ"
      }
    },
    {
      "cell_type": "code",
      "source": [
        "import numpy as np\n",
        "\n",
        "X = np.array(pizza_df['diameter'])\n",
        "y = np.array(pizza_df['harga'])\n",
        "\n",
        "print(f'X: {X}')\n",
        "print(f'y: {y}')"
      ],
      "metadata": {
        "colab": {
          "base_uri": "https://localhost:8080/"
        },
        "id": "8CqrlVjwwERZ",
        "outputId": "d81ce266-dda7-44f7-d857-daa49f111c10"
      },
      "execution_count": 3,
      "outputs": [
        {
          "output_type": "stream",
          "name": "stdout",
          "text": [
            "X: [ 6  8 10 14 18]\n",
            "y: [ 7.   9.  13.  17.5 18. ]\n"
          ]
        }
      ]
    },
    {
      "cell_type": "code",
      "source": [
        "X = X.reshape(-1, 1)\n",
        "X.shape"
      ],
      "metadata": {
        "colab": {
          "base_uri": "https://localhost:8080/"
        },
        "id": "7tcxii_iwegX",
        "outputId": "12a53b76-f62a-4c7d-dad6-cd455c674c83"
      },
      "execution_count": 4,
      "outputs": [
        {
          "output_type": "execute_result",
          "data": {
            "text/plain": [
              "(5, 1)"
            ]
          },
          "metadata": {},
          "execution_count": 4
        }
      ]
    },
    {
      "cell_type": "code",
      "source": [
        "X"
      ],
      "metadata": {
        "colab": {
          "base_uri": "https://localhost:8080/"
        },
        "id": "QA1LSFTJw_U3",
        "outputId": "1d9b917f-2176-47b6-a10f-cda8535e4446"
      },
      "execution_count": 5,
      "outputs": [
        {
          "output_type": "execute_result",
          "data": {
            "text/plain": [
              "array([[ 6],\n",
              "       [ 8],\n",
              "       [10],\n",
              "       [14],\n",
              "       [18]])"
            ]
          },
          "metadata": {},
          "execution_count": 5
        }
      ]
    },
    {
      "cell_type": "markdown",
      "source": [
        "**Training Simple Linear Regression Model**"
      ],
      "metadata": {
        "id": "xIDesZ3OxdZ0"
      }
    },
    {
      "cell_type": "code",
      "source": [
        "from sklearn.linear_model import LinearRegression\n",
        "\n",
        "model = LinearRegression()\n",
        "model.fit(X, y)"
      ],
      "metadata": {
        "colab": {
          "base_uri": "https://localhost:8080/",
          "height": 80
        },
        "id": "TzRFabkFxhV6",
        "outputId": "779695b1-3ae3-4410-d523-dce7da60056d"
      },
      "execution_count": 6,
      "outputs": [
        {
          "output_type": "execute_result",
          "data": {
            "text/plain": [
              "LinearRegression()"
            ],
            "text/html": [
              "<style>#sk-container-id-1 {\n",
              "  /* Definition of color scheme common for light and dark mode */\n",
              "  --sklearn-color-text: #000;\n",
              "  --sklearn-color-text-muted: #666;\n",
              "  --sklearn-color-line: gray;\n",
              "  /* Definition of color scheme for unfitted estimators */\n",
              "  --sklearn-color-unfitted-level-0: #fff5e6;\n",
              "  --sklearn-color-unfitted-level-1: #f6e4d2;\n",
              "  --sklearn-color-unfitted-level-2: #ffe0b3;\n",
              "  --sklearn-color-unfitted-level-3: chocolate;\n",
              "  /* Definition of color scheme for fitted estimators */\n",
              "  --sklearn-color-fitted-level-0: #f0f8ff;\n",
              "  --sklearn-color-fitted-level-1: #d4ebff;\n",
              "  --sklearn-color-fitted-level-2: #b3dbfd;\n",
              "  --sklearn-color-fitted-level-3: cornflowerblue;\n",
              "\n",
              "  /* Specific color for light theme */\n",
              "  --sklearn-color-text-on-default-background: var(--sg-text-color, var(--theme-code-foreground, var(--jp-content-font-color1, black)));\n",
              "  --sklearn-color-background: var(--sg-background-color, var(--theme-background, var(--jp-layout-color0, white)));\n",
              "  --sklearn-color-border-box: var(--sg-text-color, var(--theme-code-foreground, var(--jp-content-font-color1, black)));\n",
              "  --sklearn-color-icon: #696969;\n",
              "\n",
              "  @media (prefers-color-scheme: dark) {\n",
              "    /* Redefinition of color scheme for dark theme */\n",
              "    --sklearn-color-text-on-default-background: var(--sg-text-color, var(--theme-code-foreground, var(--jp-content-font-color1, white)));\n",
              "    --sklearn-color-background: var(--sg-background-color, var(--theme-background, var(--jp-layout-color0, #111)));\n",
              "    --sklearn-color-border-box: var(--sg-text-color, var(--theme-code-foreground, var(--jp-content-font-color1, white)));\n",
              "    --sklearn-color-icon: #878787;\n",
              "  }\n",
              "}\n",
              "\n",
              "#sk-container-id-1 {\n",
              "  color: var(--sklearn-color-text);\n",
              "}\n",
              "\n",
              "#sk-container-id-1 pre {\n",
              "  padding: 0;\n",
              "}\n",
              "\n",
              "#sk-container-id-1 input.sk-hidden--visually {\n",
              "  border: 0;\n",
              "  clip: rect(1px 1px 1px 1px);\n",
              "  clip: rect(1px, 1px, 1px, 1px);\n",
              "  height: 1px;\n",
              "  margin: -1px;\n",
              "  overflow: hidden;\n",
              "  padding: 0;\n",
              "  position: absolute;\n",
              "  width: 1px;\n",
              "}\n",
              "\n",
              "#sk-container-id-1 div.sk-dashed-wrapped {\n",
              "  border: 1px dashed var(--sklearn-color-line);\n",
              "  margin: 0 0.4em 0.5em 0.4em;\n",
              "  box-sizing: border-box;\n",
              "  padding-bottom: 0.4em;\n",
              "  background-color: var(--sklearn-color-background);\n",
              "}\n",
              "\n",
              "#sk-container-id-1 div.sk-container {\n",
              "  /* jupyter's `normalize.less` sets `[hidden] { display: none; }`\n",
              "     but bootstrap.min.css set `[hidden] { display: none !important; }`\n",
              "     so we also need the `!important` here to be able to override the\n",
              "     default hidden behavior on the sphinx rendered scikit-learn.org.\n",
              "     See: https://github.com/scikit-learn/scikit-learn/issues/21755 */\n",
              "  display: inline-block !important;\n",
              "  position: relative;\n",
              "}\n",
              "\n",
              "#sk-container-id-1 div.sk-text-repr-fallback {\n",
              "  display: none;\n",
              "}\n",
              "\n",
              "div.sk-parallel-item,\n",
              "div.sk-serial,\n",
              "div.sk-item {\n",
              "  /* draw centered vertical line to link estimators */\n",
              "  background-image: linear-gradient(var(--sklearn-color-text-on-default-background), var(--sklearn-color-text-on-default-background));\n",
              "  background-size: 2px 100%;\n",
              "  background-repeat: no-repeat;\n",
              "  background-position: center center;\n",
              "}\n",
              "\n",
              "/* Parallel-specific style estimator block */\n",
              "\n",
              "#sk-container-id-1 div.sk-parallel-item::after {\n",
              "  content: \"\";\n",
              "  width: 100%;\n",
              "  border-bottom: 2px solid var(--sklearn-color-text-on-default-background);\n",
              "  flex-grow: 1;\n",
              "}\n",
              "\n",
              "#sk-container-id-1 div.sk-parallel {\n",
              "  display: flex;\n",
              "  align-items: stretch;\n",
              "  justify-content: center;\n",
              "  background-color: var(--sklearn-color-background);\n",
              "  position: relative;\n",
              "}\n",
              "\n",
              "#sk-container-id-1 div.sk-parallel-item {\n",
              "  display: flex;\n",
              "  flex-direction: column;\n",
              "}\n",
              "\n",
              "#sk-container-id-1 div.sk-parallel-item:first-child::after {\n",
              "  align-self: flex-end;\n",
              "  width: 50%;\n",
              "}\n",
              "\n",
              "#sk-container-id-1 div.sk-parallel-item:last-child::after {\n",
              "  align-self: flex-start;\n",
              "  width: 50%;\n",
              "}\n",
              "\n",
              "#sk-container-id-1 div.sk-parallel-item:only-child::after {\n",
              "  width: 0;\n",
              "}\n",
              "\n",
              "/* Serial-specific style estimator block */\n",
              "\n",
              "#sk-container-id-1 div.sk-serial {\n",
              "  display: flex;\n",
              "  flex-direction: column;\n",
              "  align-items: center;\n",
              "  background-color: var(--sklearn-color-background);\n",
              "  padding-right: 1em;\n",
              "  padding-left: 1em;\n",
              "}\n",
              "\n",
              "\n",
              "/* Toggleable style: style used for estimator/Pipeline/ColumnTransformer box that is\n",
              "clickable and can be expanded/collapsed.\n",
              "- Pipeline and ColumnTransformer use this feature and define the default style\n",
              "- Estimators will overwrite some part of the style using the `sk-estimator` class\n",
              "*/\n",
              "\n",
              "/* Pipeline and ColumnTransformer style (default) */\n",
              "\n",
              "#sk-container-id-1 div.sk-toggleable {\n",
              "  /* Default theme specific background. It is overwritten whether we have a\n",
              "  specific estimator or a Pipeline/ColumnTransformer */\n",
              "  background-color: var(--sklearn-color-background);\n",
              "}\n",
              "\n",
              "/* Toggleable label */\n",
              "#sk-container-id-1 label.sk-toggleable__label {\n",
              "  cursor: pointer;\n",
              "  display: flex;\n",
              "  width: 100%;\n",
              "  margin-bottom: 0;\n",
              "  padding: 0.5em;\n",
              "  box-sizing: border-box;\n",
              "  text-align: center;\n",
              "  align-items: start;\n",
              "  justify-content: space-between;\n",
              "  gap: 0.5em;\n",
              "}\n",
              "\n",
              "#sk-container-id-1 label.sk-toggleable__label .caption {\n",
              "  font-size: 0.6rem;\n",
              "  font-weight: lighter;\n",
              "  color: var(--sklearn-color-text-muted);\n",
              "}\n",
              "\n",
              "#sk-container-id-1 label.sk-toggleable__label-arrow:before {\n",
              "  /* Arrow on the left of the label */\n",
              "  content: \"▸\";\n",
              "  float: left;\n",
              "  margin-right: 0.25em;\n",
              "  color: var(--sklearn-color-icon);\n",
              "}\n",
              "\n",
              "#sk-container-id-1 label.sk-toggleable__label-arrow:hover:before {\n",
              "  color: var(--sklearn-color-text);\n",
              "}\n",
              "\n",
              "/* Toggleable content - dropdown */\n",
              "\n",
              "#sk-container-id-1 div.sk-toggleable__content {\n",
              "  max-height: 0;\n",
              "  max-width: 0;\n",
              "  overflow: hidden;\n",
              "  text-align: left;\n",
              "  /* unfitted */\n",
              "  background-color: var(--sklearn-color-unfitted-level-0);\n",
              "}\n",
              "\n",
              "#sk-container-id-1 div.sk-toggleable__content.fitted {\n",
              "  /* fitted */\n",
              "  background-color: var(--sklearn-color-fitted-level-0);\n",
              "}\n",
              "\n",
              "#sk-container-id-1 div.sk-toggleable__content pre {\n",
              "  margin: 0.2em;\n",
              "  border-radius: 0.25em;\n",
              "  color: var(--sklearn-color-text);\n",
              "  /* unfitted */\n",
              "  background-color: var(--sklearn-color-unfitted-level-0);\n",
              "}\n",
              "\n",
              "#sk-container-id-1 div.sk-toggleable__content.fitted pre {\n",
              "  /* unfitted */\n",
              "  background-color: var(--sklearn-color-fitted-level-0);\n",
              "}\n",
              "\n",
              "#sk-container-id-1 input.sk-toggleable__control:checked~div.sk-toggleable__content {\n",
              "  /* Expand drop-down */\n",
              "  max-height: 200px;\n",
              "  max-width: 100%;\n",
              "  overflow: auto;\n",
              "}\n",
              "\n",
              "#sk-container-id-1 input.sk-toggleable__control:checked~label.sk-toggleable__label-arrow:before {\n",
              "  content: \"▾\";\n",
              "}\n",
              "\n",
              "/* Pipeline/ColumnTransformer-specific style */\n",
              "\n",
              "#sk-container-id-1 div.sk-label input.sk-toggleable__control:checked~label.sk-toggleable__label {\n",
              "  color: var(--sklearn-color-text);\n",
              "  background-color: var(--sklearn-color-unfitted-level-2);\n",
              "}\n",
              "\n",
              "#sk-container-id-1 div.sk-label.fitted input.sk-toggleable__control:checked~label.sk-toggleable__label {\n",
              "  background-color: var(--sklearn-color-fitted-level-2);\n",
              "}\n",
              "\n",
              "/* Estimator-specific style */\n",
              "\n",
              "/* Colorize estimator box */\n",
              "#sk-container-id-1 div.sk-estimator input.sk-toggleable__control:checked~label.sk-toggleable__label {\n",
              "  /* unfitted */\n",
              "  background-color: var(--sklearn-color-unfitted-level-2);\n",
              "}\n",
              "\n",
              "#sk-container-id-1 div.sk-estimator.fitted input.sk-toggleable__control:checked~label.sk-toggleable__label {\n",
              "  /* fitted */\n",
              "  background-color: var(--sklearn-color-fitted-level-2);\n",
              "}\n",
              "\n",
              "#sk-container-id-1 div.sk-label label.sk-toggleable__label,\n",
              "#sk-container-id-1 div.sk-label label {\n",
              "  /* The background is the default theme color */\n",
              "  color: var(--sklearn-color-text-on-default-background);\n",
              "}\n",
              "\n",
              "/* On hover, darken the color of the background */\n",
              "#sk-container-id-1 div.sk-label:hover label.sk-toggleable__label {\n",
              "  color: var(--sklearn-color-text);\n",
              "  background-color: var(--sklearn-color-unfitted-level-2);\n",
              "}\n",
              "\n",
              "/* Label box, darken color on hover, fitted */\n",
              "#sk-container-id-1 div.sk-label.fitted:hover label.sk-toggleable__label.fitted {\n",
              "  color: var(--sklearn-color-text);\n",
              "  background-color: var(--sklearn-color-fitted-level-2);\n",
              "}\n",
              "\n",
              "/* Estimator label */\n",
              "\n",
              "#sk-container-id-1 div.sk-label label {\n",
              "  font-family: monospace;\n",
              "  font-weight: bold;\n",
              "  display: inline-block;\n",
              "  line-height: 1.2em;\n",
              "}\n",
              "\n",
              "#sk-container-id-1 div.sk-label-container {\n",
              "  text-align: center;\n",
              "}\n",
              "\n",
              "/* Estimator-specific */\n",
              "#sk-container-id-1 div.sk-estimator {\n",
              "  font-family: monospace;\n",
              "  border: 1px dotted var(--sklearn-color-border-box);\n",
              "  border-radius: 0.25em;\n",
              "  box-sizing: border-box;\n",
              "  margin-bottom: 0.5em;\n",
              "  /* unfitted */\n",
              "  background-color: var(--sklearn-color-unfitted-level-0);\n",
              "}\n",
              "\n",
              "#sk-container-id-1 div.sk-estimator.fitted {\n",
              "  /* fitted */\n",
              "  background-color: var(--sklearn-color-fitted-level-0);\n",
              "}\n",
              "\n",
              "/* on hover */\n",
              "#sk-container-id-1 div.sk-estimator:hover {\n",
              "  /* unfitted */\n",
              "  background-color: var(--sklearn-color-unfitted-level-2);\n",
              "}\n",
              "\n",
              "#sk-container-id-1 div.sk-estimator.fitted:hover {\n",
              "  /* fitted */\n",
              "  background-color: var(--sklearn-color-fitted-level-2);\n",
              "}\n",
              "\n",
              "/* Specification for estimator info (e.g. \"i\" and \"?\") */\n",
              "\n",
              "/* Common style for \"i\" and \"?\" */\n",
              "\n",
              ".sk-estimator-doc-link,\n",
              "a:link.sk-estimator-doc-link,\n",
              "a:visited.sk-estimator-doc-link {\n",
              "  float: right;\n",
              "  font-size: smaller;\n",
              "  line-height: 1em;\n",
              "  font-family: monospace;\n",
              "  background-color: var(--sklearn-color-background);\n",
              "  border-radius: 1em;\n",
              "  height: 1em;\n",
              "  width: 1em;\n",
              "  text-decoration: none !important;\n",
              "  margin-left: 0.5em;\n",
              "  text-align: center;\n",
              "  /* unfitted */\n",
              "  border: var(--sklearn-color-unfitted-level-1) 1pt solid;\n",
              "  color: var(--sklearn-color-unfitted-level-1);\n",
              "}\n",
              "\n",
              ".sk-estimator-doc-link.fitted,\n",
              "a:link.sk-estimator-doc-link.fitted,\n",
              "a:visited.sk-estimator-doc-link.fitted {\n",
              "  /* fitted */\n",
              "  border: var(--sklearn-color-fitted-level-1) 1pt solid;\n",
              "  color: var(--sklearn-color-fitted-level-1);\n",
              "}\n",
              "\n",
              "/* On hover */\n",
              "div.sk-estimator:hover .sk-estimator-doc-link:hover,\n",
              ".sk-estimator-doc-link:hover,\n",
              "div.sk-label-container:hover .sk-estimator-doc-link:hover,\n",
              ".sk-estimator-doc-link:hover {\n",
              "  /* unfitted */\n",
              "  background-color: var(--sklearn-color-unfitted-level-3);\n",
              "  color: var(--sklearn-color-background);\n",
              "  text-decoration: none;\n",
              "}\n",
              "\n",
              "div.sk-estimator.fitted:hover .sk-estimator-doc-link.fitted:hover,\n",
              ".sk-estimator-doc-link.fitted:hover,\n",
              "div.sk-label-container:hover .sk-estimator-doc-link.fitted:hover,\n",
              ".sk-estimator-doc-link.fitted:hover {\n",
              "  /* fitted */\n",
              "  background-color: var(--sklearn-color-fitted-level-3);\n",
              "  color: var(--sklearn-color-background);\n",
              "  text-decoration: none;\n",
              "}\n",
              "\n",
              "/* Span, style for the box shown on hovering the info icon */\n",
              ".sk-estimator-doc-link span {\n",
              "  display: none;\n",
              "  z-index: 9999;\n",
              "  position: relative;\n",
              "  font-weight: normal;\n",
              "  right: .2ex;\n",
              "  padding: .5ex;\n",
              "  margin: .5ex;\n",
              "  width: min-content;\n",
              "  min-width: 20ex;\n",
              "  max-width: 50ex;\n",
              "  color: var(--sklearn-color-text);\n",
              "  box-shadow: 2pt 2pt 4pt #999;\n",
              "  /* unfitted */\n",
              "  background: var(--sklearn-color-unfitted-level-0);\n",
              "  border: .5pt solid var(--sklearn-color-unfitted-level-3);\n",
              "}\n",
              "\n",
              ".sk-estimator-doc-link.fitted span {\n",
              "  /* fitted */\n",
              "  background: var(--sklearn-color-fitted-level-0);\n",
              "  border: var(--sklearn-color-fitted-level-3);\n",
              "}\n",
              "\n",
              ".sk-estimator-doc-link:hover span {\n",
              "  display: block;\n",
              "}\n",
              "\n",
              "/* \"?\"-specific style due to the `<a>` HTML tag */\n",
              "\n",
              "#sk-container-id-1 a.estimator_doc_link {\n",
              "  float: right;\n",
              "  font-size: 1rem;\n",
              "  line-height: 1em;\n",
              "  font-family: monospace;\n",
              "  background-color: var(--sklearn-color-background);\n",
              "  border-radius: 1rem;\n",
              "  height: 1rem;\n",
              "  width: 1rem;\n",
              "  text-decoration: none;\n",
              "  /* unfitted */\n",
              "  color: var(--sklearn-color-unfitted-level-1);\n",
              "  border: var(--sklearn-color-unfitted-level-1) 1pt solid;\n",
              "}\n",
              "\n",
              "#sk-container-id-1 a.estimator_doc_link.fitted {\n",
              "  /* fitted */\n",
              "  border: var(--sklearn-color-fitted-level-1) 1pt solid;\n",
              "  color: var(--sklearn-color-fitted-level-1);\n",
              "}\n",
              "\n",
              "/* On hover */\n",
              "#sk-container-id-1 a.estimator_doc_link:hover {\n",
              "  /* unfitted */\n",
              "  background-color: var(--sklearn-color-unfitted-level-3);\n",
              "  color: var(--sklearn-color-background);\n",
              "  text-decoration: none;\n",
              "}\n",
              "\n",
              "#sk-container-id-1 a.estimator_doc_link.fitted:hover {\n",
              "  /* fitted */\n",
              "  background-color: var(--sklearn-color-fitted-level-3);\n",
              "}\n",
              "</style><div id=\"sk-container-id-1\" class=\"sk-top-container\"><div class=\"sk-text-repr-fallback\"><pre>LinearRegression()</pre><b>In a Jupyter environment, please rerun this cell to show the HTML representation or trust the notebook. <br />On GitHub, the HTML representation is unable to render, please try loading this page with nbviewer.org.</b></div><div class=\"sk-container\" hidden><div class=\"sk-item\"><div class=\"sk-estimator fitted sk-toggleable\"><input class=\"sk-toggleable__control sk-hidden--visually\" id=\"sk-estimator-id-1\" type=\"checkbox\" checked><label for=\"sk-estimator-id-1\" class=\"sk-toggleable__label fitted sk-toggleable__label-arrow\"><div><div>LinearRegression</div></div><div><a class=\"sk-estimator-doc-link fitted\" rel=\"noreferrer\" target=\"_blank\" href=\"https://scikit-learn.org/1.6/modules/generated/sklearn.linear_model.LinearRegression.html\">?<span>Documentation for LinearRegression</span></a><span class=\"sk-estimator-doc-link fitted\">i<span>Fitted</span></span></div></label><div class=\"sk-toggleable__content fitted\"><pre>LinearRegression()</pre></div> </div></div></div></div>"
            ]
          },
          "metadata": {},
          "execution_count": 6
        }
      ]
    },
    {
      "cell_type": "markdown",
      "source": [
        "### **Visualisasi Simple Linear Regression Model**"
      ],
      "metadata": {
        "id": "RiwSEKfXyOiV"
      }
    },
    {
      "cell_type": "code",
      "source": [
        "X_vis = np.array([0, 25]).reshape(-1, 1)\n",
        "y_vis = model.predict(X_vis)"
      ],
      "metadata": {
        "id": "_UaX9B10yTUr"
      },
      "execution_count": 7,
      "outputs": []
    },
    {
      "cell_type": "code",
      "source": [
        "plt.scatter(X, y)\n",
        "plt.plot(X_vis, y_vis, '-r')\n",
        "\n",
        "plt.title('Perbandingan Diameter dan Harga Pizza')\n",
        "plt.xlabel('Diameter (inch)')\n",
        "plt.ylabel('Harga (USD)')\n",
        "plt.xlim(0, 25)\n",
        "plt.ylim(0, 25)\n",
        "plt.grid(True)\n",
        "plt.show()"
      ],
      "metadata": {
        "colab": {
          "base_uri": "https://localhost:8080/",
          "height": 472
        },
        "id": "TkC8hbOCydpy",
        "outputId": "bd08889a-9150-4662-f7ad-e8369291b147"
      },
      "execution_count": 8,
      "outputs": [
        {
          "output_type": "display_data",
          "data": {
            "text/plain": [
              "<Figure size 640x480 with 1 Axes>"
            ],
            "image/png": "[encoded data removed]"
          },
          "metadata": {}
        }
      ]
    },
    {
      "cell_type": "markdown",
      "source": [
        "![image.png](data:image/png;base64,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)"
      ],
      "metadata": {
        "id": "RaA0K0mGV5zH"
      }
    },
    {
      "cell_type": "code",
      "source": [
        "print(f'intercept: {model.intercept_}')\n",
        "print(f'slope: {model.coef_}')"
      ],
      "metadata": {
        "colab": {
          "base_uri": "https://localhost:8080/"
        },
        "id": "N_sgc8Qq0Jdk",
        "outputId": "b1550291-a8ee-4888-a090-6584f829d215"
      },
      "execution_count": 9,
      "outputs": [
        {
          "output_type": "stream",
          "name": "stdout",
          "text": [
            "intercept: 1.965517241379315\n",
            "slope: [0.9762931]\n"
          ]
        }
      ]
    },
    {
      "cell_type": "markdown",
      "source": [
        "### **Mencari Nilai Slope**"
      ],
      "metadata": {
        "id": "cgJk2-0n4BgY"
      }
    },
    {
      "cell_type": "markdown",
      "source": [
        "![image.png](data:image/png;base64,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)"
      ],
      "metadata": {
        "id": "qpSuQV2GWGfx"
      }
    },
    {
      "cell_type": "code",
      "source": [
        "print(f'X: \\n{X}\\n')\n",
        "print(f'X flatten: {X.flatten()}\\n')\n",
        "print(f'y: {y}')"
      ],
      "metadata": {
        "colab": {
          "base_uri": "https://localhost:8080/"
        },
        "id": "wOzPfMIc4Ge2",
        "outputId": "e081cce6-1839-40a8-bab2-175c45cacf0b"
      },
      "execution_count": 10,
      "outputs": [
        {
          "output_type": "stream",
          "name": "stdout",
          "text": [
            "X: \n",
            "[[ 6]\n",
            " [ 8]\n",
            " [10]\n",
            " [14]\n",
            " [18]]\n",
            "\n",
            "X flatten: [ 6  8 10 14 18]\n",
            "\n",
            "y: [ 7.   9.  13.  17.5 18. ]\n"
          ]
        }
      ]
    },
    {
      "cell_type": "markdown",
      "source": [
        "**Variance**"
      ],
      "metadata": {
        "id": "ACdJM8444cfw"
      }
    },
    {
      "cell_type": "code",
      "source": [
        "variance_x = np.var(X.flatten(), ddof=1)\n",
        "print(f'variance: {variance_x}')"
      ],
      "metadata": {
        "colab": {
          "base_uri": "https://localhost:8080/"
        },
        "id": "J9hkm62u4eJW",
        "outputId": "ce3aba0b-869f-41a6-8835-26c31a2352a9"
      },
      "execution_count": 11,
      "outputs": [
        {
          "output_type": "stream",
          "name": "stdout",
          "text": [
            "variance: 23.2\n"
          ]
        }
      ]
    },
    {
      "cell_type": "markdown",
      "source": [
        "**Covariance**"
      ],
      "metadata": {
        "id": "3NS1Vzg95ehQ"
      }
    },
    {
      "cell_type": "code",
      "source": [
        "np.cov(X.flatten(), y)"
      ],
      "metadata": {
        "colab": {
          "base_uri": "https://localhost:8080/"
        },
        "id": "HwCUUSnC5gaO",
        "outputId": "891e9e5a-0eed-4265-e5e4-b68d591cd669"
      },
      "execution_count": 12,
      "outputs": [
        {
          "output_type": "execute_result",
          "data": {
            "text/plain": [
              "array([[23.2 , 22.65],\n",
              "       [22.65, 24.3 ]])"
            ]
          },
          "metadata": {},
          "execution_count": 12
        }
      ]
    },
    {
      "cell_type": "code",
      "source": [
        "covariance_xy = np.cov(X.flatten(), y)[0][1]\n",
        "print(f'covariance: {covariance_xy}')"
      ],
      "metadata": {
        "colab": {
          "base_uri": "https://localhost:8080/"
        },
        "id": "WDJGToyV5j8m",
        "outputId": "e78c586a-f506-4fe6-974f-262b77c80220"
      },
      "execution_count": 14,
      "outputs": [
        {
          "output_type": "stream",
          "name": "stdout",
          "text": [
            "covariance: 22.650000000000002\n"
          ]
        }
      ]
    },
    {
      "cell_type": "markdown",
      "source": [
        "**Slope**"
      ],
      "metadata": {
        "id": "Hr--tPtJ5xdO"
      }
    },
    {
      "cell_type": "code",
      "source": [
        "slope = covariance_xy / variance_x\n",
        "print(f'slope: {slope}')"
      ],
      "metadata": {
        "colab": {
          "base_uri": "https://localhost:8080/"
        },
        "id": "jj7RXCav5xDd",
        "outputId": "b78f204d-3797-4cb8-fda3-72d2b30b1b64"
      },
      "execution_count": 15,
      "outputs": [
        {
          "output_type": "stream",
          "name": "stdout",
          "text": [
            "slope: 0.976293103448276\n"
          ]
        }
      ]
    },
    {
      "cell_type": "markdown",
      "source": [
        "### **Mencari nilai Intercept**"
      ],
      "metadata": {
        "id": "vurDTi7e66oW"
      }
    },
    {
      "cell_type": "markdown",
      "source": [
        "![image.png](data:image/png;base64,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)"
      ],
      "metadata": {
        "id": "UUwTU-vqWQYV"
      }
    },
    {
      "cell_type": "code",
      "source": [
        "intercept = np.mean(y) - slope * np.mean(X)\n",
        "print(f'Intercept: {intercept}')"
      ],
      "metadata": {
        "colab": {
          "base_uri": "https://localhost:8080/"
        },
        "id": "MFiJvAWL69ZF",
        "outputId": "4884580c-c6a5-4d86-ecf9-3d517fe2cd70"
      },
      "execution_count": 16,
      "outputs": [
        {
          "output_type": "stream",
          "name": "stdout",
          "text": [
            "Intercept: 1.9655172413793096\n"
          ]
        }
      ]
    },
    {
      "cell_type": "markdown",
      "source": [
        "### **Prediksi Harga Pizza**"
      ],
      "metadata": {
        "id": "ZJZlDtE37p2Y"
      }
    },
    {
      "cell_type": "code",
      "source": [
        "diameter_pizza = np.array([12, 20, 23]).reshape(-1, 1)\n",
        "diameter_pizza"
      ],
      "metadata": {
        "colab": {
          "base_uri": "https://localhost:8080/"
        },
        "id": "83qPtK6s7uLV",
        "outputId": "dd349b8b-8f80-41df-8953-1e28fbd72c80"
      },
      "execution_count": 17,
      "outputs": [
        {
          "output_type": "execute_result",
          "data": {
            "text/plain": [
              "array([[12],\n",
              "       [20],\n",
              "       [23]])"
            ]
          },
          "metadata": {},
          "execution_count": 17
        }
      ]
    },
    {
      "cell_type": "code",
      "source": [
        "prediksi_harga = model.predict(diameter_pizza)\n",
        "prediksi_harga"
      ],
      "metadata": {
        "colab": {
          "base_uri": "https://localhost:8080/"
        },
        "id": "ccw9G9oL7uIX",
        "outputId": "c184883c-cdb5-47f6-a4c7-1c4d136610ce"
      },
      "execution_count": 18,
      "outputs": [
        {
          "output_type": "execute_result",
          "data": {
            "text/plain": [
              "array([13.68103448, 21.49137931, 24.42025862])"
            ]
          },
          "metadata": {},
          "execution_count": 18
        }
      ]
    },
    {
      "cell_type": "code",
      "source": [
        "for dmtr, hrg in zip(diameter_pizza, prediksi_harga):\n",
        "  print(f'Diameter: {dmtr} prediksi harga: {hrg}')"
      ],
      "metadata": {
        "colab": {
          "base_uri": "https://localhost:8080/"
        },
        "id": "Wf4EzVXk7tyv",
        "outputId": "ec9d257f-f649-442b-b824-f884e43c8e77"
      },
      "execution_count": 19,
      "outputs": [
        {
          "output_type": "stream",
          "name": "stdout",
          "text": [
            "Diameter: [12] prediksi harga: 13.681034482758621\n",
            "Diameter: [20] prediksi harga: 21.491379310344826\n",
            "Diameter: [23] prediksi harga: 24.42025862068965\n"
          ]
        }
      ]
    },
    {
      "cell_type": "markdown",
      "source": [
        "### **Evaluasi Simple Linear Regression Model**"
      ],
      "metadata": {
        "id": "YboN8wpk_WLe"
      }
    },
    {
      "cell_type": "markdown",
      "source": [
        "**Training & Testing Dataset**"
      ],
      "metadata": {
        "id": "WdMsGUzY_e36"
      }
    },
    {
      "cell_type": "code",
      "source": [
        "X_train = np.array([6, 8, 10, 14, 18]).reshape(-1, 1)\n",
        "y_train = np.array([7, 9, 13, 17.5, 18])\n",
        "\n",
        "X_test = np.array([8, 9, 11, 16, 12]).reshape(-1, 1)\n",
        "y_test = np.array([11, 8.5, 15, 18, 11])"
      ],
      "metadata": {
        "id": "BHDJ8lb1_aEW"
      },
      "execution_count": 20,
      "outputs": []
    },
    {
      "cell_type": "markdown",
      "source": [
        "**Training Simple Linear Regression Model**"
      ],
      "metadata": {
        "id": "2typ220u_6Au"
      }
    },
    {
      "cell_type": "code",
      "source": [
        "model = LinearRegression()\n",
        "model.fit(X_train, y_train)"
      ],
      "metadata": {
        "colab": {
          "base_uri": "https://localhost:8080/",
          "height": 80
        },
        "id": "xz3FHy0q_5zG",
        "outputId": "4d5c507f-27ab-44e4-8db6-93409adaa2a5"
      },
      "execution_count": 21,
      "outputs": [
        {
          "output_type": "execute_result",
          "data": {
            "text/plain": [
              "LinearRegression()"
            ],
            "text/html": [
              "<style>#sk-container-id-2 {\n",
              "  /* Definition of color scheme common for light and dark mode */\n",
              "  --sklearn-color-text: #000;\n",
              "  --sklearn-color-text-muted: #666;\n",
              "  --sklearn-color-line: gray;\n",
              "  /* Definition of color scheme for unfitted estimators */\n",
              "  --sklearn-color-unfitted-level-0: #fff5e6;\n",
              "  --sklearn-color-unfitted-level-1: #f6e4d2;\n",
              "  --sklearn-color-unfitted-level-2: #ffe0b3;\n",
              "  --sklearn-color-unfitted-level-3: chocolate;\n",
              "  /* Definition of color scheme for fitted estimators */\n",
              "  --sklearn-color-fitted-level-0: #f0f8ff;\n",
              "  --sklearn-color-fitted-level-1: #d4ebff;\n",
              "  --sklearn-color-fitted-level-2: #b3dbfd;\n",
              "  --sklearn-color-fitted-level-3: cornflowerblue;\n",
              "\n",
              "  /* Specific color for light theme */\n",
              "  --sklearn-color-text-on-default-background: var(--sg-text-color, var(--theme-code-foreground, var(--jp-content-font-color1, black)));\n",
              "  --sklearn-color-background: var(--sg-background-color, var(--theme-background, var(--jp-layout-color0, white)));\n",
              "  --sklearn-color-border-box: var(--sg-text-color, var(--theme-code-foreground, var(--jp-content-font-color1, black)));\n",
              "  --sklearn-color-icon: #696969;\n",
              "\n",
              "  @media (prefers-color-scheme: dark) {\n",
              "    /* Redefinition of color scheme for dark theme */\n",
              "    --sklearn-color-text-on-default-background: var(--sg-text-color, var(--theme-code-foreground, var(--jp-content-font-color1, white)));\n",
              "    --sklearn-color-background: var(--sg-background-color, var(--theme-background, var(--jp-layout-color0, #111)));\n",
              "    --sklearn-color-border-box: var(--sg-text-color, var(--theme-code-foreground, var(--jp-content-font-color1, white)));\n",
              "    --sklearn-color-icon: #878787;\n",
              "  }\n",
              "}\n",
              "\n",
              "#sk-container-id-2 {\n",
              "  color: var(--sklearn-color-text);\n",
              "}\n",
              "\n",
              "#sk-container-id-2 pre {\n",
              "  padding: 0;\n",
              "}\n",
              "\n",
              "#sk-container-id-2 input.sk-hidden--visually {\n",
              "  border: 0;\n",
              "  clip: rect(1px 1px 1px 1px);\n",
              "  clip: rect(1px, 1px, 1px, 1px);\n",
              "  height: 1px;\n",
              "  margin: -1px;\n",
              "  overflow: hidden;\n",
              "  padding: 0;\n",
              "  position: absolute;\n",
              "  width: 1px;\n",
              "}\n",
              "\n",
              "#sk-container-id-2 div.sk-dashed-wrapped {\n",
              "  border: 1px dashed var(--sklearn-color-line);\n",
              "  margin: 0 0.4em 0.5em 0.4em;\n",
              "  box-sizing: border-box;\n",
              "  padding-bottom: 0.4em;\n",
              "  background-color: var(--sklearn-color-background);\n",
              "}\n",
              "\n",
              "#sk-container-id-2 div.sk-container {\n",
              "  /* jupyter's `normalize.less` sets `[hidden] { display: none; }`\n",
              "     but bootstrap.min.css set `[hidden] { display: none !important; }`\n",
              "     so we also need the `!important` here to be able to override the\n",
              "     default hidden behavior on the sphinx rendered scikit-learn.org.\n",
              "     See: https://github.com/scikit-learn/scikit-learn/issues/21755 */\n",
              "  display: inline-block !important;\n",
              "  position: relative;\n",
              "}\n",
              "\n",
              "#sk-container-id-2 div.sk-text-repr-fallback {\n",
              "  display: none;\n",
              "}\n",
              "\n",
              "div.sk-parallel-item,\n",
              "div.sk-serial,\n",
              "div.sk-item {\n",
              "  /* draw centered vertical line to link estimators */\n",
              "  background-image: linear-gradient(var(--sklearn-color-text-on-default-background), var(--sklearn-color-text-on-default-background));\n",
              "  background-size: 2px 100%;\n",
              "  background-repeat: no-repeat;\n",
              "  background-position: center center;\n",
              "}\n",
              "\n",
              "/* Parallel-specific style estimator block */\n",
              "\n",
              "#sk-container-id-2 div.sk-parallel-item::after {\n",
              "  content: \"\";\n",
              "  width: 100%;\n",
              "  border-bottom: 2px solid var(--sklearn-color-text-on-default-background);\n",
              "  flex-grow: 1;\n",
              "}\n",
              "\n",
              "#sk-container-id-2 div.sk-parallel {\n",
              "  display: flex;\n",
              "  align-items: stretch;\n",
              "  justify-content: center;\n",
              "  background-color: var(--sklearn-color-background);\n",
              "  position: relative;\n",
              "}\n",
              "\n",
              "#sk-container-id-2 div.sk-parallel-item {\n",
              "  display: flex;\n",
              "  flex-direction: column;\n",
              "}\n",
              "\n",
              "#sk-container-id-2 div.sk-parallel-item:first-child::after {\n",
              "  align-self: flex-end;\n",
              "  width: 50%;\n",
              "}\n",
              "\n",
              "#sk-container-id-2 div.sk-parallel-item:last-child::after {\n",
              "  align-self: flex-start;\n",
              "  width: 50%;\n",
              "}\n",
              "\n",
              "#sk-container-id-2 div.sk-parallel-item:only-child::after {\n",
              "  width: 0;\n",
              "}\n",
              "\n",
              "/* Serial-specific style estimator block */\n",
              "\n",
              "#sk-container-id-2 div.sk-serial {\n",
              "  display: flex;\n",
              "  flex-direction: column;\n",
              "  align-items: center;\n",
              "  background-color: var(--sklearn-color-background);\n",
              "  padding-right: 1em;\n",
              "  padding-left: 1em;\n",
              "}\n",
              "\n",
              "\n",
              "/* Toggleable style: style used for estimator/Pipeline/ColumnTransformer box that is\n",
              "clickable and can be expanded/collapsed.\n",
              "- Pipeline and ColumnTransformer use this feature and define the default style\n",
              "- Estimators will overwrite some part of the style using the `sk-estimator` class\n",
              "*/\n",
              "\n",
              "/* Pipeline and ColumnTransformer style (default) */\n",
              "\n",
              "#sk-container-id-2 div.sk-toggleable {\n",
              "  /* Default theme specific background. It is overwritten whether we have a\n",
              "  specific estimator or a Pipeline/ColumnTransformer */\n",
              "  background-color: var(--sklearn-color-background);\n",
              "}\n",
              "\n",
              "/* Toggleable label */\n",
              "#sk-container-id-2 label.sk-toggleable__label {\n",
              "  cursor: pointer;\n",
              "  display: flex;\n",
              "  width: 100%;\n",
              "  margin-bottom: 0;\n",
              "  padding: 0.5em;\n",
              "  box-sizing: border-box;\n",
              "  text-align: center;\n",
              "  align-items: start;\n",
              "  justify-content: space-between;\n",
              "  gap: 0.5em;\n",
              "}\n",
              "\n",
              "#sk-container-id-2 label.sk-toggleable__label .caption {\n",
              "  font-size: 0.6rem;\n",
              "  font-weight: lighter;\n",
              "  color: var(--sklearn-color-text-muted);\n",
              "}\n",
              "\n",
              "#sk-container-id-2 label.sk-toggleable__label-arrow:before {\n",
              "  /* Arrow on the left of the label */\n",
              "  content: \"▸\";\n",
              "  float: left;\n",
              "  margin-right: 0.25em;\n",
              "  color: var(--sklearn-color-icon);\n",
              "}\n",
              "\n",
              "#sk-container-id-2 label.sk-toggleable__label-arrow:hover:before {\n",
              "  color: var(--sklearn-color-text);\n",
              "}\n",
              "\n",
              "/* Toggleable content - dropdown */\n",
              "\n",
              "#sk-container-id-2 div.sk-toggleable__content {\n",
              "  max-height: 0;\n",
              "  max-width: 0;\n",
              "  overflow: hidden;\n",
              "  text-align: left;\n",
              "  /* unfitted */\n",
              "  background-color: var(--sklearn-color-unfitted-level-0);\n",
              "}\n",
              "\n",
              "#sk-container-id-2 div.sk-toggleable__content.fitted {\n",
              "  /* fitted */\n",
              "  background-color: var(--sklearn-color-fitted-level-0);\n",
              "}\n",
              "\n",
              "#sk-container-id-2 div.sk-toggleable__content pre {\n",
              "  margin: 0.2em;\n",
              "  border-radius: 0.25em;\n",
              "  color: var(--sklearn-color-text);\n",
              "  /* unfitted */\n",
              "  background-color: var(--sklearn-color-unfitted-level-0);\n",
              "}\n",
              "\n",
              "#sk-container-id-2 div.sk-toggleable__content.fitted pre {\n",
              "  /* unfitted */\n",
              "  background-color: var(--sklearn-color-fitted-level-0);\n",
              "}\n",
              "\n",
              "#sk-container-id-2 input.sk-toggleable__control:checked~div.sk-toggleable__content {\n",
              "  /* Expand drop-down */\n",
              "  max-height: 200px;\n",
              "  max-width: 100%;\n",
              "  overflow: auto;\n",
              "}\n",
              "\n",
              "#sk-container-id-2 input.sk-toggleable__control:checked~label.sk-toggleable__label-arrow:before {\n",
              "  content: \"▾\";\n",
              "}\n",
              "\n",
              "/* Pipeline/ColumnTransformer-specific style */\n",
              "\n",
              "#sk-container-id-2 div.sk-label input.sk-toggleable__control:checked~label.sk-toggleable__label {\n",
              "  color: var(--sklearn-color-text);\n",
              "  background-color: var(--sklearn-color-unfitted-level-2);\n",
              "}\n",
              "\n",
              "#sk-container-id-2 div.sk-label.fitted input.sk-toggleable__control:checked~label.sk-toggleable__label {\n",
              "  background-color: var(--sklearn-color-fitted-level-2);\n",
              "}\n",
              "\n",
              "/* Estimator-specific style */\n",
              "\n",
              "/* Colorize estimator box */\n",
              "#sk-container-id-2 div.sk-estimator input.sk-toggleable__control:checked~label.sk-toggleable__label {\n",
              "  /* unfitted */\n",
              "  background-color: var(--sklearn-color-unfitted-level-2);\n",
              "}\n",
              "\n",
              "#sk-container-id-2 div.sk-estimator.fitted input.sk-toggleable__control:checked~label.sk-toggleable__label {\n",
              "  /* fitted */\n",
              "  background-color: var(--sklearn-color-fitted-level-2);\n",
              "}\n",
              "\n",
              "#sk-container-id-2 div.sk-label label.sk-toggleable__label,\n",
              "#sk-container-id-2 div.sk-label label {\n",
              "  /* The background is the default theme color */\n",
              "  color: var(--sklearn-color-text-on-default-background);\n",
              "}\n",
              "\n",
              "/* On hover, darken the color of the background */\n",
              "#sk-container-id-2 div.sk-label:hover label.sk-toggleable__label {\n",
              "  color: var(--sklearn-color-text);\n",
              "  background-color: var(--sklearn-color-unfitted-level-2);\n",
              "}\n",
              "\n",
              "/* Label box, darken color on hover, fitted */\n",
              "#sk-container-id-2 div.sk-label.fitted:hover label.sk-toggleable__label.fitted {\n",
              "  color: var(--sklearn-color-text);\n",
              "  background-color: var(--sklearn-color-fitted-level-2);\n",
              "}\n",
              "\n",
              "/* Estimator label */\n",
              "\n",
              "#sk-container-id-2 div.sk-label label {\n",
              "  font-family: monospace;\n",
              "  font-weight: bold;\n",
              "  display: inline-block;\n",
              "  line-height: 1.2em;\n",
              "}\n",
              "\n",
              "#sk-container-id-2 div.sk-label-container {\n",
              "  text-align: center;\n",
              "}\n",
              "\n",
              "/* Estimator-specific */\n",
              "#sk-container-id-2 div.sk-estimator {\n",
              "  font-family: monospace;\n",
              "  border: 1px dotted var(--sklearn-color-border-box);\n",
              "  border-radius: 0.25em;\n",
              "  box-sizing: border-box;\n",
              "  margin-bottom: 0.5em;\n",
              "  /* unfitted */\n",
              "  background-color: var(--sklearn-color-unfitted-level-0);\n",
              "}\n",
              "\n",
              "#sk-container-id-2 div.sk-estimator.fitted {\n",
              "  /* fitted */\n",
              "  background-color: var(--sklearn-color-fitted-level-0);\n",
              "}\n",
              "\n",
              "/* on hover */\n",
              "#sk-container-id-2 div.sk-estimator:hover {\n",
              "  /* unfitted */\n",
              "  background-color: var(--sklearn-color-unfitted-level-2);\n",
              "}\n",
              "\n",
              "#sk-container-id-2 div.sk-estimator.fitted:hover {\n",
              "  /* fitted */\n",
              "  background-color: var(--sklearn-color-fitted-level-2);\n",
              "}\n",
              "\n",
              "/* Specification for estimator info (e.g. \"i\" and \"?\") */\n",
              "\n",
              "/* Common style for \"i\" and \"?\" */\n",
              "\n",
              ".sk-estimator-doc-link,\n",
              "a:link.sk-estimator-doc-link,\n",
              "a:visited.sk-estimator-doc-link {\n",
              "  float: right;\n",
              "  font-size: smaller;\n",
              "  line-height: 1em;\n",
              "  font-family: monospace;\n",
              "  background-color: var(--sklearn-color-background);\n",
              "  border-radius: 1em;\n",
              "  height: 1em;\n",
              "  width: 1em;\n",
              "  text-decoration: none !important;\n",
              "  margin-left: 0.5em;\n",
              "  text-align: center;\n",
              "  /* unfitted */\n",
              "  border: var(--sklearn-color-unfitted-level-1) 1pt solid;\n",
              "  color: var(--sklearn-color-unfitted-level-1);\n",
              "}\n",
              "\n",
              ".sk-estimator-doc-link.fitted,\n",
              "a:link.sk-estimator-doc-link.fitted,\n",
              "a:visited.sk-estimator-doc-link.fitted {\n",
              "  /* fitted */\n",
              "  border: var(--sklearn-color-fitted-level-1) 1pt solid;\n",
              "  color: var(--sklearn-color-fitted-level-1);\n",
              "}\n",
              "\n",
              "/* On hover */\n",
              "div.sk-estimator:hover .sk-estimator-doc-link:hover,\n",
              ".sk-estimator-doc-link:hover,\n",
              "div.sk-label-container:hover .sk-estimator-doc-link:hover,\n",
              ".sk-estimator-doc-link:hover {\n",
              "  /* unfitted */\n",
              "  background-color: var(--sklearn-color-unfitted-level-3);\n",
              "  color: var(--sklearn-color-background);\n",
              "  text-decoration: none;\n",
              "}\n",
              "\n",
              "div.sk-estimator.fitted:hover .sk-estimator-doc-link.fitted:hover,\n",
              ".sk-estimator-doc-link.fitted:hover,\n",
              "div.sk-label-container:hover .sk-estimator-doc-link.fitted:hover,\n",
              ".sk-estimator-doc-link.fitted:hover {\n",
              "  /* fitted */\n",
              "  background-color: var(--sklearn-color-fitted-level-3);\n",
              "  color: var(--sklearn-color-background);\n",
              "  text-decoration: none;\n",
              "}\n",
              "\n",
              "/* Span, style for the box shown on hovering the info icon */\n",
              ".sk-estimator-doc-link span {\n",
              "  display: none;\n",
              "  z-index: 9999;\n",
              "  position: relative;\n",
              "  font-weight: normal;\n",
              "  right: .2ex;\n",
              "  padding: .5ex;\n",
              "  margin: .5ex;\n",
              "  width: min-content;\n",
              "  min-width: 20ex;\n",
              "  max-width: 50ex;\n",
              "  color: var(--sklearn-color-text);\n",
              "  box-shadow: 2pt 2pt 4pt #999;\n",
              "  /* unfitted */\n",
              "  background: var(--sklearn-color-unfitted-level-0);\n",
              "  border: .5pt solid var(--sklearn-color-unfitted-level-3);\n",
              "}\n",
              "\n",
              ".sk-estimator-doc-link.fitted span {\n",
              "  /* fitted */\n",
              "  background: var(--sklearn-color-fitted-level-0);\n",
              "  border: var(--sklearn-color-fitted-level-3);\n",
              "}\n",
              "\n",
              ".sk-estimator-doc-link:hover span {\n",
              "  display: block;\n",
              "}\n",
              "\n",
              "/* \"?\"-specific style due to the `<a>` HTML tag */\n",
              "\n",
              "#sk-container-id-2 a.estimator_doc_link {\n",
              "  float: right;\n",
              "  font-size: 1rem;\n",
              "  line-height: 1em;\n",
              "  font-family: monospace;\n",
              "  background-color: var(--sklearn-color-background);\n",
              "  border-radius: 1rem;\n",
              "  height: 1rem;\n",
              "  width: 1rem;\n",
              "  text-decoration: none;\n",
              "  /* unfitted */\n",
              "  color: var(--sklearn-color-unfitted-level-1);\n",
              "  border: var(--sklearn-color-unfitted-level-1) 1pt solid;\n",
              "}\n",
              "\n",
              "#sk-container-id-2 a.estimator_doc_link.fitted {\n",
              "  /* fitted */\n",
              "  border: var(--sklearn-color-fitted-level-1) 1pt solid;\n",
              "  color: var(--sklearn-color-fitted-level-1);\n",
              "}\n",
              "\n",
              "/* On hover */\n",
              "#sk-container-id-2 a.estimator_doc_link:hover {\n",
              "  /* unfitted */\n",
              "  background-color: var(--sklearn-color-unfitted-level-3);\n",
              "  color: var(--sklearn-color-background);\n",
              "  text-decoration: none;\n",
              "}\n",
              "\n",
              "#sk-container-id-2 a.estimator_doc_link.fitted:hover {\n",
              "  /* fitted */\n",
              "  background-color: var(--sklearn-color-fitted-level-3);\n",
              "}\n",
              "</style><div id=\"sk-container-id-2\" class=\"sk-top-container\"><div class=\"sk-text-repr-fallback\"><pre>LinearRegression()</pre><b>In a Jupyter environment, please rerun this cell to show the HTML representation or trust the notebook. <br />On GitHub, the HTML representation is unable to render, please try loading this page with nbviewer.org.</b></div><div class=\"sk-container\" hidden><div class=\"sk-item\"><div class=\"sk-estimator fitted sk-toggleable\"><input class=\"sk-toggleable__control sk-hidden--visually\" id=\"sk-estimator-id-2\" type=\"checkbox\" checked><label for=\"sk-estimator-id-2\" class=\"sk-toggleable__label fitted sk-toggleable__label-arrow\"><div><div>LinearRegression</div></div><div><a class=\"sk-estimator-doc-link fitted\" rel=\"noreferrer\" target=\"_blank\" href=\"https://scikit-learn.org/1.6/modules/generated/sklearn.linear_model.LinearRegression.html\">?<span>Documentation for LinearRegression</span></a><span class=\"sk-estimator-doc-link fitted\">i<span>Fitted</span></span></div></label><div class=\"sk-toggleable__content fitted\"><pre>LinearRegression()</pre></div> </div></div></div></div>"
            ]
          },
          "metadata": {},
          "execution_count": 21
        }
      ]
    },
    {
      "cell_type": "markdown",
      "source": [
        "### **Evaluasi Linear Regression Model dengan Coefficient of Determination atau R-squared (R^2)**"
      ],
      "metadata": {
        "id": "ILOlgIDtAE9v"
      }
    },
    {
      "cell_type": "markdown",
      "source": [
        "Referensi: https://en.wikipedia.org/wiki/Coefficient_of_determination"
      ],
      "metadata": {
        "id": "xERfyvzuWq2s"
      }
    },
    {
      "cell_type": "code",
      "source": [
        "from sklearn.metrics import r2_score\n",
        "\n",
        "y_pred = model.predict(X_test)\n",
        "r_squared = r2_score(y_test, y_pred)\n",
        "\n",
        "print(f'R-squared: {r_squared}')"
      ],
      "metadata": {
        "colab": {
          "base_uri": "https://localhost:8080/"
        },
        "id": "DY5BuBCvQDOy",
        "outputId": "2f7d6114-bf3b-413f-ae57-7315c305c567"
      },
      "execution_count": 22,
      "outputs": [
        {
          "output_type": "stream",
          "name": "stdout",
          "text": [
            "R-squared: 0.6620052929422553\n"
          ]
        }
      ]
    },
    {
      "cell_type": "markdown",
      "source": [
        "### **Mencari nilai R-squared (R^2)**"
      ],
      "metadata": {
        "id": "Nl8Nz1-EQybZ"
      }
    },
    {
      "cell_type": "markdown",
      "source": [
        "![image.png](data:image/png;base64,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)"
      ],
      "metadata": {
        "id": "sKgw23alW2ma"
      }
    },
    {
      "cell_type": "markdown",
      "source": [
        "**SSres**"
      ],
      "metadata": {
        "id": "vUTVQvxiRqXj"
      }
    },
    {
      "cell_type": "code",
      "source": [
        "ss_res = sum([(y_i - model.predict(x_i.reshape(-1, 1))[0]) **2\n",
        "              for x_i, y_i in zip(X_test, y_test)])\n",
        "print(f'ss_res: {ss_res}')"
      ],
      "metadata": {
        "colab": {
          "base_uri": "https://localhost:8080/"
        },
        "id": "iJI2M9I2Q65j",
        "outputId": "e05e737a-8867-45f2-f946-47579e4cdae2"
      },
      "execution_count": 23,
      "outputs": [
        {
          "output_type": "stream",
          "name": "stdout",
          "text": [
            "ss_res: 19.1980993608799\n"
          ]
        }
      ]
    },
    {
      "cell_type": "markdown",
      "source": [
        "**SStot**"
      ],
      "metadata": {
        "id": "wqIzA9nLRtlW"
      }
    },
    {
      "cell_type": "code",
      "source": [
        "mean_y = np.mean(y_test)\n",
        "ss_tot = sum([(y_i - mean_y)**2 for y_i in y_test])\n",
        "\n",
        "print(f'ss_tot: {ss_tot}')"
      ],
      "metadata": {
        "colab": {
          "base_uri": "https://localhost:8080/"
        },
        "id": "sw7g0g63Rwcl",
        "outputId": "9f697c22-d9d4-437d-9ced-b1a58f50021c"
      },
      "execution_count": 25,
      "outputs": [
        {
          "output_type": "stream",
          "name": "stdout",
          "text": [
            "ss_tot: 56.8\n"
          ]
        }
      ]
    },
    {
      "cell_type": "markdown",
      "source": [
        "**R^2**"
      ],
      "metadata": {
        "id": "12lyzEQoSFJV"
      }
    },
    {
      "cell_type": "code",
      "source": [
        "r_squared = 1 - (ss_res / ss_tot)\n",
        "print(f'R-squared: {r_squared}')"
      ],
      "metadata": {
        "colab": {
          "base_uri": "https://localhost:8080/"
        },
        "id": "nLBJWl2bSIqt",
        "outputId": "7f738e8d-a1f9-4595-ad72-a206c5c63052"
      },
      "execution_count": 26,
      "outputs": [
        {
          "output_type": "stream",
          "name": "stdout",
          "text": [
            "R-squared: 0.6620052929422553\n"
          ]
        }
      ]
    }
  ]
}