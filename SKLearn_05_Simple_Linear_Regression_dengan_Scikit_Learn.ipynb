{
  "nbformat": 4,
  "nbformat_minor": 0,
  "metadata": {
    "colab": {
      "provenance": [],
      "authorship_tag": "ABX9TyMu4N79SDVPhMuGxTpWp1nO",
      "include_colab_link": true
    },
    "kernelspec": {
      "name": "python3",
      "display_name": "Python 3"
    },
    "language_info": {
      "name": "python"
    }
  },
  "cells": [
    {
      "cell_type": "markdown",
      "metadata": {
        "id": "view-in-github",
        "colab_type": "text"
      },
      "source": [
        "<a href=\"https://colab.research.google.com/github/LatiefDataVisionary/scikit-learn-with-indonesia-belajar/blob/main/SKLearn_05_Simple_Linear_Regression_dengan_Scikit_Learn.ipynb\" target=\"_parent\"><img src=\"https://colab.research.google.com/assets/colab-badge.svg\" alt=\"Open In Colab\"/></a>"
      ]
    },
    {
      "cell_type": "markdown",
      "source": [
        "## **SKLearn 05: Simple Linear Regression dengan Scikit-Learn | Belajar Machine Learning Dasar**\n"
      ],
      "metadata": {
        "id": "vrwuMHyP9ari"
      }
    },
    {
      "cell_type": "markdown",
      "source": [
        "### **Sample Dataset**"
      ],
      "metadata": {
        "id": "HEVlNAW2tbg-"
      }
    },
    {
      "cell_type": "code",
      "execution_count": 1,
      "metadata": {
        "id": "Jc9FX6a19XTo",
        "colab": {
          "base_uri": "https://localhost:8080/",
          "height": 206
        },
        "outputId": "505638da-6b0a-4114-d8b1-226af5f96381"
      },
      "outputs": [
        {
          "output_type": "execute_result",
          "data": {
            "text/plain": [
              "   diameter  harga\n",
              "0         6    7.0\n",
              "1         8    9.0\n",
              "2        10   13.0\n",
              "3        14   17.5\n",
              "4        18   18.0"
            ],
            "text/html": [
              "\n",
              "  <div id=\"df-937d6bda-7004-4f37-a742-a81e506f4204\" class=\"colab-df-container\">\n",
              "    <div>\n",
              "<style scoped>\n",
              "    .dataframe tbody tr th:only-of-type {\n",
              "        vertical-align: middle;\n",
              "    }\n",
              "\n",
              "    .dataframe tbody tr th {\n",
              "        vertical-align: top;\n",
              "    }\n",
              "\n",
              "    .dataframe thead th {\n",
              "        text-align: right;\n",
              "    }\n",
              "</style>\n",
              "<table border=\"1\" class=\"dataframe\">\n",
              "  <thead>\n",
              "    <tr style=\"text-align: right;\">\n",
              "      <th></th>\n",
              "      <th>diameter</th>\n",
              "      <th>harga</th>\n",
              "    </tr>\n",
              "  </thead>\n",
              "  <tbody>\n",
              "    <tr>\n",
              "      <th>0</th>\n",
              "      <td>6</td>\n",
              "      <td>7.0</td>\n",
              "    </tr>\n",
              "    <tr>\n",
              "      <th>1</th>\n",
              "      <td>8</td>\n",
              "      <td>9.0</td>\n",
              "    </tr>\n",
              "    <tr>\n",
              "      <th>2</th>\n",
              "      <td>10</td>\n",
              "      <td>13.0</td>\n",
              "    </tr>\n",
              "    <tr>\n",
              "      <th>3</th>\n",
              "      <td>14</td>\n",
              "      <td>17.5</td>\n",
              "    </tr>\n",
              "    <tr>\n",
              "      <th>4</th>\n",
              "      <td>18</td>\n",
              "      <td>18.0</td>\n",
              "    </tr>\n",
              "  </tbody>\n",
              "</table>\n",
              "</div>\n",
              "    <div class=\"colab-df-buttons\">\n",
              "\n",
              "  <div class=\"colab-df-container\">\n",
              "    <button class=\"colab-df-convert\" onclick=\"convertToInteractive('df-937d6bda-7004-4f37-a742-a81e506f4204')\"\n",
              "            title=\"Convert this dataframe to an interactive table.\"\n",
              "            style=\"display:none;\">\n",
              "\n",
              "  <svg xmlns=\"http://www.w3.org/2000/svg\" height=\"24px\" viewBox=\"0 -960 960 960\">\n",
              "    <path d=\"M120-120v-720h720v720H120Zm60-500h600v-160H180v160Zm220 220h160v-160H400v160Zm0 220h160v-160H400v160ZM180-400h160v-160H180v160Zm440 0h160v-160H620v160ZM180-180h160v-160H180v160Zm440 0h160v-160H620v160Z\"/>\n",
              "  </svg>\n",
              "    </button>\n",
              "\n",
              "  <style>\n",
              "    .colab-df-container {\n",
              "      display:flex;\n",
              "      gap: 12px;\n",
              "    }\n",
              "\n",
              "    .colab-df-convert {\n",
              "      background-color: #E8F0FE;\n",
              "      border: none;\n",
              "      border-radius: 50%;\n",
              "      cursor: pointer;\n",
              "      display: none;\n",
              "      fill: #1967D2;\n",
              "      height: 32px;\n",
              "      padding: 0 0 0 0;\n",
              "      width: 32px;\n",
              "    }\n",
              "\n",
              "    .colab-df-convert:hover {\n",
              "      background-color: #E2EBFA;\n",
              "      box-shadow: 0px 1px 2px rgba(60, 64, 67, 0.3), 0px 1px 3px 1px rgba(60, 64, 67, 0.15);\n",
              "      fill: #174EA6;\n",
              "    }\n",
              "\n",
              "    .colab-df-buttons div {\n",
              "      margin-bottom: 4px;\n",
              "    }\n",
              "\n",
              "    [theme=dark] .colab-df-convert {\n",
              "      background-color: #3B4455;\n",
              "      fill: #D2E3FC;\n",
              "    }\n",
              "\n",
              "    [theme=dark] .colab-df-convert:hover {\n",
              "      background-color: #434B5C;\n",
              "      box-shadow: 0px 1px 3px 1px rgba(0, 0, 0, 0.15);\n",
              "      filter: drop-shadow(0px 1px 2px rgba(0, 0, 0, 0.3));\n",
              "      fill: #FFFFFF;\n",
              "    }\n",
              "  </style>\n",
              "\n",
              "    <script>\n",
              "      const buttonEl =\n",
              "        document.querySelector('#df-937d6bda-7004-4f37-a742-a81e506f4204 button.colab-df-convert');\n",
              "      buttonEl.style.display =\n",
              "        google.colab.kernel.accessAllowed ? 'block' : 'none';\n",
              "\n",
              "      async function convertToInteractive(key) {\n",
              "        const element = document.querySelector('#df-937d6bda-7004-4f37-a742-a81e506f4204');\n",
              "        const dataTable =\n",
              "          await google.colab.kernel.invokeFunction('convertToInteractive',\n",
              "                                                    [key], {});\n",
              "        if (!dataTable) return;\n",
              "\n",
              "        const docLinkHtml = 'Like what you see? Visit the ' +\n",
              "          '<a target=\"_blank\" href=https://colab.research.google.com/notebooks/data_table.ipynb>data table notebook</a>'\n",
              "          + ' to learn more about interactive tables.';\n",
              "        element.innerHTML = '';\n",
              "        dataTable['output_type'] = 'display_data';\n",
              "        await google.colab.output.renderOutput(dataTable, element);\n",
              "        const docLink = document.createElement('div');\n",
              "        docLink.innerHTML = docLinkHtml;\n",
              "        element.appendChild(docLink);\n",
              "      }\n",
              "    </script>\n",
              "  </div>\n",
              "\n",
              "\n",
              "<div id=\"df-ff04498e-3330-46d3-ad08-79c36cd0b2be\">\n",
              "  <button class=\"colab-df-quickchart\" onclick=\"quickchart('df-ff04498e-3330-46d3-ad08-79c36cd0b2be')\"\n",
              "            title=\"Suggest charts\"\n",
              "            style=\"display:none;\">\n",
              "\n",
              "<svg xmlns=\"http://www.w3.org/2000/svg\" height=\"24px\"viewBox=\"0 0 24 24\"\n",
              "     width=\"24px\">\n",
              "    <g>\n",
              "        <path d=\"M19 3H5c-1.1 0-2 .9-2 2v14c0 1.1.9 2 2 2h14c1.1 0 2-.9 2-2V5c0-1.1-.9-2-2-2zM9 17H7v-7h2v7zm4 0h-2V7h2v10zm4 0h-2v-4h2v4z\"/>\n",
              "    </g>\n",
              "</svg>\n",
              "  </button>\n",
              "\n",
              "<style>\n",
              "  .colab-df-quickchart {\n",
              "      --bg-color: #E8F0FE;\n",
              "      --fill-color: #1967D2;\n",
              "      --hover-bg-color: #E2EBFA;\n",
              "      --hover-fill-color: #174EA6;\n",
              "      --disabled-fill-color: #AAA;\n",
              "      --disabled-bg-color: #DDD;\n",
              "  }\n",
              "\n",
              "  [theme=dark] .colab-df-quickchart {\n",
              "      --bg-color: #3B4455;\n",
              "      --fill-color: #D2E3FC;\n",
              "      --hover-bg-color: #434B5C;\n",
              "      --hover-fill-color: #FFFFFF;\n",
              "      --disabled-bg-color: #3B4455;\n",
              "      --disabled-fill-color: #666;\n",
              "  }\n",
              "\n",
              "  .colab-df-quickchart {\n",
              "    background-color: var(--bg-color);\n",
              "    border: none;\n",
              "    border-radius: 50%;\n",
              "    cursor: pointer;\n",
              "    display: none;\n",
              "    fill: var(--fill-color);\n",
              "    height: 32px;\n",
              "    padding: 0;\n",
              "    width: 32px;\n",
              "  }\n",
              "\n",
              "  .colab-df-quickchart:hover {\n",
              "    background-color: var(--hover-bg-color);\n",
              "    box-shadow: 0 1px 2px rgba(60, 64, 67, 0.3), 0 1px 3px 1px rgba(60, 64, 67, 0.15);\n",
              "    fill: var(--button-hover-fill-color);\n",
              "  }\n",
              "\n",
              "  .colab-df-quickchart-complete:disabled,\n",
              "  .colab-df-quickchart-complete:disabled:hover {\n",
              "    background-color: var(--disabled-bg-color);\n",
              "    fill: var(--disabled-fill-color);\n",
              "    box-shadow: none;\n",
              "  }\n",
              "\n",
              "  .colab-df-spinner {\n",
              "    border: 2px solid var(--fill-color);\n",
              "    border-color: transparent;\n",
              "    border-bottom-color: var(--fill-color);\n",
              "    animation:\n",
              "      spin 1s steps(1) infinite;\n",
              "  }\n",
              "\n",
              "  @keyframes spin {\n",
              "    0% {\n",
              "      border-color: transparent;\n",
              "      border-bottom-color: var(--fill-color);\n",
              "      border-left-color: var(--fill-color);\n",
              "    }\n",
              "    20% {\n",
              "      border-color: transparent;\n",
              "      border-left-color: var(--fill-color);\n",
              "      border-top-color: var(--fill-color);\n",
              "    }\n",
              "    30% {\n",
              "      border-color: transparent;\n",
              "      border-left-color: var(--fill-color);\n",
              "      border-top-color: var(--fill-color);\n",
              "      border-right-color: var(--fill-color);\n",
              "    }\n",
              "    40% {\n",
              "      border-color: transparent;\n",
              "      border-right-color: var(--fill-color);\n",
              "      border-top-color: var(--fill-color);\n",
              "    }\n",
              "    60% {\n",
              "      border-color: transparent;\n",
              "      border-right-color: var(--fill-color);\n",
              "    }\n",
              "    80% {\n",
              "      border-color: transparent;\n",
              "      border-right-color: var(--fill-color);\n",
              "      border-bottom-color: var(--fill-color);\n",
              "    }\n",
              "    90% {\n",
              "      border-color: transparent;\n",
              "      border-bottom-color: var(--fill-color);\n",
              "    }\n",
              "  }\n",
              "</style>\n",
              "\n",
              "  <script>\n",
              "    async function quickchart(key) {\n",
              "      const quickchartButtonEl =\n",
              "        document.querySelector('#' + key + ' button');\n",
              "      quickchartButtonEl.disabled = true;  // To prevent multiple clicks.\n",
              "      quickchartButtonEl.classList.add('colab-df-spinner');\n",
              "      try {\n",
              "        const charts = await google.colab.kernel.invokeFunction(\n",
              "            'suggestCharts', [key], {});\n",
              "      } catch (error) {\n",
              "        console.error('Error during call to suggestCharts:', error);\n",
              "      }\n",
              "      quickchartButtonEl.classList.remove('colab-df-spinner');\n",
              "      quickchartButtonEl.classList.add('colab-df-quickchart-complete');\n",
              "    }\n",
              "    (() => {\n",
              "      let quickchartButtonEl =\n",
              "        document.querySelector('#df-ff04498e-3330-46d3-ad08-79c36cd0b2be button');\n",
              "      quickchartButtonEl.style.display =\n",
              "        google.colab.kernel.accessAllowed ? 'block' : 'none';\n",
              "    })();\n",
              "  </script>\n",
              "</div>\n",
              "\n",
              "  <div id=\"id_710070ad-7d74-4002-aad0-f05f8688147c\">\n",
              "    <style>\n",
              "      .colab-df-generate {\n",
              "        background-color: #E8F0FE;\n",
              "        border: none;\n",
              "        border-radius: 50%;\n",
              "        cursor: pointer;\n",
              "        display: none;\n",
              "        fill: #1967D2;\n",
              "        height: 32px;\n",
              "        padding: 0 0 0 0;\n",
              "        width: 32px;\n",
              "      }\n",
              "\n",
              "      .colab-df-generate:hover {\n",
              "        background-color: #E2EBFA;\n",
              "        box-shadow: 0px 1px 2px rgba(60, 64, 67, 0.3), 0px 1px 3px 1px rgba(60, 64, 67, 0.15);\n",
              "        fill: #174EA6;\n",
              "      }\n",
              "\n",
              "      [theme=dark] .colab-df-generate {\n",
              "        background-color: #3B4455;\n",
              "        fill: #D2E3FC;\n",
              "      }\n",
              "\n",
              "      [theme=dark] .colab-df-generate:hover {\n",
              "        background-color: #434B5C;\n",
              "        box-shadow: 0px 1px 3px 1px rgba(0, 0, 0, 0.15);\n",
              "        filter: drop-shadow(0px 1px 2px rgba(0, 0, 0, 0.3));\n",
              "        fill: #FFFFFF;\n",
              "      }\n",
              "    </style>\n",
              "    <button class=\"colab-df-generate\" onclick=\"generateWithVariable('pizza_df')\"\n",
              "            title=\"Generate code using this dataframe.\"\n",
              "            style=\"display:none;\">\n",
              "\n",
              "  <svg xmlns=\"http://www.w3.org/2000/svg\" height=\"24px\"viewBox=\"0 0 24 24\"\n",
              "       width=\"24px\">\n",
              "    <path d=\"M7,19H8.4L18.45,9,17,7.55,7,17.6ZM5,21V16.75L18.45,3.32a2,2,0,0,1,2.83,0l1.4,1.43a1.91,1.91,0,0,1,.58,1.4,1.91,1.91,0,0,1-.58,1.4L9.25,21ZM18.45,9,17,7.55Zm-12,3A5.31,5.31,0,0,0,4.9,8.1,5.31,5.31,0,0,0,1,6.5,5.31,5.31,0,0,0,4.9,4.9,5.31,5.31,0,0,0,6.5,1,5.31,5.31,0,0,0,8.1,4.9,5.31,5.31,0,0,0,12,6.5,5.46,5.46,0,0,0,6.5,12Z\"/>\n",
              "  </svg>\n",
              "    </button>\n",
              "    <script>\n",
              "      (() => {\n",
              "      const buttonEl =\n",
              "        document.querySelector('#id_710070ad-7d74-4002-aad0-f05f8688147c button.colab-df-generate');\n",
              "      buttonEl.style.display =\n",
              "        google.colab.kernel.accessAllowed ? 'block' : 'none';\n",
              "\n",
              "      buttonEl.onclick = () => {\n",
              "        google.colab.notebook.generateWithVariable('pizza_df');\n",
              "      }\n",
              "      })();\n",
              "    </script>\n",
              "  </div>\n",
              "\n",
              "    </div>\n",
              "  </div>\n"
            ],
            "application/vnd.google.colaboratory.intrinsic+json": {
              "type": "dataframe",
              "variable_name": "pizza_df",
              "summary": "{\n  \"name\": \"pizza_df\",\n  \"rows\": 5,\n  \"fields\": [\n    {\n      \"column\": \"diameter\",\n      \"properties\": {\n        \"dtype\": \"number\",\n        \"std\": 4,\n        \"min\": 6,\n        \"max\": 18,\n        \"num_unique_values\": 5,\n        \"samples\": [\n          8,\n          18,\n          10\n        ],\n        \"semantic_type\": \"\",\n        \"description\": \"\"\n      }\n    },\n    {\n      \"column\": \"harga\",\n      \"properties\": {\n        \"dtype\": \"number\",\n        \"std\": 4.9295030175464944,\n        \"min\": 7.0,\n        \"max\": 18.0,\n        \"num_unique_values\": 5,\n        \"samples\": [\n          9.0,\n          18.0,\n          13.0\n        ],\n        \"semantic_type\": \"\",\n        \"description\": \"\"\n      }\n    }\n  ]\n}"
            }
          },
          "metadata": {},
          "execution_count": 1
        }
      ],
      "source": [
        "import pandas as pd\n",
        "\n",
        "pizza = {'diameter': [6,8,10,14,18],\n",
        "         'harga': [7,9,13,17.5,18]}\n",
        "\n",
        "pizza_df = pd.DataFrame(pizza)\n",
        "pizza_df"
      ]
    },
    {
      "cell_type": "markdown",
      "source": [
        "### **Visualisasi Data**"
      ],
      "metadata": {
        "id": "U4wg-LHxuKAc"
      }
    },
    {
      "cell_type": "code",
      "source": [
        "import matplotlib.pyplot as plt\n",
        "\n",
        "pizza_df.plot(kind='scatter', x='diameter', y='harga')\n",
        "\n",
        "plt.title('Perbandingan Diameter dan Harga Pizza')\n",
        "plt.xlabel('Diameter (inch)')\n",
        "plt.ylabel('Harga (USD)')\n",
        "plt.xlim(0, 25)\n",
        "plt.ylim(0, 25)\n",
        "plt.grid(True)\n",
        "plt.show()"
      ],
      "metadata": {
        "colab": {
          "base_uri": "https://localhost:8080/",
          "height": 472
        },
        "id": "Owd5hGYMuM8V",
        "outputId": "3866638a-91ac-4d6b-b772-d04ad387f465"
      },
      "execution_count": 2,
      "outputs": [
        {
          "output_type": "display_data",
          "data": {
            "text/plain": [
              "<Figure size 640x480 with 1 Axes>"
            ],
            "image/png": "[encoded data removed]"
          },
          "metadata": {}
        }
      ]
    },
    {
      "cell_type": "markdown",
      "source": [
        "### **Simple Linear Regression**"
      ],
      "metadata": {
        "id": "KalLXmXIwAqd"
      }
    },
    {
      "cell_type": "markdown",
      "source": [
        "**Penyesuaian Dataset**"
      ],
      "metadata": {
        "id": "gZne66TQwImZ"
      }
    },
    {
      "cell_type": "code",
      "source": [
        "import numpy as np\n",
        "\n",
        "X = np.array(pizza_df['diameter'])\n",
        "y = np.array(pizza_df['harga'])\n",
        "\n",
        "print(f'X: {X}')\n",
        "print(f'y: {y}')"
      ],
      "metadata": {
        "colab": {
          "base_uri": "https://localhost:8080/"
        },
        "id": "8CqrlVjwwERZ",
        "outputId": "d81ce266-dda7-44f7-d857-daa49f111c10"
      },
      "execution_count": 3,
      "outputs": [
        {
          "output_type": "stream",
          "name": "stdout",
          "text": [
            "X: [ 6  8 10 14 18]\n",
            "y: [ 7.   9.  13.  17.5 18. ]\n"
          ]
        }
      ]
    },
    {
      "cell_type": "code",
      "source": [
        "X = X.reshape(-1, 1)\n",
        "X.shape"
      ],
      "metadata": {
        "colab": {
          "base_uri": "https://localhost:8080/"
        },
        "id": "7tcxii_iwegX",
        "outputId": "12a53b76-f62a-4c7d-dad6-cd455c674c83"
      },
      "execution_count": 4,
      "outputs": [
        {
          "output_type": "execute_result",
          "data": {
            "text/plain": [
              "(5, 1)"
            ]
          },
          "metadata": {},
          "execution_count": 4
        }
      ]
    },
    {
      "cell_type": "code",
      "source": [
        "X"
      ],
      "metadata": {
        "colab": {
          "base_uri": "https://localhost:8080/"
        },
        "id": "QA1LSFTJw_U3",
        "outputId": "1d9b917f-2176-47b6-a10f-cda8535e4446"
      },
      "execution_count": 5,
      "outputs": [
        {
          "output_type": "execute_result",
          "data": {
            "text/plain": [
              "array([[ 6],\n",
              "       [ 8],\n",
              "       [10],\n",
              "       [14],\n",
              "       [18]])"
            ]
          },
          "metadata": {},
          "execution_count": 5
        }
      ]
    },
    {
      "cell_type": "markdown",
      "source": [
        "**Training Simple Linear Regression Model**"
      ],
      "metadata": {
        "id": "xIDesZ3OxdZ0"
      }
    },
    {
      "cell_type": "code",
      "source": [
        "from sklearn.linear_model import LinearRegression\n",
        "\n",
        "model = LinearRegression()\n",
        "model.fit(X, y)"
      ],
      "metadata": {
        "colab": {
          "base_uri": "https://localhost:8080/",
          "height": 80
        },
        "id": "TzRFabkFxhV6",
        "outputId": "779695b1-3ae3-4410-d523-dce7da60056d"
      },
      "execution_count": 6,
      "outputs": [
        {
          "output_type": "execute_result",
          "data": {
            "text/plain": [
              "LinearRegression()"
            ],
            "text/html": [
              "<style>#sk-container-id-1 {\n",
              "  /* Definition of color scheme common for light and dark mode */\n",
              "  --sklearn-color-text: #000;\n",
              "  --sklearn-color-text-muted: #666;\n",
              "  --sklearn-color-line: gray;\n",
              "  /* Definition of color scheme for unfitted estimators */\n",
              "  --sklearn-color-unfitted-level-0: #fff5e6;\n",
              "  --sklearn-color-unfitted-level-1: #f6e4d2;\n",
              "  --sklearn-color-unfitted-level-2: #ffe0b3;\n",
              "  --sklearn-color-unfitted-level-3: chocolate;\n",
              "  /* Definition of color scheme for fitted estimators */\n",
              "  --sklearn-color-fitted-level-0: #f0f8ff;\n",
              "  --sklearn-color-fitted-level-1: #d4ebff;\n",
              "  --sklearn-color-fitted-level-2: #b3dbfd;\n",
              "  --sklearn-color-fitted-level-3: cornflowerblue;\n",
              "\n",
              "  /* Specific color for light theme */\n",
              "  --sklearn-color-text-on-default-background: var(--sg-text-color, var(--theme-code-foreground, var(--jp-content-font-color1, black)));\n",
              "  --sklearn-color-background: var(--sg-background-color, var(--theme-background, var(--jp-layout-color0, white)));\n",
              "  --sklearn-color-border-box: var(--sg-text-color, var(--theme-code-foreground, var(--jp-content-font-color1, black)));\n",
              "  --sklearn-color-icon: #696969;\n",
              "\n",
              "  @media (prefers-color-scheme: dark) {\n",
              "    /* Redefinition of color scheme for dark theme */\n",
              "    --sklearn-color-text-on-default-background: var(--sg-text-color, var(--theme-code-foreground, var(--jp-content-font-color1, white)));\n",
              "    --sklearn-color-background: var(--sg-background-color, var(--theme-background, var(--jp-layout-color0, #111)));\n",
              "    --sklearn-color-border-box: var(--sg-text-color, var(--theme-code-foreground, var(--jp-content-font-color1, white)));\n",
              "    --sklearn-color-icon: #878787;\n",
              "  }\n",
              "}\n",
              "\n",
              "#sk-container-id-1 {\n",
              "  color: var(--sklearn-color-text);\n",
              "}\n",
              "\n",
              "#sk-container-id-1 pre {\n",
              "  padding: 0;\n",
              "}\n",
              "\n",
              "#sk-container-id-1 input.sk-hidden--visually {\n",
              "  border: 0;\n",
              "  clip: rect(1px 1px 1px 1px);\n",
              "  clip: rect(1px, 1px, 1px, 1px);\n",
              "  height: 1px;\n",
              "  margin: -1px;\n",
              "  overflow: hidden;\n",
              "  padding: 0;\n",
              "  position: absolute;\n",
              "  width: 1px;\n",
              "}\n",
              "\n",
              "#sk-container-id-1 div.sk-dashed-wrapped {\n",
              "  border: 1px dashed var(--sklearn-color-line);\n",
              "  margin: 0 0.4em 0.5em 0.4em;\n",
              "  box-sizing: border-box;\n",
              "  padding-bottom: 0.4em;\n",
              "  background-color: var(--sklearn-color-background);\n",
              "}\n",
              "\n",
              "#sk-container-id-1 div.sk-container {\n",
              "  /* jupyter's `normalize.less` sets `[hidden] { display: none; }`\n",
              "     but bootstrap.min.css set `[hidden] { display: none !important; }`\n",
              "     so we also need the `!important` here to be able to override the\n",
              "     default hidden behavior on the sphinx rendered scikit-learn.org.\n",
              "     See: https://github.com/scikit-learn/scikit-learn/issues/21755 */\n",
              "  display: inline-block !important;\n",
              "  position: relative;\n",
              "}\n",
              "\n",
              "#sk-container-id-1 div.sk-text-repr-fallback {\n",
              "  display: none;\n",
              "}\n",
              "\n",
              "div.sk-parallel-item,\n",
              "div.sk-serial,\n",
              "div.sk-item {\n",
              "  /* draw centered vertical line to link estimators */\n",
              "  background-image: linear-gradient(var(--sklearn-color-text-on-default-background), var(--sklearn-color-text-on-default-background));\n",
              "  background-size: 2px 100%;\n",
              "  background-repeat: no-repeat;\n",
              "  background-position: center center;\n",
              "}\n",
              "\n",
              "/* Parallel-specific style estimator block */\n",
              "\n",
              "#sk-container-id-1 div.sk-parallel-item::after {\n",
              "  content: \"\";\n",
              "  width: 100%;\n",
              "  border-bottom: 2px solid var(--sklearn-color-text-on-default-background);\n",
              "  flex-grow: 1;\n",
              "}\n",
              "\n",
              "#sk-container-id-1 div.sk-parallel {\n",
              "  display: flex;\n",
              "  align-items: stretch;\n",
              "  justify-content: center;\n",
              "  background-color: var(--sklearn-color-background);\n",
              "  position: relative;\n",
              "}\n",
              "\n",
              "#sk-container-id-1 div.sk-parallel-item {\n",
              "  display: flex;\n",
              "  flex-direction: column;\n",
              "}\n",
              "\n",
              "#sk-container-id-1 div.sk-parallel-item:first-child::after {\n",
              "  align-self: flex-end;\n",
              "  width: 50%;\n",
              "}\n",
              "\n",
              "#sk-container-id-1 div.sk-parallel-item:last-child::after {\n",
              "  align-self: flex-start;\n",
              "  width: 50%;\n",
              "}\n",
              "\n",
              "#sk-container-id-1 div.sk-parallel-item:only-child::after {\n",
              "  width: 0;\n",
              "}\n",
              "\n",
              "/* Serial-specific style estimator block */\n",
              "\n",
              "#sk-container-id-1 div.sk-serial {\n",
              "  display: flex;\n",
              "  flex-direction: column;\n",
              "  align-items: center;\n",
              "  background-color: var(--sklearn-color-background);\n",
              "  padding-right: 1em;\n",
              "  padding-left: 1em;\n",
              "}\n",
              "\n",
              "\n",
              "/* Toggleable style: style used for estimator/Pipeline/ColumnTransformer box that is\n",
              "clickable and can be expanded/collapsed.\n",
              "- Pipeline and ColumnTransformer use this feature and define the default style\n",
              "- Estimators will overwrite some part of the style using the `sk-estimator` class\n",
              "*/\n",
              "\n",
              "/* Pipeline and ColumnTransformer style (default) */\n",
              "\n",
              "#sk-container-id-1 div.sk-toggleable {\n",
              "  /* Default theme specific background. It is overwritten whether we have a\n",
              "  specific estimator or a Pipeline/ColumnTransformer */\n",
              "  background-color: var(--sklearn-color-background);\n",
              "}\n",
              "\n",
              "/* Toggleable label */\n",
              "#sk-container-id-1 label.sk-toggleable__label {\n",
              "  cursor: pointer;\n",
              "  display: flex;\n",
              "  width: 100%;\n",
              "  margin-bottom: 0;\n",
              "  padding: 0.5em;\n",
              "  box-sizing: border-box;\n",
              "  text-align: center;\n",
              "  align-items: start;\n",
              "  justify-content: space-between;\n",
              "  gap: 0.5em;\n",
              "}\n",
              "\n",
              "#sk-container-id-1 label.sk-toggleable__label .caption {\n",
              "  font-size: 0.6rem;\n",
              "  font-weight: lighter;\n",
              "  color: var(--sklearn-color-text-muted);\n",
              "}\n",
              "\n",
              "#sk-container-id-1 label.sk-toggleable__label-arrow:before {\n",
              "  /* Arrow on the left of the label */\n",
              "  content: \"▸\";\n",
              "  float: left;\n",
              "  margin-right: 0.25em;\n",
              "  color: var(--sklearn-color-icon);\n",
              "}\n",
              "\n",
              "#sk-container-id-1 label.sk-toggleable__label-arrow:hover:before {\n",
              "  color: var(--sklearn-color-text);\n",
              "}\n",
              "\n",
              "/* Toggleable content - dropdown */\n",
              "\n",
              "#sk-container-id-1 div.sk-toggleable__content {\n",
              "  max-height: 0;\n",
              "  max-width: 0;\n",
              "  overflow: hidden;\n",
              "  text-align: left;\n",
              "  /* unfitted */\n",
              "  background-color: var(--sklearn-color-unfitted-level-0);\n",
              "}\n",
              "\n",
              "#sk-container-id-1 div.sk-toggleable__content.fitted {\n",
              "  /* fitted */\n",
              "  background-color: var(--sklearn-color-fitted-level-0);\n",
              "}\n",
              "\n",
              "#sk-container-id-1 div.sk-toggleable__content pre {\n",
              "  margin: 0.2em;\n",
              "  border-radius: 0.25em;\n",
              "  color: var(--sklearn-color-text);\n",
              "  /* unfitted */\n",
              "  background-color: var(--sklearn-color-unfitted-level-0);\n",
              "}\n",
              "\n",
              "#sk-container-id-1 div.sk-toggleable__content.fitted pre {\n",
              "  /* unfitted */\n",
              "  background-color: var(--sklearn-color-fitted-level-0);\n",
              "}\n",
              "\n",
              "#sk-container-id-1 input.sk-toggleable__control:checked~div.sk-toggleable__content {\n",
              "  /* Expand drop-down */\n",
              "  max-height: 200px;\n",
              "  max-width: 100%;\n",
              "  overflow: auto;\n",
              "}\n",
              "\n",
              "#sk-container-id-1 input.sk-toggleable__control:checked~label.sk-toggleable__label-arrow:before {\n",
              "  content: \"▾\";\n",
              "}\n",
              "\n",
              "/* Pipeline/ColumnTransformer-specific style */\n",
              "\n",
              "#sk-container-id-1 div.sk-label input.sk-toggleable__control:checked~label.sk-toggleable__label {\n",
              "  color: var(--sklearn-color-text);\n",
              "  background-color: var(--sklearn-color-unfitted-level-2);\n",
              "}\n",
              "\n",
              "#sk-container-id-1 div.sk-label.fitted input.sk-toggleable__control:checked~label.sk-toggleable__label {\n",
              "  background-color: var(--sklearn-color-fitted-level-2);\n",
              "}\n",
              "\n",
              "/* Estimator-specific style */\n",
              "\n",
              "/* Colorize estimator box */\n",
              "#sk-container-id-1 div.sk-estimator input.sk-toggleable__control:checked~label.sk-toggleable__label {\n",
              "  /* unfitted */\n",
              "  background-color: var(--sklearn-color-unfitted-level-2);\n",
              "}\n",
              "\n",
              "#sk-container-id-1 div.sk-estimator.fitted input.sk-toggleable__control:checked~label.sk-toggleable__label {\n",
              "  /* fitted */\n",
              "  background-color: var(--sklearn-color-fitted-level-2);\n",
              "}\n",
              "\n",
              "#sk-container-id-1 div.sk-label label.sk-toggleable__label,\n",
              "#sk-container-id-1 div.sk-label label {\n",
              "  /* The background is the default theme color */\n",
              "  color: var(--sklearn-color-text-on-default-background);\n",
              "}\n",
              "\n",
              "/* On hover, darken the color of the background */\n",
              "#sk-container-id-1 div.sk-label:hover label.sk-toggleable__label {\n",
              "  color: var(--sklearn-color-text);\n",
              "  background-color: var(--sklearn-color-unfitted-level-2);\n",
              "}\n",
              "\n",
              "/* Label box, darken color on hover, fitted */\n",
              "#sk-container-id-1 div.sk-label.fitted:hover label.sk-toggleable__label.fitted {\n",
              "  color: var(--sklearn-color-text);\n",
              "  background-color: var(--sklearn-color-fitted-level-2);\n",
              "}\n",
              "\n",
              "/* Estimator label */\n",
              "\n",
              "#sk-container-id-1 div.sk-label label {\n",
              "  font-family: monospace;\n",
              "  font-weight: bold;\n",
              "  display: inline-block;\n",
              "  line-height: 1.2em;\n",
              "}\n",
              "\n",
              "#sk-container-id-1 div.sk-label-container {\n",
              "  text-align: center;\n",
              "}\n",
              "\n",
              "/* Estimator-specific */\n",
              "#sk-container-id-1 div.sk-estimator {\n",
              "  font-family: monospace;\n",
              "  border: 1px dotted var(--sklearn-color-border-box);\n",
              "  border-radius: 0.25em;\n",
              "  box-sizing: border-box;\n",
              "  margin-bottom: 0.5em;\n",
              "  /* unfitted */\n",
              "  background-color: var(--sklearn-color-unfitted-level-0);\n",
              "}\n",
              "\n",
              "#sk-container-id-1 div.sk-estimator.fitted {\n",
              "  /* fitted */\n",
              "  background-color: var(--sklearn-color-fitted-level-0);\n",
              "}\n",
              "\n",
              "/* on hover */\n",
              "#sk-container-id-1 div.sk-estimator:hover {\n",
              "  /* unfitted */\n",
              "  background-color: var(--sklearn-color-unfitted-level-2);\n",
              "}\n",
              "\n",
              "#sk-container-id-1 div.sk-estimator.fitted:hover {\n",
              "  /* fitted */\n",
              "  background-color: var(--sklearn-color-fitted-level-2);\n",
              "}\n",
              "\n",
              "/* Specification for estimator info (e.g. \"i\" and \"?\") */\n",
              "\n",
              "/* Common style for \"i\" and \"?\" */\n",
              "\n",
              ".sk-estimator-doc-link,\n",
              "a:link.sk-estimator-doc-link,\n",
              "a:visited.sk-estimator-doc-link {\n",
              "  float: right;\n",
              "  font-size: smaller;\n",
              "  line-height: 1em;\n",
              "  font-family: monospace;\n",
              "  background-color: var(--sklearn-color-background);\n",
              "  border-radius: 1em;\n",
              "  height: 1em;\n",
              "  width: 1em;\n",
              "  text-decoration: none !important;\n",
              "  margin-left: 0.5em;\n",
              "  text-align: center;\n",
              "  /* unfitted */\n",
              "  border: var(--sklearn-color-unfitted-level-1) 1pt solid;\n",
              "  color: var(--sklearn-color-unfitted-level-1);\n",
              "}\n",
              "\n",
              ".sk-estimator-doc-link.fitted,\n",
              "a:link.sk-estimator-doc-link.fitted,\n",
              "a:visited.sk-estimator-doc-link.fitted {\n",
              "  /* fitted */\n",
              "  border: var(--sklearn-color-fitted-level-1) 1pt solid;\n",
              "  color: var(--sklearn-color-fitted-level-1);\n",
              "}\n",
              "\n",
              "/* On hover */\n",
              "div.sk-estimator:hover .sk-estimator-doc-link:hover,\n",
              ".sk-estimator-doc-link:hover,\n",
              "div.sk-label-container:hover .sk-estimator-doc-link:hover,\n",
              ".sk-estimator-doc-link:hover {\n",
              "  /* unfitted */\n",
              "  background-color: var(--sklearn-color-unfitted-level-3);\n",
              "  color: var(--sklearn-color-background);\n",
              "  text-decoration: none;\n",
              "}\n",
              "\n",
              "div.sk-estimator.fitted:hover .sk-estimator-doc-link.fitted:hover,\n",
              ".sk-estimator-doc-link.fitted:hover,\n",
              "div.sk-label-container:hover .sk-estimator-doc-link.fitted:hover,\n",
              ".sk-estimator-doc-link.fitted:hover {\n",
              "  /* fitted */\n",
              "  background-color: var(--sklearn-color-fitted-level-3);\n",
              "  color: var(--sklearn-color-background);\n",
              "  text-decoration: none;\n",
              "}\n",
              "\n",
              "/* Span, style for the box shown on hovering the info icon */\n",
              ".sk-estimator-doc-link span {\n",
              "  display: none;\n",
              "  z-index: 9999;\n",
              "  position: relative;\n",
              "  font-weight: normal;\n",
              "  right: .2ex;\n",
              "  padding: .5ex;\n",
              "  margin: .5ex;\n",
              "  width: min-content;\n",
              "  min-width: 20ex;\n",
              "  max-width: 50ex;\n",
              "  color: var(--sklearn-color-text);\n",
              "  box-shadow: 2pt 2pt 4pt #999;\n",
              "  /* unfitted */\n",
              "  background: var(--sklearn-color-unfitted-level-0);\n",
              "  border: .5pt solid var(--sklearn-color-unfitted-level-3);\n",
              "}\n",
              "\n",
              ".sk-estimator-doc-link.fitted span {\n",
              "  /* fitted */\n",
              "  background: var(--sklearn-color-fitted-level-0);\n",
              "  border: var(--sklearn-color-fitted-level-3);\n",
              "}\n",
              "\n",
              ".sk-estimator-doc-link:hover span {\n",
              "  display: block;\n",
              "}\n",
              "\n",
              "/* \"?\"-specific style due to the `<a>` HTML tag */\n",
              "\n",
              "#sk-container-id-1 a.estimator_doc_link {\n",
              "  float: right;\n",
              "  font-size: 1rem;\n",
              "  line-height: 1em;\n",
              "  font-family: monospace;\n",
              "  background-color: var(--sklearn-color-background);\n",
              "  border-radius: 1rem;\n",
              "  height: 1rem;\n",
              "  width: 1rem;\n",
              "  text-decoration: none;\n",
              "  /* unfitted */\n",
              "  color: var(--sklearn-color-unfitted-level-1);\n",
              "  border: var(--sklearn-color-unfitted-level-1) 1pt solid;\n",
              "}\n",
              "\n",
              "#sk-container-id-1 a.estimator_doc_link.fitted {\n",
              "  /* fitted */\n",
              "  border: var(--sklearn-color-fitted-level-1) 1pt solid;\n",
              "  color: var(--sklearn-color-fitted-level-1);\n",
              "}\n",
              "\n",
              "/* On hover */\n",
              "#sk-container-id-1 a.estimator_doc_link:hover {\n",
              "  /* unfitted */\n",
              "  background-color: var(--sklearn-color-unfitted-level-3);\n",
              "  color: var(--sklearn-color-background);\n",
              "  text-decoration: none;\n",
              "}\n",
              "\n",
              "#sk-container-id-1 a.estimator_doc_link.fitted:hover {\n",
              "  /* fitted */\n",
              "  background-color: var(--sklearn-color-fitted-level-3);\n",
              "}\n",
              "</style><div id=\"sk-container-id-1\" class=\"sk-top-container\"><div class=\"sk-text-repr-fallback\"><pre>LinearRegression()</pre><b>In a Jupyter environment, please rerun this cell to show the HTML representation or trust the notebook. <br />On GitHub, the HTML representation is unable to render, please try loading this page with nbviewer.org.</b></div><div class=\"sk-container\" hidden><div class=\"sk-item\"><div class=\"sk-estimator fitted sk-toggleable\"><input class=\"sk-toggleable__control sk-hidden--visually\" id=\"sk-estimator-id-1\" type=\"checkbox\" checked><label for=\"sk-estimator-id-1\" class=\"sk-toggleable__label fitted sk-toggleable__label-arrow\"><div><div>LinearRegression</div></div><div><a class=\"sk-estimator-doc-link fitted\" rel=\"noreferrer\" target=\"_blank\" href=\"https://scikit-learn.org/1.6/modules/generated/sklearn.linear_model.LinearRegression.html\">?<span>Documentation for LinearRegression</span></a><span class=\"sk-estimator-doc-link fitted\">i<span>Fitted</span></span></div></label><div class=\"sk-toggleable__content fitted\"><pre>LinearRegression()</pre></div> </div></div></div></div>"
            ]
          },
          "metadata": {},
          "execution_count": 6
        }
      ]
    },
    {
      "cell_type": "markdown",
      "source": [
        "### **Visualisasi Simple Linear Regression Model**"
      ],
      "metadata": {
        "id": "RiwSEKfXyOiV"
      }
    },
    {
      "cell_type": "code",
      "source": [
        "X_vis = np.array([0, 25]).reshape(-1, 1)\n",
        "y_vis = model.predict(X_vis)"
      ],
      "metadata": {
        "id": "_UaX9B10yTUr"
      },
      "execution_count": 7,
      "outputs": []
    },
    {
      "cell_type": "code",
      "source": [
        "plt.scatter(X, y)\n",
        "plt.plot(X_vis, y_vis, '-r')\n",
        "\n",
        "plt.title('Perbandingan Diameter dan Harga Pizza')\n",
        "plt.xlabel('Diameter (inch)')\n",
        "plt.ylabel('Harga (USD)')\n",
        "plt.xlim(0, 25)\n",
        "plt.ylim(0, 25)\n",
        "plt.grid(True)\n",
        "plt.show()"
      ],
      "metadata": {
        "colab": {
          "base_uri": "https://localhost:8080/",
          "height": 472
        },
        "id": "TkC8hbOCydpy",
        "outputId": "bd08889a-9150-4662-f7ad-e8369291b147"
      },
      "execution_count": 8,
      "outputs": [
        {
          "output_type": "display_data",
          "data": {
            "text/plain": [
              "<Figure size 640x480 with 1 Axes>"
            ],
            "image/png": "[encoded data removed]"
          },
          "metadata": {}
        }
      ]
    },
    {
      "cell_type": "code",
      "source": [
        "print(f'intercept: {model.intercept_}')\n",
        "print(f'slope: {model.coef_}')"
      ],
      "metadata": {
        "colab": {
          "base_uri": "https://localhost:8080/"
        },
        "id": "N_sgc8Qq0Jdk",
        "outputId": "b1550291-a8ee-4888-a090-6584f829d215"
      },
      "execution_count": 9,
      "outputs": [
        {
          "output_type": "stream",
          "name": "stdout",
          "text": [
            "intercept: 1.965517241379315\n",
            "slope: [0.9762931]\n"
          ]
        }
      ]
    },
    {
      "cell_type": "markdown",
      "source": [
        "### **Mencari Nilai Slope**"
      ],
      "metadata": {
        "id": "cgJk2-0n4BgY"
      }
    },
    {
      "cell_type": "code",
      "source": [
        "print(f'X: \\n{X}\\n')\n",
        "print(f'X flatten: {X.flatten()}\\n')\n",
        "print(f'y: {y}')"
      ],
      "metadata": {
        "colab": {
          "base_uri": "https://localhost:8080/"
        },
        "id": "wOzPfMIc4Ge2",
        "outputId": "e081cce6-1839-40a8-bab2-175c45cacf0b"
      },
      "execution_count": 10,
      "outputs": [
        {
          "output_type": "stream",
          "name": "stdout",
          "text": [
            "X: \n",
            "[[ 6]\n",
            " [ 8]\n",
            " [10]\n",
            " [14]\n",
            " [18]]\n",
            "\n",
            "X flatten: [ 6  8 10 14 18]\n",
            "\n",
            "y: [ 7.   9.  13.  17.5 18. ]\n"
          ]
        }
      ]
    },
    {
      "cell_type": "markdown",
      "source": [
        "**Variance**"
      ],
      "metadata": {
        "id": "ACdJM8444cfw"
      }
    },
    {
      "cell_type": "code",
      "source": [
        "variance_x = np.var(X.flatten(), ddof=1)\n",
        "print(f'variance: {variance_x}')"
      ],
      "metadata": {
        "colab": {
          "base_uri": "https://localhost:8080/"
        },
        "id": "J9hkm62u4eJW",
        "outputId": "ce3aba0b-869f-41a6-8835-26c31a2352a9"
      },
      "execution_count": 11,
      "outputs": [
        {
          "output_type": "stream",
          "name": "stdout",
          "text": [
            "variance: 23.2\n"
          ]
        }
      ]
    },
    {
      "cell_type": "markdown",
      "source": [
        "**Covariance**"
      ],
      "metadata": {
        "id": "3NS1Vzg95ehQ"
      }
    },
    {
      "cell_type": "code",
      "source": [
        "np.cov(X.flatten(), y)"
      ],
      "metadata": {
        "colab": {
          "base_uri": "https://localhost:8080/"
        },
        "id": "HwCUUSnC5gaO",
        "outputId": "891e9e5a-0eed-4265-e5e4-b68d591cd669"
      },
      "execution_count": 12,
      "outputs": [
        {
          "output_type": "execute_result",
          "data": {
            "text/plain": [
              "array([[23.2 , 22.65],\n",
              "       [22.65, 24.3 ]])"
            ]
          },
          "metadata": {},
          "execution_count": 12
        }
      ]
    },
    {
      "cell_type": "code",
      "source": [
        "covariance_xy = np.cov(X.flatten(), y)[0][1]\n",
        "print(f'covariance: {covariance_xy}')"
      ],
      "metadata": {
        "colab": {
          "base_uri": "https://localhost:8080/"
        },
        "id": "WDJGToyV5j8m",
        "outputId": "e78c586a-f506-4fe6-974f-262b77c80220"
      },
      "execution_count": 14,
      "outputs": [
        {
          "output_type": "stream",
          "name": "stdout",
          "text": [
            "covariance: 22.650000000000002\n"
          ]
        }
      ]
    },
    {
      "cell_type": "markdown",
      "source": [
        "**Slope**"
      ],
      "metadata": {
        "id": "Hr--tPtJ5xdO"
      }
    },
    {
      "cell_type": "code",
      "source": [
        "slope = covariance_xy / variance_x\n",
        "print(f'slope: {slope}')"
      ],
      "metadata": {
        "colab": {
          "base_uri": "https://localhost:8080/"
        },
        "id": "jj7RXCav5xDd",
        "outputId": "b78f204d-3797-4cb8-fda3-72d2b30b1b64"
      },
      "execution_count": 15,
      "outputs": [
        {
          "output_type": "stream",
          "name": "stdout",
          "text": [
            "slope: 0.976293103448276\n"
          ]
        }
      ]
    },
    {
      "cell_type": "markdown",
      "source": [
        "### **Mencari nilai Intercept**"
      ],
      "metadata": {
        "id": "vurDTi7e66oW"
      }
    },
    {
      "cell_type": "code",
      "source": [
        "intercept = np.mean(y) - slope * np.mean(X)\n",
        "print(f'Intercept: {intercept}')"
      ],
      "metadata": {
        "colab": {
          "base_uri": "https://localhost:8080/"
        },
        "id": "MFiJvAWL69ZF",
        "outputId": "4884580c-c6a5-4d86-ecf9-3d517fe2cd70"
      },
      "execution_count": 16,
      "outputs": [
        {
          "output_type": "stream",
          "name": "stdout",
          "text": [
            "Intercept: 1.9655172413793096\n"
          ]
        }
      ]
    },
    {
      "cell_type": "markdown",
      "source": [
        "### **Prediksi Harga Pizza**"
      ],
      "metadata": {
        "id": "ZJZlDtE37p2Y"
      }
    },
    {
      "cell_type": "code",
      "source": [
        "diameter_pizza = np.array([12, 20, 23]).reshape(-1, 1)\n",
        "diameter_pizza"
      ],
      "metadata": {
        "colab": {
          "base_uri": "https://localhost:8080/"
        },
        "id": "83qPtK6s7uLV",
        "outputId": "dd349b8b-8f80-41df-8953-1e28fbd72c80"
      },
      "execution_count": 17,
      "outputs": [
        {
          "output_type": "execute_result",
          "data": {
            "text/plain": [
              "array([[12],\n",
              "       [20],\n",
              "       [23]])"
            ]
          },
          "metadata": {},
          "execution_count": 17
        }
      ]
    },
    {
      "cell_type": "code",
      "source": [
        "prediksi_harga = model.predict(diameter_pizza)\n",
        "prediksi_harga"
      ],
      "metadata": {
        "colab": {
          "base_uri": "https://localhost:8080/"
        },
        "id": "ccw9G9oL7uIX",
        "outputId": "c184883c-cdb5-47f6-a4c7-1c4d136610ce"
      },
      "execution_count": 18,
      "outputs": [
        {
          "output_type": "execute_result",
          "data": {
            "text/plain": [
              "array([13.68103448, 21.49137931, 24.42025862])"
            ]
          },
          "metadata": {},
          "execution_count": 18
        }
      ]
    },
    {
      "cell_type": "code",
      "source": [
        "for dmtr, hrg in zip(diameter_pizza, prediksi_harga):\n",
        "  print(f'Diameter: {dmtr} prediksi harga: {hrg}')"
      ],
      "metadata": {
        "colab": {
          "base_uri": "https://localhost:8080/"
        },
        "id": "Wf4EzVXk7tyv",
        "outputId": "ec9d257f-f649-442b-b824-f884e43c8e77"
      },
      "execution_count": 19,
      "outputs": [
        {
          "output_type": "stream",
          "name": "stdout",
          "text": [
            "Diameter: [12] prediksi harga: 13.681034482758621\n",
            "Diameter: [20] prediksi harga: 21.491379310344826\n",
            "Diameter: [23] prediksi harga: 24.42025862068965\n"
          ]
        }
      ]
    },
    {
      "cell_type": "markdown",
      "source": [
        "### **Evaluasi Simple Linear Regression Model**"
      ],
      "metadata": {
        "id": "YboN8wpk_WLe"
      }
    },
    {
      "cell_type": "markdown",
      "source": [
        "**Training & Testing Dataset**"
      ],
      "metadata": {
        "id": "WdMsGUzY_e36"
      }
    },
    {
      "cell_type": "code",
      "source": [
        "X_train = np.array([6, 8, 10, 14, 18]).reshape(-1, 1)\n",
        "y_train = np.array([7, 9, 13, 17.5, 18])\n",
        "\n",
        "X_test = np.array([8, 9, 11, 16, 12]).reshape(-1, 1)\n",
        "y_test = np.array([11, 8.5, 15, 18, 11])"
      ],
      "metadata": {
        "id": "BHDJ8lb1_aEW"
      },
      "execution_count": 20,
      "outputs": []
    },
    {
      "cell_type": "markdown",
      "source": [
        "**Training Simple Linear Regression Model**"
      ],
      "metadata": {
        "id": "2typ220u_6Au"
      }
    },
    {
      "cell_type": "code",
      "source": [
        "model = LinearRegression()\n",
        "model.fit(X_train, y_train)"
      ],
      "metadata": {
        "colab": {
          "base_uri": "https://localhost:8080/",
          "height": 80
        },
        "id": "xz3FHy0q_5zG",
        "outputId": "4d5c507f-27ab-44e4-8db6-93409adaa2a5"
      },
      "execution_count": 21,
      "outputs": [
        {
          "output_type": "execute_result",
          "data": {
            "text/plain": [
              "LinearRegression()"
            ],
            "text/html": [
              "<style>#sk-container-id-2 {\n",
              "  /* Definition of color scheme common for light and dark mode */\n",
              "  --sklearn-color-text: #000;\n",
              "  --sklearn-color-text-muted: #666;\n",
              "  --sklearn-color-line: gray;\n",
              "  /* Definition of color scheme for unfitted estimators */\n",
              "  --sklearn-color-unfitted-level-0: #fff5e6;\n",
              "  --sklearn-color-unfitted-level-1: #f6e4d2;\n",
              "  --sklearn-color-unfitted-level-2: #ffe0b3;\n",
              "  --sklearn-color-unfitted-level-3: chocolate;\n",
              "  /* Definition of color scheme for fitted estimators */\n",
              "  --sklearn-color-fitted-level-0: #f0f8ff;\n",
              "  --sklearn-color-fitted-level-1: #d4ebff;\n",
              "  --sklearn-color-fitted-level-2: #b3dbfd;\n",
              "  --sklearn-color-fitted-level-3: cornflowerblue;\n",
              "\n",
              "  /* Specific color for light theme */\n",
              "  --sklearn-color-text-on-default-background: var(--sg-text-color, var(--theme-code-foreground, var(--jp-content-font-color1, black)));\n",
              "  --sklearn-color-background: var(--sg-background-color, var(--theme-background, var(--jp-layout-color0, white)));\n",
              "  --sklearn-color-border-box: var(--sg-text-color, var(--theme-code-foreground, var(--jp-content-font-color1, black)));\n",
              "  --sklearn-color-icon: #696969;\n",
              "\n",
              "  @media (prefers-color-scheme: dark) {\n",
              "    /* Redefinition of color scheme for dark theme */\n",
              "    --sklearn-color-text-on-default-background: var(--sg-text-color, var(--theme-code-foreground, var(--jp-content-font-color1, white)));\n",
              "    --sklearn-color-background: var(--sg-background-color, var(--theme-background, var(--jp-layout-color0, #111)));\n",
              "    --sklearn-color-border-box: var(--sg-text-color, var(--theme-code-foreground, var(--jp-content-font-color1, white)));\n",
              "    --sklearn-color-icon: #878787;\n",
              "  }\n",
              "}\n",
              "\n",
              "#sk-container-id-2 {\n",
              "  color: var(--sklearn-color-text);\n",
              "}\n",
              "\n",
              "#sk-container-id-2 pre {\n",
              "  padding: 0;\n",
              "}\n",
              "\n",
              "#sk-container-id-2 input.sk-hidden--visually {\n",
              "  border: 0;\n",
              "  clip: rect(1px 1px 1px 1px);\n",
              "  clip: rect(1px, 1px, 1px, 1px);\n",
              "  height: 1px;\n",
              "  margin: -1px;\n",
              "  overflow: hidden;\n",
              "  padding: 0;\n",
              "  position: absolute;\n",
              "  width: 1px;\n",
              "}\n",
              "\n",
              "#sk-container-id-2 div.sk-dashed-wrapped {\n",
              "  border: 1px dashed var(--sklearn-color-line);\n",
              "  margin: 0 0.4em 0.5em 0.4em;\n",
              "  box-sizing: border-box;\n",
              "  padding-bottom: 0.4em;\n",
              "  background-color: var(--sklearn-color-background);\n",
              "}\n",
              "\n",
              "#sk-container-id-2 div.sk-container {\n",
              "  /* jupyter's `normalize.less` sets `[hidden] { display: none; }`\n",
              "     but bootstrap.min.css set `[hidden] { display: none !important; }`\n",
              "     so we also need the `!important` here to be able to override the\n",
              "     default hidden behavior on the sphinx rendered scikit-learn.org.\n",
              "     See: https://github.com/scikit-learn/scikit-learn/issues/21755 */\n",
              "  display: inline-block !important;\n",
              "  position: relative;\n",
              "}\n",
              "\n",
              "#sk-container-id-2 div.sk-text-repr-fallback {\n",
              "  display: none;\n",
              "}\n",
              "\n",
              "div.sk-parallel-item,\n",
              "div.sk-serial,\n",
              "div.sk-item {\n",
              "  /* draw centered vertical line to link estimators */\n",
              "  background-image: linear-gradient(var(--sklearn-color-text-on-default-background), var(--sklearn-color-text-on-default-background));\n",
              "  background-size: 2px 100%;\n",
              "  background-repeat: no-repeat;\n",
              "  background-position: center center;\n",
              "}\n",
              "\n",
              "/* Parallel-specific style estimator block */\n",
              "\n",
              "#sk-container-id-2 div.sk-parallel-item::after {\n",
              "  content: \"\";\n",
              "  width: 100%;\n",
              "  border-bottom: 2px solid var(--sklearn-color-text-on-default-background);\n",
              "  flex-grow: 1;\n",
              "}\n",
              "\n",
              "#sk-container-id-2 div.sk-parallel {\n",
              "  display: flex;\n",
              "  align-items: stretch;\n",
              "  justify-content: center;\n",
              "  background-color: var(--sklearn-color-background);\n",
              "  position: relative;\n",
              "}\n",
              "\n",
              "#sk-container-id-2 div.sk-parallel-item {\n",
              "  display: flex;\n",
              "  flex-direction: column;\n",
              "}\n",
              "\n",
              "#sk-container-id-2 div.sk-parallel-item:first-child::after {\n",
              "  align-self: flex-end;\n",
              "  width: 50%;\n",
              "}\n",
              "\n",
              "#sk-container-id-2 div.sk-parallel-item:last-child::after {\n",
              "  align-self: flex-start;\n",
              "  width: 50%;\n",
              "}\n",
              "\n",
              "#sk-container-id-2 div.sk-parallel-item:only-child::after {\n",
              "  width: 0;\n",
              "}\n",
              "\n",
              "/* Serial-specific style estimator block */\n",
              "\n",
              "#sk-container-id-2 div.sk-serial {\n",
              "  display: flex;\n",
              "  flex-direction: column;\n",
              "  align-items: center;\n",
              "  background-color: var(--sklearn-color-background);\n",
              "  padding-right: 1em;\n",
              "  padding-left: 1em;\n",
              "}\n",
              "\n",
              "\n",
              "/* Toggleable style: style used for estimator/Pipeline/ColumnTransformer box that is\n",
              "clickable and can be expanded/collapsed.\n",
              "- Pipeline and ColumnTransformer use this feature and define the default style\n",
              "- Estimators will overwrite some part of the style using the `sk-estimator` class\n",
              "*/\n",
              "\n",
              "/* Pipeline and ColumnTransformer style (default) */\n",
              "\n",
              "#sk-container-id-2 div.sk-toggleable {\n",
              "  /* Default theme specific background. It is overwritten whether we have a\n",
              "  specific estimator or a Pipeline/ColumnTransformer */\n",
              "  background-color: var(--sklearn-color-background);\n",
              "}\n",
              "\n",
              "/* Toggleable label */\n",
              "#sk-container-id-2 label.sk-toggleable__label {\n",
              "  cursor: pointer;\n",
              "  display: flex;\n",
              "  width: 100%;\n",
              "  margin-bottom: 0;\n",
              "  padding: 0.5em;\n",
              "  box-sizing: border-box;\n",
              "  text-align: center;\n",
              "  align-items: start;\n",
              "  justify-content: space-between;\n",
              "  gap: 0.5em;\n",
              "}\n",
              "\n",
              "#sk-container-id-2 label.sk-toggleable__label .caption {\n",
              "  font-size: 0.6rem;\n",
              "  font-weight: lighter;\n",
              "  color: var(--sklearn-color-text-muted);\n",
              "}\n",
              "\n",
              "#sk-container-id-2 label.sk-toggleable__label-arrow:before {\n",
              "  /* Arrow on the left of the label */\n",
              "  content: \"▸\";\n",
              "  float: left;\n",
              "  margin-right: 0.25em;\n",
              "  color: var(--sklearn-color-icon);\n",
              "}\n",
              "\n",
              "#sk-container-id-2 label.sk-toggleable__label-arrow:hover:before {\n",
              "  color: var(--sklearn-color-text);\n",
              "}\n",
              "\n",
              "/* Toggleable content - dropdown */\n",
              "\n",
              "#sk-container-id-2 div.sk-toggleable__content {\n",
              "  max-height: 0;\n",
              "  max-width: 0;\n",
              "  overflow: hidden;\n",
              "  text-align: left;\n",
              "  /* unfitted */\n",
              "  background-color: var(--sklearn-color-unfitted-level-0);\n",
              "}\n",
              "\n",
              "#sk-container-id-2 div.sk-toggleable__content.fitted {\n",
              "  /* fitted */\n",
              "  background-color: var(--sklearn-color-fitted-level-0);\n",
              "}\n",
              "\n",
              "#sk-container-id-2 div.sk-toggleable__content pre {\n",
              "  margin: 0.2em;\n",
              "  border-radius: 0.25em;\n",
              "  color: var(--sklearn-color-text);\n",
              "  /* unfitted */\n",
              "  background-color: var(--sklearn-color-unfitted-level-0);\n",
              "}\n",
              "\n",
              "#sk-container-id-2 div.sk-toggleable__content.fitted pre {\n",
              "  /* unfitted */\n",
              "  background-color: var(--sklearn-color-fitted-level-0);\n",
              "}\n",
              "\n",
              "#sk-container-id-2 input.sk-toggleable__control:checked~div.sk-toggleable__content {\n",
              "  /* Expand drop-down */\n",
              "  max-height: 200px;\n",
              "  max-width: 100%;\n",
              "  overflow: auto;\n",
              "}\n",
              "\n",
              "#sk-container-id-2 input.sk-toggleable__control:checked~label.sk-toggleable__label-arrow:before {\n",
              "  content: \"▾\";\n",
              "}\n",
              "\n",
              "/* Pipeline/ColumnTransformer-specific style */\n",
              "\n",
              "#sk-container-id-2 div.sk-label input.sk-toggleable__control:checked~label.sk-toggleable__label {\n",
              "  color: var(--sklearn-color-text);\n",
              "  background-color: var(--sklearn-color-unfitted-level-2);\n",
              "}\n",
              "\n",
              "#sk-container-id-2 div.sk-label.fitted input.sk-toggleable__control:checked~label.sk-toggleable__label {\n",
              "  background-color: var(--sklearn-color-fitted-level-2);\n",
              "}\n",
              "\n",
              "/* Estimator-specific style */\n",
              "\n",
              "/* Colorize estimator box */\n",
              "#sk-container-id-2 div.sk-estimator input.sk-toggleable__control:checked~label.sk-toggleable__label {\n",
              "  /* unfitted */\n",
              "  background-color: var(--sklearn-color-unfitted-level-2);\n",
              "}\n",
              "\n",
              "#sk-container-id-2 div.sk-estimator.fitted input.sk-toggleable__control:checked~label.sk-toggleable__label {\n",
              "  /* fitted */\n",
              "  background-color: var(--sklearn-color-fitted-level-2);\n",
              "}\n",
              "\n",
              "#sk-container-id-2 div.sk-label label.sk-toggleable__label,\n",
              "#sk-container-id-2 div.sk-label label {\n",
              "  /* The background is the default theme color */\n",
              "  color: var(--sklearn-color-text-on-default-background);\n",
              "}\n",
              "\n",
              "/* On hover, darken the color of the background */\n",
              "#sk-container-id-2 div.sk-label:hover label.sk-toggleable__label {\n",
              "  color: var(--sklearn-color-text);\n",
              "  background-color: var(--sklearn-color-unfitted-level-2);\n",
              "}\n",
              "\n",
              "/* Label box, darken color on hover, fitted */\n",
              "#sk-container-id-2 div.sk-label.fitted:hover label.sk-toggleable__label.fitted {\n",
              "  color: var(--sklearn-color-text);\n",
              "  background-color: var(--sklearn-color-fitted-level-2);\n",
              "}\n",
              "\n",
              "/* Estimator label */\n",
              "\n",
              "#sk-container-id-2 div.sk-label label {\n",
              "  font-family: monospace;\n",
              "  font-weight: bold;\n",
              "  display: inline-block;\n",
              "  line-height: 1.2em;\n",
              "}\n",
              "\n",
              "#sk-container-id-2 div.sk-label-container {\n",
              "  text-align: center;\n",
              "}\n",
              "\n",
              "/* Estimator-specific */\n",
              "#sk-container-id-2 div.sk-estimator {\n",
              "  font-family: monospace;\n",
              "  border: 1px dotted var(--sklearn-color-border-box);\n",
              "  border-radius: 0.25em;\n",
              "  box-sizing: border-box;\n",
              "  margin-bottom: 0.5em;\n",
              "  /* unfitted */\n",
              "  background-color: var(--sklearn-color-unfitted-level-0);\n",
              "}\n",
              "\n",
              "#sk-container-id-2 div.sk-estimator.fitted {\n",
              "  /* fitted */\n",
              "  background-color: var(--sklearn-color-fitted-level-0);\n",
              "}\n",
              "\n",
              "/* on hover */\n",
              "#sk-container-id-2 div.sk-estimator:hover {\n",
              "  /* unfitted */\n",
              "  background-color: var(--sklearn-color-unfitted-level-2);\n",
              "}\n",
              "\n",
              "#sk-container-id-2 div.sk-estimator.fitted:hover {\n",
              "  /* fitted */\n",
              "  background-color: var(--sklearn-color-fitted-level-2);\n",
              "}\n",
              "\n",
              "/* Specification for estimator info (e.g. \"i\" and \"?\") */\n",
              "\n",
              "/* Common style for \"i\" and \"?\" */\n",
              "\n",
              ".sk-estimator-doc-link,\n",
              "a:link.sk-estimator-doc-link,\n",
              "a:visited.sk-estimator-doc-link {\n",
              "  float: right;\n",
              "  font-size: smaller;\n",
              "  line-height: 1em;\n",
              "  font-family: monospace;\n",
              "  background-color: var(--sklearn-color-background);\n",
              "  border-radius: 1em;\n",
              "  height: 1em;\n",
              "  width: 1em;\n",
              "  text-decoration: none !important;\n",
              "  margin-left: 0.5em;\n",
              "  text-align: center;\n",
              "  /* unfitted */\n",
              "  border: var(--sklearn-color-unfitted-level-1) 1pt solid;\n",
              "  color: var(--sklearn-color-unfitted-level-1);\n",
              "}\n",
              "\n",
              ".sk-estimator-doc-link.fitted,\n",
              "a:link.sk-estimator-doc-link.fitted,\n",
              "a:visited.sk-estimator-doc-link.fitted {\n",
              "  /* fitted */\n",
              "  border: var(--sklearn-color-fitted-level-1) 1pt solid;\n",
              "  color: var(--sklearn-color-fitted-level-1);\n",
              "}\n",
              "\n",
              "/* On hover */\n",
              "div.sk-estimator:hover .sk-estimator-doc-link:hover,\n",
              ".sk-estimator-doc-link:hover,\n",
              "div.sk-label-container:hover .sk-estimator-doc-link:hover,\n",
              ".sk-estimator-doc-link:hover {\n",
              "  /* unfitted */\n",
              "  background-color: var(--sklearn-color-unfitted-level-3);\n",
              "  color: var(--sklearn-color-background);\n",
              "  text-decoration: none;\n",
              "}\n",
              "\n",
              "div.sk-estimator.fitted:hover .sk-estimator-doc-link.fitted:hover,\n",
              ".sk-estimator-doc-link.fitted:hover,\n",
              "div.sk-label-container:hover .sk-estimator-doc-link.fitted:hover,\n",
              ".sk-estimator-doc-link.fitted:hover {\n",
              "  /* fitted */\n",
              "  background-color: var(--sklearn-color-fitted-level-3);\n",
              "  color: var(--sklearn-color-background);\n",
              "  text-decoration: none;\n",
              "}\n",
              "\n",
              "/* Span, style for the box shown on hovering the info icon */\n",
              ".sk-estimator-doc-link span {\n",
              "  display: none;\n",
              "  z-index: 9999;\n",
              "  position: relative;\n",
              "  font-weight: normal;\n",
              "  right: .2ex;\n",
              "  padding: .5ex;\n",
              "  margin: .5ex;\n",
              "  width: min-content;\n",
              "  min-width: 20ex;\n",
              "  max-width: 50ex;\n",
              "  color: var(--sklearn-color-text);\n",
              "  box-shadow: 2pt 2pt 4pt #999;\n",
              "  /* unfitted */\n",
              "  background: var(--sklearn-color-unfitted-level-0);\n",
              "  border: .5pt solid var(--sklearn-color-unfitted-level-3);\n",
              "}\n",
              "\n",
              ".sk-estimator-doc-link.fitted span {\n",
              "  /* fitted */\n",
              "  background: var(--sklearn-color-fitted-level-0);\n",
              "  border: var(--sklearn-color-fitted-level-3);\n",
              "}\n",
              "\n",
              ".sk-estimator-doc-link:hover span {\n",
              "  display: block;\n",
              "}\n",
              "\n",
              "/* \"?\"-specific style due to the `<a>` HTML tag */\n",
              "\n",
              "#sk-container-id-2 a.estimator_doc_link {\n",
              "  float: right;\n",
              "  font-size: 1rem;\n",
              "  line-height: 1em;\n",
              "  font-family: monospace;\n",
              "  background-color: var(--sklearn-color-background);\n",
              "  border-radius: 1rem;\n",
              "  height: 1rem;\n",
              "  width: 1rem;\n",
              "  text-decoration: none;\n",
              "  /* unfitted */\n",
              "  color: var(--sklearn-color-unfitted-level-1);\n",
              "  border: var(--sklearn-color-unfitted-level-1) 1pt solid;\n",
              "}\n",
              "\n",
              "#sk-container-id-2 a.estimator_doc_link.fitted {\n",
              "  /* fitted */\n",
              "  border: var(--sklearn-color-fitted-level-1) 1pt solid;\n",
              "  color: var(--sklearn-color-fitted-level-1);\n",
              "}\n",
              "\n",
              "/* On hover */\n",
              "#sk-container-id-2 a.estimator_doc_link:hover {\n",
              "  /* unfitted */\n",
              "  background-color: var(--sklearn-color-unfitted-level-3);\n",
              "  color: var(--sklearn-color-background);\n",
              "  text-decoration: none;\n",
              "}\n",
              "\n",
              "#sk-container-id-2 a.estimator_doc_link.fitted:hover {\n",
              "  /* fitted */\n",
              "  background-color: var(--sklearn-color-fitted-level-3);\n",
              "}\n",
              "</style><div id=\"sk-container-id-2\" class=\"sk-top-container\"><div class=\"sk-text-repr-fallback\"><pre>LinearRegression()</pre><b>In a Jupyter environment, please rerun this cell to show the HTML representation or trust the notebook. <br />On GitHub, the HTML representation is unable to render, please try loading this page with nbviewer.org.</b></div><div class=\"sk-container\" hidden><div class=\"sk-item\"><div class=\"sk-estimator fitted sk-toggleable\"><input class=\"sk-toggleable__control sk-hidden--visually\" id=\"sk-estimator-id-2\" type=\"checkbox\" checked><label for=\"sk-estimator-id-2\" class=\"sk-toggleable__label fitted sk-toggleable__label-arrow\"><div><div>LinearRegression</div></div><div><a class=\"sk-estimator-doc-link fitted\" rel=\"noreferrer\" target=\"_blank\" href=\"https://scikit-learn.org/1.6/modules/generated/sklearn.linear_model.LinearRegression.html\">?<span>Documentation for LinearRegression</span></a><span class=\"sk-estimator-doc-link fitted\">i<span>Fitted</span></span></div></label><div class=\"sk-toggleable__content fitted\"><pre>LinearRegression()</pre></div> </div></div></div></div>"
            ]
          },
          "metadata": {},
          "execution_count": 21
        }
      ]
    },
    {
      "cell_type": "markdown",
      "source": [
        "### **Evaluasi Linear Regression Model dengan Coefficient of Determination atau R-squared (R^2)**"
      ],
      "metadata": {
        "id": "ILOlgIDtAE9v"
      }
    },
    {
      "cell_type": "code",
      "source": [
        "from sklearn.metrics import r2_score\n",
        "\n",
        "y_pred = model.predict(X_test)\n",
        "r_squared = r2_score(y_test, y_pred)\n",
        "\n",
        "print(f'R-squared: {r_squared}')"
      ],
      "metadata": {
        "colab": {
          "base_uri": "https://localhost:8080/"
        },
        "id": "DY5BuBCvQDOy",
        "outputId": "2f7d6114-bf3b-413f-ae57-7315c305c567"
      },
      "execution_count": 22,
      "outputs": [
        {
          "output_type": "stream",
          "name": "stdout",
          "text": [
            "R-squared: 0.6620052929422553\n"
          ]
        }
      ]
    },
    {
      "cell_type": "markdown",
      "source": [
        "### **Mencari nilai R-squared (R^2)**"
      ],
      "metadata": {
        "id": "Nl8Nz1-EQybZ"
      }
    },
    {
      "cell_type": "markdown",
      "source": [
        "![Screenshot 2025-02-24 115910.png](data:image/png;base64,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)"
      ],
      "metadata": {
        "id": "e2vFbWe2Utok"
      }
    },
    {
      "cell_type": "markdown",
      "source": [
        "**SSres**"
      ],
      "metadata": {
        "id": "vUTVQvxiRqXj"
      }
    },
    {
      "cell_type": "code",
      "source": [
        "ss_res = sum([(y_i - model.predict(x_i.reshape(-1, 1))[0]) **2\n",
        "              for x_i, y_i in zip(X_test, y_test)])\n",
        "print(f'ss_res: {ss_res}')"
      ],
      "metadata": {
        "colab": {
          "base_uri": "https://localhost:8080/"
        },
        "id": "iJI2M9I2Q65j",
        "outputId": "e05e737a-8867-45f2-f946-47579e4cdae2"
      },
      "execution_count": 23,
      "outputs": [
        {
          "output_type": "stream",
          "name": "stdout",
          "text": [
            "ss_res: 19.1980993608799\n"
          ]
        }
      ]
    },
    {
      "cell_type": "markdown",
      "source": [
        "**SStot**"
      ],
      "metadata": {
        "id": "wqIzA9nLRtlW"
      }
    },
    {
      "cell_type": "code",
      "source": [
        "mean_y = np.mean(y_test)\n",
        "ss_tot = sum([(y_i - mean_y)**2 for y_i in y_test])\n",
        "\n",
        "print(f'ss_tot: {ss_tot}')"
      ],
      "metadata": {
        "colab": {
          "base_uri": "https://localhost:8080/"
        },
        "id": "sw7g0g63Rwcl",
        "outputId": "9f697c22-d9d4-437d-9ced-b1a58f50021c"
      },
      "execution_count": 25,
      "outputs": [
        {
          "output_type": "stream",
          "name": "stdout",
          "text": [
            "ss_tot: 56.8\n"
          ]
        }
      ]
    },
    {
      "cell_type": "markdown",
      "source": [
        "**R^2**"
      ],
      "metadata": {
        "id": "12lyzEQoSFJV"
      }
    },
    {
      "cell_type": "code",
      "source": [
        "r_squared = 1 - (ss_res / ss_tot)\n",
        "print(f'R-squared: {r_squared}')"
      ],
      "metadata": {
        "colab": {
          "base_uri": "https://localhost:8080/"
        },
        "id": "nLBJWl2bSIqt",
        "outputId": "7f738e8d-a1f9-4595-ad72-a206c5c63052"
      },
      "execution_count": 26,
      "outputs": [
        {
          "output_type": "stream",
          "name": "stdout",
          "text": [
            "R-squared: 0.6620052929422553\n"
          ]
        }
      ]
    }
  ]
}