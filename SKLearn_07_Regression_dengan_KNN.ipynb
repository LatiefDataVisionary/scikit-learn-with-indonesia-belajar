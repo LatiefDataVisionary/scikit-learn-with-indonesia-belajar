{
  "nbformat": 4,
  "nbformat_minor": 0,
  "metadata": {
    "colab": {
      "provenance": [],
      "authorship_tag": "ABX9TyOG/F+iTAQ5AgZnkwOR9Z9q",
      "include_colab_link": true
    },
    "kernelspec": {
      "name": "python3",
      "display_name": "Python 3"
    },
    "language_info": {
      "name": "python"
    }
  },
  "cells": [
    {
      "cell_type": "markdown",
      "metadata": {
        "id": "view-in-github",
        "colab_type": "text"
      },
      "source": [
        "<a href=\"https://colab.research.google.com/github/LatiefDataVisionary/scikit-learn-with-indonesia-belajar/blob/main/SKLearn_07_Regression_dengan_KNN.ipynb\" target=\"_parent\"><img src=\"https://colab.research.google.com/assets/colab-badge.svg\" alt=\"Open In Colab\"/></a>"
      ]
    },
    {
      "cell_type": "markdown",
      "source": [
        "# **SKLearn 07: Regression dengan KNN | K-Nearest Neighbours | Belajar Machine Learning Dasar**\n"
      ],
      "metadata": {
        "id": "bN34vxkJ90l7"
      }
    },
    {
      "cell_type": "markdown",
      "source": [
        "### **Sample Dataset**"
      ],
      "metadata": {
        "id": "tkPdpYI2D7sc"
      }
    },
    {
      "cell_type": "code",
      "execution_count": 1,
      "metadata": {
        "id": "_AEb2pXX9zyp",
        "colab": {
          "base_uri": "https://localhost:8080/",
          "height": 331
        },
        "outputId": "24ae95d3-858e-439a-dfe8-cafb27302611"
      },
      "outputs": [
        {
          "output_type": "execute_result",
          "data": {
            "text/plain": [
              "   tinggi      jk  berat\n",
              "0     156    pria     64\n",
              "1     170    pria     86\n",
              "2     183    pria     84\n",
              "3     191    pria     80\n",
              "4     158  wanita     49\n",
              "5     170  wanita     59\n",
              "6     181  wanita     67\n",
              "7     175  wanita     54\n",
              "8     164  wanita     67"
            ],
            "text/html": [
              "\n",
              "  <div id=\"df-3646dd4e-964b-410c-b043-82a1a20cee37\" class=\"colab-df-container\">\n",
              "    <div>\n",
              "<style scoped>\n",
              "    .dataframe tbody tr th:only-of-type {\n",
              "        vertical-align: middle;\n",
              "    }\n",
              "\n",
              "    .dataframe tbody tr th {\n",
              "        vertical-align: top;\n",
              "    }\n",
              "\n",
              "    .dataframe thead th {\n",
              "        text-align: right;\n",
              "    }\n",
              "</style>\n",
              "<table border=\"1\" class=\"dataframe\">\n",
              "  <thead>\n",
              "    <tr style=\"text-align: right;\">\n",
              "      <th></th>\n",
              "      <th>tinggi</th>\n",
              "      <th>jk</th>\n",
              "      <th>berat</th>\n",
              "    </tr>\n",
              "  </thead>\n",
              "  <tbody>\n",
              "    <tr>\n",
              "      <th>0</th>\n",
              "      <td>156</td>\n",
              "      <td>pria</td>\n",
              "      <td>64</td>\n",
              "    </tr>\n",
              "    <tr>\n",
              "      <th>1</th>\n",
              "      <td>170</td>\n",
              "      <td>pria</td>\n",
              "      <td>86</td>\n",
              "    </tr>\n",
              "    <tr>\n",
              "      <th>2</th>\n",
              "      <td>183</td>\n",
              "      <td>pria</td>\n",
              "      <td>84</td>\n",
              "    </tr>\n",
              "    <tr>\n",
              "      <th>3</th>\n",
              "      <td>191</td>\n",
              "      <td>pria</td>\n",
              "      <td>80</td>\n",
              "    </tr>\n",
              "    <tr>\n",
              "      <th>4</th>\n",
              "      <td>158</td>\n",
              "      <td>wanita</td>\n",
              "      <td>49</td>\n",
              "    </tr>\n",
              "    <tr>\n",
              "      <th>5</th>\n",
              "      <td>170</td>\n",
              "      <td>wanita</td>\n",
              "      <td>59</td>\n",
              "    </tr>\n",
              "    <tr>\n",
              "      <th>6</th>\n",
              "      <td>181</td>\n",
              "      <td>wanita</td>\n",
              "      <td>67</td>\n",
              "    </tr>\n",
              "    <tr>\n",
              "      <th>7</th>\n",
              "      <td>175</td>\n",
              "      <td>wanita</td>\n",
              "      <td>54</td>\n",
              "    </tr>\n",
              "    <tr>\n",
              "      <th>8</th>\n",
              "      <td>164</td>\n",
              "      <td>wanita</td>\n",
              "      <td>67</td>\n",
              "    </tr>\n",
              "  </tbody>\n",
              "</table>\n",
              "</div>\n",
              "    <div class=\"colab-df-buttons\">\n",
              "\n",
              "  <div class=\"colab-df-container\">\n",
              "    <button class=\"colab-df-convert\" onclick=\"convertToInteractive('df-3646dd4e-964b-410c-b043-82a1a20cee37')\"\n",
              "            title=\"Convert this dataframe to an interactive table.\"\n",
              "            style=\"display:none;\">\n",
              "\n",
              "  <svg xmlns=\"http://www.w3.org/2000/svg\" height=\"24px\" viewBox=\"0 -960 960 960\">\n",
              "    <path d=\"M120-120v-720h720v720H120Zm60-500h600v-160H180v160Zm220 220h160v-160H400v160Zm0 220h160v-160H400v160ZM180-400h160v-160H180v160Zm440 0h160v-160H620v160ZM180-180h160v-160H180v160Zm440 0h160v-160H620v160Z\"/>\n",
              "  </svg>\n",
              "    </button>\n",
              "\n",
              "  <style>\n",
              "    .colab-df-container {\n",
              "      display:flex;\n",
              "      gap: 12px;\n",
              "    }\n",
              "\n",
              "    .colab-df-convert {\n",
              "      background-color: #E8F0FE;\n",
              "      border: none;\n",
              "      border-radius: 50%;\n",
              "      cursor: pointer;\n",
              "      display: none;\n",
              "      fill: #1967D2;\n",
              "      height: 32px;\n",
              "      padding: 0 0 0 0;\n",
              "      width: 32px;\n",
              "    }\n",
              "\n",
              "    .colab-df-convert:hover {\n",
              "      background-color: #E2EBFA;\n",
              "      box-shadow: 0px 1px 2px rgba(60, 64, 67, 0.3), 0px 1px 3px 1px rgba(60, 64, 67, 0.15);\n",
              "      fill: #174EA6;\n",
              "    }\n",
              "\n",
              "    .colab-df-buttons div {\n",
              "      margin-bottom: 4px;\n",
              "    }\n",
              "\n",
              "    [theme=dark] .colab-df-convert {\n",
              "      background-color: #3B4455;\n",
              "      fill: #D2E3FC;\n",
              "    }\n",
              "\n",
              "    [theme=dark] .colab-df-convert:hover {\n",
              "      background-color: #434B5C;\n",
              "      box-shadow: 0px 1px 3px 1px rgba(0, 0, 0, 0.15);\n",
              "      filter: drop-shadow(0px 1px 2px rgba(0, 0, 0, 0.3));\n",
              "      fill: #FFFFFF;\n",
              "    }\n",
              "  </style>\n",
              "\n",
              "    <script>\n",
              "      const buttonEl =\n",
              "        document.querySelector('#df-3646dd4e-964b-410c-b043-82a1a20cee37 button.colab-df-convert');\n",
              "      buttonEl.style.display =\n",
              "        google.colab.kernel.accessAllowed ? 'block' : 'none';\n",
              "\n",
              "      async function convertToInteractive(key) {\n",
              "        const element = document.querySelector('#df-3646dd4e-964b-410c-b043-82a1a20cee37');\n",
              "        const dataTable =\n",
              "          await google.colab.kernel.invokeFunction('convertToInteractive',\n",
              "                                                    [key], {});\n",
              "        if (!dataTable) return;\n",
              "\n",
              "        const docLinkHtml = 'Like what you see? Visit the ' +\n",
              "          '<a target=\"_blank\" href=https://colab.research.google.com/notebooks/data_table.ipynb>data table notebook</a>'\n",
              "          + ' to learn more about interactive tables.';\n",
              "        element.innerHTML = '';\n",
              "        dataTable['output_type'] = 'display_data';\n",
              "        await google.colab.output.renderOutput(dataTable, element);\n",
              "        const docLink = document.createElement('div');\n",
              "        docLink.innerHTML = docLinkHtml;\n",
              "        element.appendChild(docLink);\n",
              "      }\n",
              "    </script>\n",
              "  </div>\n",
              "\n",
              "\n",
              "<div id=\"df-deb5bdac-fdd1-4f85-9250-4dbbaa96e7f6\">\n",
              "  <button class=\"colab-df-quickchart\" onclick=\"quickchart('df-deb5bdac-fdd1-4f85-9250-4dbbaa96e7f6')\"\n",
              "            title=\"Suggest charts\"\n",
              "            style=\"display:none;\">\n",
              "\n",
              "<svg xmlns=\"http://www.w3.org/2000/svg\" height=\"24px\"viewBox=\"0 0 24 24\"\n",
              "     width=\"24px\">\n",
              "    <g>\n",
              "        <path d=\"M19 3H5c-1.1 0-2 .9-2 2v14c0 1.1.9 2 2 2h14c1.1 0 2-.9 2-2V5c0-1.1-.9-2-2-2zM9 17H7v-7h2v7zm4 0h-2V7h2v10zm4 0h-2v-4h2v4z\"/>\n",
              "    </g>\n",
              "</svg>\n",
              "  </button>\n",
              "\n",
              "<style>\n",
              "  .colab-df-quickchart {\n",
              "      --bg-color: #E8F0FE;\n",
              "      --fill-color: #1967D2;\n",
              "      --hover-bg-color: #E2EBFA;\n",
              "      --hover-fill-color: #174EA6;\n",
              "      --disabled-fill-color: #AAA;\n",
              "      --disabled-bg-color: #DDD;\n",
              "  }\n",
              "\n",
              "  [theme=dark] .colab-df-quickchart {\n",
              "      --bg-color: #3B4455;\n",
              "      --fill-color: #D2E3FC;\n",
              "      --hover-bg-color: #434B5C;\n",
              "      --hover-fill-color: #FFFFFF;\n",
              "      --disabled-bg-color: #3B4455;\n",
              "      --disabled-fill-color: #666;\n",
              "  }\n",
              "\n",
              "  .colab-df-quickchart {\n",
              "    background-color: var(--bg-color);\n",
              "    border: none;\n",
              "    border-radius: 50%;\n",
              "    cursor: pointer;\n",
              "    display: none;\n",
              "    fill: var(--fill-color);\n",
              "    height: 32px;\n",
              "    padding: 0;\n",
              "    width: 32px;\n",
              "  }\n",
              "\n",
              "  .colab-df-quickchart:hover {\n",
              "    background-color: var(--hover-bg-color);\n",
              "    box-shadow: 0 1px 2px rgba(60, 64, 67, 0.3), 0 1px 3px 1px rgba(60, 64, 67, 0.15);\n",
              "    fill: var(--button-hover-fill-color);\n",
              "  }\n",
              "\n",
              "  .colab-df-quickchart-complete:disabled,\n",
              "  .colab-df-quickchart-complete:disabled:hover {\n",
              "    background-color: var(--disabled-bg-color);\n",
              "    fill: var(--disabled-fill-color);\n",
              "    box-shadow: none;\n",
              "  }\n",
              "\n",
              "  .colab-df-spinner {\n",
              "    border: 2px solid var(--fill-color);\n",
              "    border-color: transparent;\n",
              "    border-bottom-color: var(--fill-color);\n",
              "    animation:\n",
              "      spin 1s steps(1) infinite;\n",
              "  }\n",
              "\n",
              "  @keyframes spin {\n",
              "    0% {\n",
              "      border-color: transparent;\n",
              "      border-bottom-color: var(--fill-color);\n",
              "      border-left-color: var(--fill-color);\n",
              "    }\n",
              "    20% {\n",
              "      border-color: transparent;\n",
              "      border-left-color: var(--fill-color);\n",
              "      border-top-color: var(--fill-color);\n",
              "    }\n",
              "    30% {\n",
              "      border-color: transparent;\n",
              "      border-left-color: var(--fill-color);\n",
              "      border-top-color: var(--fill-color);\n",
              "      border-right-color: var(--fill-color);\n",
              "    }\n",
              "    40% {\n",
              "      border-color: transparent;\n",
              "      border-right-color: var(--fill-color);\n",
              "      border-top-color: var(--fill-color);\n",
              "    }\n",
              "    60% {\n",
              "      border-color: transparent;\n",
              "      border-right-color: var(--fill-color);\n",
              "    }\n",
              "    80% {\n",
              "      border-color: transparent;\n",
              "      border-right-color: var(--fill-color);\n",
              "      border-bottom-color: var(--fill-color);\n",
              "    }\n",
              "    90% {\n",
              "      border-color: transparent;\n",
              "      border-bottom-color: var(--fill-color);\n",
              "    }\n",
              "  }\n",
              "</style>\n",
              "\n",
              "  <script>\n",
              "    async function quickchart(key) {\n",
              "      const quickchartButtonEl =\n",
              "        document.querySelector('#' + key + ' button');\n",
              "      quickchartButtonEl.disabled = true;  // To prevent multiple clicks.\n",
              "      quickchartButtonEl.classList.add('colab-df-spinner');\n",
              "      try {\n",
              "        const charts = await google.colab.kernel.invokeFunction(\n",
              "            'suggestCharts', [key], {});\n",
              "      } catch (error) {\n",
              "        console.error('Error during call to suggestCharts:', error);\n",
              "      }\n",
              "      quickchartButtonEl.classList.remove('colab-df-spinner');\n",
              "      quickchartButtonEl.classList.add('colab-df-quickchart-complete');\n",
              "    }\n",
              "    (() => {\n",
              "      let quickchartButtonEl =\n",
              "        document.querySelector('#df-deb5bdac-fdd1-4f85-9250-4dbbaa96e7f6 button');\n",
              "      quickchartButtonEl.style.display =\n",
              "        google.colab.kernel.accessAllowed ? 'block' : 'none';\n",
              "    })();\n",
              "  </script>\n",
              "</div>\n",
              "\n",
              "  <div id=\"id_690f0386-4f4a-4dd4-8746-36cf5c998336\">\n",
              "    <style>\n",
              "      .colab-df-generate {\n",
              "        background-color: #E8F0FE;\n",
              "        border: none;\n",
              "        border-radius: 50%;\n",
              "        cursor: pointer;\n",
              "        display: none;\n",
              "        fill: #1967D2;\n",
              "        height: 32px;\n",
              "        padding: 0 0 0 0;\n",
              "        width: 32px;\n",
              "      }\n",
              "\n",
              "      .colab-df-generate:hover {\n",
              "        background-color: #E2EBFA;\n",
              "        box-shadow: 0px 1px 2px rgba(60, 64, 67, 0.3), 0px 1px 3px 1px rgba(60, 64, 67, 0.15);\n",
              "        fill: #174EA6;\n",
              "      }\n",
              "\n",
              "      [theme=dark] .colab-df-generate {\n",
              "        background-color: #3B4455;\n",
              "        fill: #D2E3FC;\n",
              "      }\n",
              "\n",
              "      [theme=dark] .colab-df-generate:hover {\n",
              "        background-color: #434B5C;\n",
              "        box-shadow: 0px 1px 3px 1px rgba(0, 0, 0, 0.15);\n",
              "        filter: drop-shadow(0px 1px 2px rgba(0, 0, 0, 0.3));\n",
              "        fill: #FFFFFF;\n",
              "      }\n",
              "    </style>\n",
              "    <button class=\"colab-df-generate\" onclick=\"generateWithVariable('sensus_df')\"\n",
              "            title=\"Generate code using this dataframe.\"\n",
              "            style=\"display:none;\">\n",
              "\n",
              "  <svg xmlns=\"http://www.w3.org/2000/svg\" height=\"24px\"viewBox=\"0 0 24 24\"\n",
              "       width=\"24px\">\n",
              "    <path d=\"M7,19H8.4L18.45,9,17,7.55,7,17.6ZM5,21V16.75L18.45,3.32a2,2,0,0,1,2.83,0l1.4,1.43a1.91,1.91,0,0,1,.58,1.4,1.91,1.91,0,0,1-.58,1.4L9.25,21ZM18.45,9,17,7.55Zm-12,3A5.31,5.31,0,0,0,4.9,8.1,5.31,5.31,0,0,0,1,6.5,5.31,5.31,0,0,0,4.9,4.9,5.31,5.31,0,0,0,6.5,1,5.31,5.31,0,0,0,8.1,4.9,5.31,5.31,0,0,0,12,6.5,5.46,5.46,0,0,0,6.5,12Z\"/>\n",
              "  </svg>\n",
              "    </button>\n",
              "    <script>\n",
              "      (() => {\n",
              "      const buttonEl =\n",
              "        document.querySelector('#id_690f0386-4f4a-4dd4-8746-36cf5c998336 button.colab-df-generate');\n",
              "      buttonEl.style.display =\n",
              "        google.colab.kernel.accessAllowed ? 'block' : 'none';\n",
              "\n",
              "      buttonEl.onclick = () => {\n",
              "        google.colab.notebook.generateWithVariable('sensus_df');\n",
              "      }\n",
              "      })();\n",
              "    </script>\n",
              "  </div>\n",
              "\n",
              "    </div>\n",
              "  </div>\n"
            ],
            "application/vnd.google.colaboratory.intrinsic+json": {
              "type": "dataframe",
              "variable_name": "sensus_df",
              "summary": "{\n  \"name\": \"sensus_df\",\n  \"rows\": 9,\n  \"fields\": [\n    {\n      \"column\": \"tinggi\",\n      \"properties\": {\n        \"dtype\": \"number\",\n        \"std\": 11,\n        \"min\": 156,\n        \"max\": 191,\n        \"num_unique_values\": 8,\n        \"samples\": [\n          170,\n          181,\n          156\n        ],\n        \"semantic_type\": \"\",\n        \"description\": \"\"\n      }\n    },\n    {\n      \"column\": \"jk\",\n      \"properties\": {\n        \"dtype\": \"category\",\n        \"num_unique_values\": 2,\n        \"samples\": [\n          \"wanita\",\n          \"pria\"\n        ],\n        \"semantic_type\": \"\",\n        \"description\": \"\"\n      }\n    },\n    {\n      \"column\": \"berat\",\n      \"properties\": {\n        \"dtype\": \"number\",\n        \"std\": 13,\n        \"min\": 49,\n        \"max\": 86,\n        \"num_unique_values\": 8,\n        \"samples\": [\n          86,\n          59\n        ],\n        \"semantic_type\": \"\",\n        \"description\": \"\"\n      }\n    }\n  ]\n}"
            }
          },
          "metadata": {},
          "execution_count": 1
        }
      ],
      "source": [
        "import pandas as pd\n",
        "\n",
        "sensus = {'tinggi': [156, 170, 183, 191, 158, 170, 181, 175, 164],\n",
        "          'jk': ['pria', 'pria', 'pria', 'pria', 'wanita', 'wanita', 'wanita', 'wanita', 'wanita'],\n",
        "          'berat': [64, 86, 84, 80, 49, 59, 67, 54, 67]}\n",
        "\n",
        "sensus_df = pd.DataFrame(sensus)\n",
        "sensus_df"
      ]
    },
    {
      "cell_type": "markdown",
      "source": [
        "## **Regression dengan KNN**"
      ],
      "metadata": {
        "id": "NDC7pZQwFWp7"
      }
    },
    {
      "cell_type": "markdown",
      "source": [
        "### **Features & Target**"
      ],
      "metadata": {
        "id": "10VjDpE-FfdD"
      }
    },
    {
      "cell_type": "code",
      "source": [
        "import numpy as np\n",
        "\n",
        "X_train = np.array(sensus_df[['tinggi', 'jk']])\n",
        "y_train = np.array(sensus_df['berat'])\n",
        "\n",
        "print(f'X_trains: \\n{X_train}')\n",
        "print(f'\\ny_train: {y_train}')"
      ],
      "metadata": {
        "colab": {
          "base_uri": "https://localhost:8080/"
        },
        "id": "nhuoSkweFe6D",
        "outputId": "f3b5ed32-fb10-401e-bba3-c6a58fcc50b4"
      },
      "execution_count": 2,
      "outputs": [
        {
          "output_type": "stream",
          "name": "stdout",
          "text": [
            "X_trains: \n",
            "[[156 'pria']\n",
            " [170 'pria']\n",
            " [183 'pria']\n",
            " [191 'pria']\n",
            " [158 'wanita']\n",
            " [170 'wanita']\n",
            " [181 'wanita']\n",
            " [175 'wanita']\n",
            " [164 'wanita']]\n",
            "\n",
            "y_train: [64 86 84 80 49 59 67 54 67]\n"
          ]
        }
      ]
    },
    {
      "cell_type": "markdown",
      "source": [
        "### **Preprocess Dataset: Konversi Label menjadi Numerik Biner**"
      ],
      "metadata": {
        "id": "h2BqX4_kGYMD"
      }
    },
    {
      "cell_type": "code",
      "source": [
        "X_train_transposed = np.transpose(X_train)\n",
        "\n",
        "print(f'X_train: \\n{X_train}')\n",
        "print(f'\\nX_train_transposed: \\n{X_train_transposed}')"
      ],
      "metadata": {
        "colab": {
          "base_uri": "https://localhost:8080/"
        },
        "id": "Tb54JZ6VFY8q",
        "outputId": "f2bb486d-0140-47ac-bae3-9cdf06c6db23"
      },
      "execution_count": 3,
      "outputs": [
        {
          "output_type": "stream",
          "name": "stdout",
          "text": [
            "X_train: \n",
            "[[156 'pria']\n",
            " [170 'pria']\n",
            " [183 'pria']\n",
            " [191 'pria']\n",
            " [158 'wanita']\n",
            " [170 'wanita']\n",
            " [181 'wanita']\n",
            " [175 'wanita']\n",
            " [164 'wanita']]\n",
            "\n",
            "X_train_transposed: \n",
            "[[156 170 183 191 158 170 181 175 164]\n",
            " ['pria' 'pria' 'pria' 'pria' 'wanita' 'wanita' 'wanita' 'wanita'\n",
            "  'wanita']]\n"
          ]
        }
      ]
    },
    {
      "cell_type": "code",
      "source": [
        "from sklearn.preprocessing import LabelBinarizer\n",
        "\n",
        "lb = LabelBinarizer()\n",
        "jk_binarised = lb.fit_transform(X_train_transposed[1])\n",
        "\n",
        "print(f'jk: {X_train_transposed[1]}\\n')\n",
        "print(f'jk_binarised: \\n{jk_binarised}')"
      ],
      "metadata": {
        "id": "l7tSw6cgGms1",
        "outputId": "f7403395-6e5d-4587-f1df-1d70eb207cce",
        "colab": {
          "base_uri": "https://localhost:8080/"
        }
      },
      "execution_count": 4,
      "outputs": [
        {
          "output_type": "stream",
          "name": "stdout",
          "text": [
            "jk: ['pria' 'pria' 'pria' 'pria' 'wanita' 'wanita' 'wanita' 'wanita' 'wanita']\n",
            "\n",
            "jk_binarised: \n",
            "[[0]\n",
            " [0]\n",
            " [0]\n",
            " [0]\n",
            " [1]\n",
            " [1]\n",
            " [1]\n",
            " [1]\n",
            " [1]]\n"
          ]
        }
      ]
    },
    {
      "cell_type": "code",
      "source": [
        "jk_binarised = jk_binarised.flatten()\n",
        "jk_binarised"
      ],
      "metadata": {
        "id": "1Fs-OdAZHEQk",
        "outputId": "b49bc528-b426-415f-99c1-cb3600161d6f",
        "colab": {
          "base_uri": "https://localhost:8080/"
        }
      },
      "execution_count": 5,
      "outputs": [
        {
          "output_type": "execute_result",
          "data": {
            "text/plain": [
              "array([0, 0, 0, 0, 1, 1, 1, 1, 1])"
            ]
          },
          "metadata": {},
          "execution_count": 5
        }
      ]
    },
    {
      "cell_type": "code",
      "source": [
        "X_train_transposed[1] = jk_binarised\n",
        "X_train = X_train_transposed.transpose()\n",
        "\n",
        "print(f'X_train_transposed: \\n{X_train_transposed}')\n",
        "print(f'X_train: \\n{X_train}')"
      ],
      "metadata": {
        "id": "brndjfyjHJaX",
        "outputId": "aa27dbcd-ff4c-48b5-dd3a-cb4cd5953abd",
        "colab": {
          "base_uri": "https://localhost:8080/"
        }
      },
      "execution_count": 6,
      "outputs": [
        {
          "output_type": "stream",
          "name": "stdout",
          "text": [
            "X_train_transposed: \n",
            "[[156 170 183 191 158 170 181 175 164]\n",
            " [0 0 0 0 1 1 1 1 1]]\n",
            "X_train: \n",
            "[[156 0]\n",
            " [170 0]\n",
            " [183 0]\n",
            " [191 0]\n",
            " [158 1]\n",
            " [170 1]\n",
            " [181 1]\n",
            " [175 1]\n",
            " [164 1]]\n"
          ]
        }
      ]
    },
    {
      "cell_type": "markdown",
      "source": [
        "### **Training KNN Regression Model**"
      ],
      "metadata": {
        "id": "nm93i5JIGmaK"
      }
    },
    {
      "cell_type": "code",
      "source": [
        "from sklearn.neighbors import KNeighborsRegressor\n",
        "\n",
        "K = 3\n",
        "model = KNeighborsRegressor(n_neighbors=K)\n",
        "model.fit(X_train, y_train)"
      ],
      "metadata": {
        "colab": {
          "base_uri": "https://localhost:8080/",
          "height": 80
        },
        "id": "M2d5a6rp7x1N",
        "outputId": "5fdd3205-07fe-48c8-eac7-cbc9a7acc2a3"
      },
      "execution_count": 7,
      "outputs": [
        {
          "output_type": "execute_result",
          "data": {
            "text/plain": [
              "KNeighborsRegressor(n_neighbors=3)"
            ],
            "text/html": [
              "<style>#sk-container-id-1 {\n",
              "  /* Definition of color scheme common for light and dark mode */\n",
              "  --sklearn-color-text: #000;\n",
              "  --sklearn-color-text-muted: #666;\n",
              "  --sklearn-color-line: gray;\n",
              "  /* Definition of color scheme for unfitted estimators */\n",
              "  --sklearn-color-unfitted-level-0: #fff5e6;\n",
              "  --sklearn-color-unfitted-level-1: #f6e4d2;\n",
              "  --sklearn-color-unfitted-level-2: #ffe0b3;\n",
              "  --sklearn-color-unfitted-level-3: chocolate;\n",
              "  /* Definition of color scheme for fitted estimators */\n",
              "  --sklearn-color-fitted-level-0: #f0f8ff;\n",
              "  --sklearn-color-fitted-level-1: #d4ebff;\n",
              "  --sklearn-color-fitted-level-2: #b3dbfd;\n",
              "  --sklearn-color-fitted-level-3: cornflowerblue;\n",
              "\n",
              "  /* Specific color for light theme */\n",
              "  --sklearn-color-text-on-default-background: var(--sg-text-color, var(--theme-code-foreground, var(--jp-content-font-color1, black)));\n",
              "  --sklearn-color-background: var(--sg-background-color, var(--theme-background, var(--jp-layout-color0, white)));\n",
              "  --sklearn-color-border-box: var(--sg-text-color, var(--theme-code-foreground, var(--jp-content-font-color1, black)));\n",
              "  --sklearn-color-icon: #696969;\n",
              "\n",
              "  @media (prefers-color-scheme: dark) {\n",
              "    /* Redefinition of color scheme for dark theme */\n",
              "    --sklearn-color-text-on-default-background: var(--sg-text-color, var(--theme-code-foreground, var(--jp-content-font-color1, white)));\n",
              "    --sklearn-color-background: var(--sg-background-color, var(--theme-background, var(--jp-layout-color0, #111)));\n",
              "    --sklearn-color-border-box: var(--sg-text-color, var(--theme-code-foreground, var(--jp-content-font-color1, white)));\n",
              "    --sklearn-color-icon: #878787;\n",
              "  }\n",
              "}\n",
              "\n",
              "#sk-container-id-1 {\n",
              "  color: var(--sklearn-color-text);\n",
              "}\n",
              "\n",
              "#sk-container-id-1 pre {\n",
              "  padding: 0;\n",
              "}\n",
              "\n",
              "#sk-container-id-1 input.sk-hidden--visually {\n",
              "  border: 0;\n",
              "  clip: rect(1px 1px 1px 1px);\n",
              "  clip: rect(1px, 1px, 1px, 1px);\n",
              "  height: 1px;\n",
              "  margin: -1px;\n",
              "  overflow: hidden;\n",
              "  padding: 0;\n",
              "  position: absolute;\n",
              "  width: 1px;\n",
              "}\n",
              "\n",
              "#sk-container-id-1 div.sk-dashed-wrapped {\n",
              "  border: 1px dashed var(--sklearn-color-line);\n",
              "  margin: 0 0.4em 0.5em 0.4em;\n",
              "  box-sizing: border-box;\n",
              "  padding-bottom: 0.4em;\n",
              "  background-color: var(--sklearn-color-background);\n",
              "}\n",
              "\n",
              "#sk-container-id-1 div.sk-container {\n",
              "  /* jupyter's `normalize.less` sets `[hidden] { display: none; }`\n",
              "     but bootstrap.min.css set `[hidden] { display: none !important; }`\n",
              "     so we also need the `!important` here to be able to override the\n",
              "     default hidden behavior on the sphinx rendered scikit-learn.org.\n",
              "     See: https://github.com/scikit-learn/scikit-learn/issues/21755 */\n",
              "  display: inline-block !important;\n",
              "  position: relative;\n",
              "}\n",
              "\n",
              "#sk-container-id-1 div.sk-text-repr-fallback {\n",
              "  display: none;\n",
              "}\n",
              "\n",
              "div.sk-parallel-item,\n",
              "div.sk-serial,\n",
              "div.sk-item {\n",
              "  /* draw centered vertical line to link estimators */\n",
              "  background-image: linear-gradient(var(--sklearn-color-text-on-default-background), var(--sklearn-color-text-on-default-background));\n",
              "  background-size: 2px 100%;\n",
              "  background-repeat: no-repeat;\n",
              "  background-position: center center;\n",
              "}\n",
              "\n",
              "/* Parallel-specific style estimator block */\n",
              "\n",
              "#sk-container-id-1 div.sk-parallel-item::after {\n",
              "  content: \"\";\n",
              "  width: 100%;\n",
              "  border-bottom: 2px solid var(--sklearn-color-text-on-default-background);\n",
              "  flex-grow: 1;\n",
              "}\n",
              "\n",
              "#sk-container-id-1 div.sk-parallel {\n",
              "  display: flex;\n",
              "  align-items: stretch;\n",
              "  justify-content: center;\n",
              "  background-color: var(--sklearn-color-background);\n",
              "  position: relative;\n",
              "}\n",
              "\n",
              "#sk-container-id-1 div.sk-parallel-item {\n",
              "  display: flex;\n",
              "  flex-direction: column;\n",
              "}\n",
              "\n",
              "#sk-container-id-1 div.sk-parallel-item:first-child::after {\n",
              "  align-self: flex-end;\n",
              "  width: 50%;\n",
              "}\n",
              "\n",
              "#sk-container-id-1 div.sk-parallel-item:last-child::after {\n",
              "  align-self: flex-start;\n",
              "  width: 50%;\n",
              "}\n",
              "\n",
              "#sk-container-id-1 div.sk-parallel-item:only-child::after {\n",
              "  width: 0;\n",
              "}\n",
              "\n",
              "/* Serial-specific style estimator block */\n",
              "\n",
              "#sk-container-id-1 div.sk-serial {\n",
              "  display: flex;\n",
              "  flex-direction: column;\n",
              "  align-items: center;\n",
              "  background-color: var(--sklearn-color-background);\n",
              "  padding-right: 1em;\n",
              "  padding-left: 1em;\n",
              "}\n",
              "\n",
              "\n",
              "/* Toggleable style: style used for estimator/Pipeline/ColumnTransformer box that is\n",
              "clickable and can be expanded/collapsed.\n",
              "- Pipeline and ColumnTransformer use this feature and define the default style\n",
              "- Estimators will overwrite some part of the style using the `sk-estimator` class\n",
              "*/\n",
              "\n",
              "/* Pipeline and ColumnTransformer style (default) */\n",
              "\n",
              "#sk-container-id-1 div.sk-toggleable {\n",
              "  /* Default theme specific background. It is overwritten whether we have a\n",
              "  specific estimator or a Pipeline/ColumnTransformer */\n",
              "  background-color: var(--sklearn-color-background);\n",
              "}\n",
              "\n",
              "/* Toggleable label */\n",
              "#sk-container-id-1 label.sk-toggleable__label {\n",
              "  cursor: pointer;\n",
              "  display: flex;\n",
              "  width: 100%;\n",
              "  margin-bottom: 0;\n",
              "  padding: 0.5em;\n",
              "  box-sizing: border-box;\n",
              "  text-align: center;\n",
              "  align-items: start;\n",
              "  justify-content: space-between;\n",
              "  gap: 0.5em;\n",
              "}\n",
              "\n",
              "#sk-container-id-1 label.sk-toggleable__label .caption {\n",
              "  font-size: 0.6rem;\n",
              "  font-weight: lighter;\n",
              "  color: var(--sklearn-color-text-muted);\n",
              "}\n",
              "\n",
              "#sk-container-id-1 label.sk-toggleable__label-arrow:before {\n",
              "  /* Arrow on the left of the label */\n",
              "  content: \"▸\";\n",
              "  float: left;\n",
              "  margin-right: 0.25em;\n",
              "  color: var(--sklearn-color-icon);\n",
              "}\n",
              "\n",
              "#sk-container-id-1 label.sk-toggleable__label-arrow:hover:before {\n",
              "  color: var(--sklearn-color-text);\n",
              "}\n",
              "\n",
              "/* Toggleable content - dropdown */\n",
              "\n",
              "#sk-container-id-1 div.sk-toggleable__content {\n",
              "  max-height: 0;\n",
              "  max-width: 0;\n",
              "  overflow: hidden;\n",
              "  text-align: left;\n",
              "  /* unfitted */\n",
              "  background-color: var(--sklearn-color-unfitted-level-0);\n",
              "}\n",
              "\n",
              "#sk-container-id-1 div.sk-toggleable__content.fitted {\n",
              "  /* fitted */\n",
              "  background-color: var(--sklearn-color-fitted-level-0);\n",
              "}\n",
              "\n",
              "#sk-container-id-1 div.sk-toggleable__content pre {\n",
              "  margin: 0.2em;\n",
              "  border-radius: 0.25em;\n",
              "  color: var(--sklearn-color-text);\n",
              "  /* unfitted */\n",
              "  background-color: var(--sklearn-color-unfitted-level-0);\n",
              "}\n",
              "\n",
              "#sk-container-id-1 div.sk-toggleable__content.fitted pre {\n",
              "  /* unfitted */\n",
              "  background-color: var(--sklearn-color-fitted-level-0);\n",
              "}\n",
              "\n",
              "#sk-container-id-1 input.sk-toggleable__control:checked~div.sk-toggleable__content {\n",
              "  /* Expand drop-down */\n",
              "  max-height: 200px;\n",
              "  max-width: 100%;\n",
              "  overflow: auto;\n",
              "}\n",
              "\n",
              "#sk-container-id-1 input.sk-toggleable__control:checked~label.sk-toggleable__label-arrow:before {\n",
              "  content: \"▾\";\n",
              "}\n",
              "\n",
              "/* Pipeline/ColumnTransformer-specific style */\n",
              "\n",
              "#sk-container-id-1 div.sk-label input.sk-toggleable__control:checked~label.sk-toggleable__label {\n",
              "  color: var(--sklearn-color-text);\n",
              "  background-color: var(--sklearn-color-unfitted-level-2);\n",
              "}\n",
              "\n",
              "#sk-container-id-1 div.sk-label.fitted input.sk-toggleable__control:checked~label.sk-toggleable__label {\n",
              "  background-color: var(--sklearn-color-fitted-level-2);\n",
              "}\n",
              "\n",
              "/* Estimator-specific style */\n",
              "\n",
              "/* Colorize estimator box */\n",
              "#sk-container-id-1 div.sk-estimator input.sk-toggleable__control:checked~label.sk-toggleable__label {\n",
              "  /* unfitted */\n",
              "  background-color: var(--sklearn-color-unfitted-level-2);\n",
              "}\n",
              "\n",
              "#sk-container-id-1 div.sk-estimator.fitted input.sk-toggleable__control:checked~label.sk-toggleable__label {\n",
              "  /* fitted */\n",
              "  background-color: var(--sklearn-color-fitted-level-2);\n",
              "}\n",
              "\n",
              "#sk-container-id-1 div.sk-label label.sk-toggleable__label,\n",
              "#sk-container-id-1 div.sk-label label {\n",
              "  /* The background is the default theme color */\n",
              "  color: var(--sklearn-color-text-on-default-background);\n",
              "}\n",
              "\n",
              "/* On hover, darken the color of the background */\n",
              "#sk-container-id-1 div.sk-label:hover label.sk-toggleable__label {\n",
              "  color: var(--sklearn-color-text);\n",
              "  background-color: var(--sklearn-color-unfitted-level-2);\n",
              "}\n",
              "\n",
              "/* Label box, darken color on hover, fitted */\n",
              "#sk-container-id-1 div.sk-label.fitted:hover label.sk-toggleable__label.fitted {\n",
              "  color: var(--sklearn-color-text);\n",
              "  background-color: var(--sklearn-color-fitted-level-2);\n",
              "}\n",
              "\n",
              "/* Estimator label */\n",
              "\n",
              "#sk-container-id-1 div.sk-label label {\n",
              "  font-family: monospace;\n",
              "  font-weight: bold;\n",
              "  display: inline-block;\n",
              "  line-height: 1.2em;\n",
              "}\n",
              "\n",
              "#sk-container-id-1 div.sk-label-container {\n",
              "  text-align: center;\n",
              "}\n",
              "\n",
              "/* Estimator-specific */\n",
              "#sk-container-id-1 div.sk-estimator {\n",
              "  font-family: monospace;\n",
              "  border: 1px dotted var(--sklearn-color-border-box);\n",
              "  border-radius: 0.25em;\n",
              "  box-sizing: border-box;\n",
              "  margin-bottom: 0.5em;\n",
              "  /* unfitted */\n",
              "  background-color: var(--sklearn-color-unfitted-level-0);\n",
              "}\n",
              "\n",
              "#sk-container-id-1 div.sk-estimator.fitted {\n",
              "  /* fitted */\n",
              "  background-color: var(--sklearn-color-fitted-level-0);\n",
              "}\n",
              "\n",
              "/* on hover */\n",
              "#sk-container-id-1 div.sk-estimator:hover {\n",
              "  /* unfitted */\n",
              "  background-color: var(--sklearn-color-unfitted-level-2);\n",
              "}\n",
              "\n",
              "#sk-container-id-1 div.sk-estimator.fitted:hover {\n",
              "  /* fitted */\n",
              "  background-color: var(--sklearn-color-fitted-level-2);\n",
              "}\n",
              "\n",
              "/* Specification for estimator info (e.g. \"i\" and \"?\") */\n",
              "\n",
              "/* Common style for \"i\" and \"?\" */\n",
              "\n",
              ".sk-estimator-doc-link,\n",
              "a:link.sk-estimator-doc-link,\n",
              "a:visited.sk-estimator-doc-link {\n",
              "  float: right;\n",
              "  font-size: smaller;\n",
              "  line-height: 1em;\n",
              "  font-family: monospace;\n",
              "  background-color: var(--sklearn-color-background);\n",
              "  border-radius: 1em;\n",
              "  height: 1em;\n",
              "  width: 1em;\n",
              "  text-decoration: none !important;\n",
              "  margin-left: 0.5em;\n",
              "  text-align: center;\n",
              "  /* unfitted */\n",
              "  border: var(--sklearn-color-unfitted-level-1) 1pt solid;\n",
              "  color: var(--sklearn-color-unfitted-level-1);\n",
              "}\n",
              "\n",
              ".sk-estimator-doc-link.fitted,\n",
              "a:link.sk-estimator-doc-link.fitted,\n",
              "a:visited.sk-estimator-doc-link.fitted {\n",
              "  /* fitted */\n",
              "  border: var(--sklearn-color-fitted-level-1) 1pt solid;\n",
              "  color: var(--sklearn-color-fitted-level-1);\n",
              "}\n",
              "\n",
              "/* On hover */\n",
              "div.sk-estimator:hover .sk-estimator-doc-link:hover,\n",
              ".sk-estimator-doc-link:hover,\n",
              "div.sk-label-container:hover .sk-estimator-doc-link:hover,\n",
              ".sk-estimator-doc-link:hover {\n",
              "  /* unfitted */\n",
              "  background-color: var(--sklearn-color-unfitted-level-3);\n",
              "  color: var(--sklearn-color-background);\n",
              "  text-decoration: none;\n",
              "}\n",
              "\n",
              "div.sk-estimator.fitted:hover .sk-estimator-doc-link.fitted:hover,\n",
              ".sk-estimator-doc-link.fitted:hover,\n",
              "div.sk-label-container:hover .sk-estimator-doc-link.fitted:hover,\n",
              ".sk-estimator-doc-link.fitted:hover {\n",
              "  /* fitted */\n",
              "  background-color: var(--sklearn-color-fitted-level-3);\n",
              "  color: var(--sklearn-color-background);\n",
              "  text-decoration: none;\n",
              "}\n",
              "\n",
              "/* Span, style for the box shown on hovering the info icon */\n",
              ".sk-estimator-doc-link span {\n",
              "  display: none;\n",
              "  z-index: 9999;\n",
              "  position: relative;\n",
              "  font-weight: normal;\n",
              "  right: .2ex;\n",
              "  padding: .5ex;\n",
              "  margin: .5ex;\n",
              "  width: min-content;\n",
              "  min-width: 20ex;\n",
              "  max-width: 50ex;\n",
              "  color: var(--sklearn-color-text);\n",
              "  box-shadow: 2pt 2pt 4pt #999;\n",
              "  /* unfitted */\n",
              "  background: var(--sklearn-color-unfitted-level-0);\n",
              "  border: .5pt solid var(--sklearn-color-unfitted-level-3);\n",
              "}\n",
              "\n",
              ".sk-estimator-doc-link.fitted span {\n",
              "  /* fitted */\n",
              "  background: var(--sklearn-color-fitted-level-0);\n",
              "  border: var(--sklearn-color-fitted-level-3);\n",
              "}\n",
              "\n",
              ".sk-estimator-doc-link:hover span {\n",
              "  display: block;\n",
              "}\n",
              "\n",
              "/* \"?\"-specific style due to the `<a>` HTML tag */\n",
              "\n",
              "#sk-container-id-1 a.estimator_doc_link {\n",
              "  float: right;\n",
              "  font-size: 1rem;\n",
              "  line-height: 1em;\n",
              "  font-family: monospace;\n",
              "  background-color: var(--sklearn-color-background);\n",
              "  border-radius: 1rem;\n",
              "  height: 1rem;\n",
              "  width: 1rem;\n",
              "  text-decoration: none;\n",
              "  /* unfitted */\n",
              "  color: var(--sklearn-color-unfitted-level-1);\n",
              "  border: var(--sklearn-color-unfitted-level-1) 1pt solid;\n",
              "}\n",
              "\n",
              "#sk-container-id-1 a.estimator_doc_link.fitted {\n",
              "  /* fitted */\n",
              "  border: var(--sklearn-color-fitted-level-1) 1pt solid;\n",
              "  color: var(--sklearn-color-fitted-level-1);\n",
              "}\n",
              "\n",
              "/* On hover */\n",
              "#sk-container-id-1 a.estimator_doc_link:hover {\n",
              "  /* unfitted */\n",
              "  background-color: var(--sklearn-color-unfitted-level-3);\n",
              "  color: var(--sklearn-color-background);\n",
              "  text-decoration: none;\n",
              "}\n",
              "\n",
              "#sk-container-id-1 a.estimator_doc_link.fitted:hover {\n",
              "  /* fitted */\n",
              "  background-color: var(--sklearn-color-fitted-level-3);\n",
              "}\n",
              "</style><div id=\"sk-container-id-1\" class=\"sk-top-container\"><div class=\"sk-text-repr-fallback\"><pre>KNeighborsRegressor(n_neighbors=3)</pre><b>In a Jupyter environment, please rerun this cell to show the HTML representation or trust the notebook. <br />On GitHub, the HTML representation is unable to render, please try loading this page with nbviewer.org.</b></div><div class=\"sk-container\" hidden><div class=\"sk-item\"><div class=\"sk-estimator fitted sk-toggleable\"><input class=\"sk-toggleable__control sk-hidden--visually\" id=\"sk-estimator-id-1\" type=\"checkbox\" checked><label for=\"sk-estimator-id-1\" class=\"sk-toggleable__label fitted sk-toggleable__label-arrow\"><div><div>KNeighborsRegressor</div></div><div><a class=\"sk-estimator-doc-link fitted\" rel=\"noreferrer\" target=\"_blank\" href=\"https://scikit-learn.org/1.6/modules/generated/sklearn.neighbors.KNeighborsRegressor.html\">?<span>Documentation for KNeighborsRegressor</span></a><span class=\"sk-estimator-doc-link fitted\">i<span>Fitted</span></span></div></label><div class=\"sk-toggleable__content fitted\"><pre>KNeighborsRegressor(n_neighbors=3)</pre></div> </div></div></div></div>"
            ]
          },
          "metadata": {},
          "execution_count": 7
        }
      ]
    },
    {
      "cell_type": "markdown",
      "source": [
        "### **Prediksi Berat Badan**"
      ],
      "metadata": {
        "id": "bN08vdON8Xyh"
      }
    },
    {
      "cell_type": "code",
      "source": [
        "X_new = np.array([[155, 1]])\n",
        "X_new"
      ],
      "metadata": {
        "colab": {
          "base_uri": "https://localhost:8080/"
        },
        "id": "XI-WBZC98Nqs",
        "outputId": "3b6af727-63b8-471c-c30f-df6bc8157205"
      },
      "execution_count": 10,
      "outputs": [
        {
          "output_type": "execute_result",
          "data": {
            "text/plain": [
              "array([[155,   1]])"
            ]
          },
          "metadata": {},
          "execution_count": 10
        }
      ]
    },
    {
      "cell_type": "code",
      "source": [
        "y_pred = model.predict(X_new)\n",
        "y_pred"
      ],
      "metadata": {
        "colab": {
          "base_uri": "https://localhost:8080/"
        },
        "id": "UB0LzRrU8gYh",
        "outputId": "29f48f2d-d7e5-4750-89f3-f1c16de2fff9"
      },
      "execution_count": 11,
      "outputs": [
        {
          "output_type": "execute_result",
          "data": {
            "text/plain": [
              "array([60.])"
            ]
          },
          "metadata": {},
          "execution_count": 11
        }
      ]
    },
    {
      "cell_type": "markdown",
      "source": [
        "### **Evaluasi KNN Regression Model**"
      ],
      "metadata": {
        "id": "vvu1XFZx8uT9"
      }
    },
    {
      "cell_type": "code",
      "source": [
        "X_test = np.array([[168, 0], [180, 0], [160, 1], [159, 1]])\n",
        "y_test = np.array([65, 96, 52, 67])\n",
        "\n",
        "print(f'X_test: \\n{X_test}\\n')\n",
        "print(f'y_test: {y_test}')"
      ],
      "metadata": {
        "colab": {
          "base_uri": "https://localhost:8080/"
        },
        "id": "itr9eK_f8x-8",
        "outputId": "900ae1ae-a6a1-4324-e291-f0aa1391ca9a"
      },
      "execution_count": 12,
      "outputs": [
        {
          "output_type": "stream",
          "name": "stdout",
          "text": [
            "X_test: \n",
            "[[168   0]\n",
            " [180   0]\n",
            " [160   1]\n",
            " [159   1]]\n",
            "\n",
            "y_test: [65 96 52 67]\n"
          ]
        }
      ]
    },
    {
      "cell_type": "code",
      "source": [
        "y_pred = model.predict(X_test)\n",
        "np.round(y_pred, 2)"
      ],
      "metadata": {
        "colab": {
          "base_uri": "https://localhost:8080/"
        },
        "id": "nWH3bJqf9Hbh",
        "outputId": "d1f19009-7081-4f6b-91a4-17085664abb3"
      },
      "execution_count": 19,
      "outputs": [
        {
          "output_type": "execute_result",
          "data": {
            "text/plain": [
              "array([70.67, 68.33, 60.  , 60.  ])"
            ]
          },
          "metadata": {},
          "execution_count": 19
        }
      ]
    },
    {
      "cell_type": "markdown",
      "source": [
        "### **Coefficient of Determination atau R^2**\n",
        "\n",
        "Referensi: https://en.wikipedia.org/wiki/Coefficient_of_determination"
      ],
      "metadata": {
        "id": "e2CvUjoa9l_1"
      }
    },
    {
      "cell_type": "code",
      "source": [
        "from sklearn.metrics import r2_score\n",
        "\n",
        "r_squared = r2_score(y_test, y_pred)\n",
        "\n",
        "print(f'R-squared: {r_squared}')"
      ],
      "metadata": {
        "colab": {
          "base_uri": "https://localhost:8080/"
        },
        "id": "4DXKPVR7927k",
        "outputId": "f9302334-2348-42fa-a87d-6492c6828dd3"
      },
      "execution_count": 16,
      "outputs": [
        {
          "output_type": "stream",
          "name": "stdout",
          "text": [
            "R-squared: 0.11938534278959778\n"
          ]
        }
      ]
    },
    {
      "cell_type": "markdown",
      "source": [
        "### **Mean Absolute Error(MAE) atau Mean Absolute Deviation(MAD)**\n",
        "\n",
        "\n",
        "![image.png](data:image/png;base64,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)"
      ],
      "metadata": {
        "id": "q6SASiw2-hsh"
      }
    },
    {
      "cell_type": "markdown",
      "source": [
        "Referensi: https://en.wikipedia.org/wiki/Mean_absolute_error"
      ],
      "metadata": {
        "id": "bO9MPL5H-0wr"
      }
    },
    {
      "cell_type": "code",
      "source": [
        "from sklearn.metrics import mean_absolute_error\n",
        "\n",
        "MAE = mean_absolute_error(y_test, y_pred)\n",
        "\n",
        "print(f'Mae: {MAE}')"
      ],
      "metadata": {
        "id": "S9VlMWz--iBX",
        "outputId": "ab7d55b9-e533-4090-d88b-753e60fbab40",
        "colab": {
          "base_uri": "https://localhost:8080/"
        }
      },
      "execution_count": 21,
      "outputs": [
        {
          "output_type": "stream",
          "name": "stdout",
          "text": [
            "Mae: 12.083333333333336\n"
          ]
        }
      ]
    }
  ]
}