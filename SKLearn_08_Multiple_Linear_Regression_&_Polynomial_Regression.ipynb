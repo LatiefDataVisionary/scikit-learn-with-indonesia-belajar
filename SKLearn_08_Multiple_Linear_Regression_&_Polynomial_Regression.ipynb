{
  "nbformat": 4,
  "nbformat_minor": 0,
  "metadata": {
    "colab": {
      "provenance": [],
      "authorship_tag": "ABX9TyMIjQ4qPpI8AdVMb8KBGJ2y",
      "include_colab_link": true
    },
    "kernelspec": {
      "name": "python3",
      "display_name": "Python 3"
    },
    "language_info": {
      "name": "python"
    }
  },
  "cells": [
    {
      "cell_type": "markdown",
      "metadata": {
        "id": "view-in-github",
        "colab_type": "text"
      },
      "source": [
        "<a href=\"https://colab.research.google.com/github/LatiefDataVisionary/scikit-learn-with-indonesia-belajar/blob/main/SKLearn_08_Multiple_Linear_Regression_%26_Polynomial_Regression.ipynb\" target=\"_parent\"><img src=\"https://colab.research.google.com/assets/colab-badge.svg\" alt=\"Open In Colab\"/></a>"
      ]
    },
    {
      "cell_type": "markdown",
      "source": [
        "## **SKLearn 08: Multiple Linear Regression & Polynomial Regression | Belajar Machine Learning Dasar**\n"
      ],
      "metadata": {
        "id": "TVU5qeFq99U7"
      }
    },
    {
      "cell_type": "markdown",
      "source": [
        "## **Sample Dataset**"
      ],
      "metadata": {
        "id": "xgCNkTIkiQfe"
      }
    },
    {
      "cell_type": "markdown",
      "source": [
        "### **Training Dataset**"
      ],
      "metadata": {
        "id": "hAf6FoEKg_67"
      }
    },
    {
      "cell_type": "code",
      "execution_count": 1,
      "metadata": {
        "id": "dKMDYzDC97PR",
        "colab": {
          "base_uri": "https://localhost:8080/",
          "height": 206
        },
        "outputId": "b452f272-041d-4993-fb69-e739be3744f5"
      },
      "outputs": [
        {
          "output_type": "execute_result",
          "data": {
            "text/plain": [
              "   diameter  n_topping  harga\n",
              "0         6          2    7.0\n",
              "1         8          1    9.0\n",
              "2        10          0   13.0\n",
              "3        14          2   17.5\n",
              "4        18          0   18.0"
            ],
            "text/html": [
              "\n",
              "  <div id=\"df-2f2bf671-81fe-4f00-b5ea-e4e49dad7153\" class=\"colab-df-container\">\n",
              "    <div>\n",
              "<style scoped>\n",
              "    .dataframe tbody tr th:only-of-type {\n",
              "        vertical-align: middle;\n",
              "    }\n",
              "\n",
              "    .dataframe tbody tr th {\n",
              "        vertical-align: top;\n",
              "    }\n",
              "\n",
              "    .dataframe thead th {\n",
              "        text-align: right;\n",
              "    }\n",
              "</style>\n",
              "<table border=\"1\" class=\"dataframe\">\n",
              "  <thead>\n",
              "    <tr style=\"text-align: right;\">\n",
              "      <th></th>\n",
              "      <th>diameter</th>\n",
              "      <th>n_topping</th>\n",
              "      <th>harga</th>\n",
              "    </tr>\n",
              "  </thead>\n",
              "  <tbody>\n",
              "    <tr>\n",
              "      <th>0</th>\n",
              "      <td>6</td>\n",
              "      <td>2</td>\n",
              "      <td>7.0</td>\n",
              "    </tr>\n",
              "    <tr>\n",
              "      <th>1</th>\n",
              "      <td>8</td>\n",
              "      <td>1</td>\n",
              "      <td>9.0</td>\n",
              "    </tr>\n",
              "    <tr>\n",
              "      <th>2</th>\n",
              "      <td>10</td>\n",
              "      <td>0</td>\n",
              "      <td>13.0</td>\n",
              "    </tr>\n",
              "    <tr>\n",
              "      <th>3</th>\n",
              "      <td>14</td>\n",
              "      <td>2</td>\n",
              "      <td>17.5</td>\n",
              "    </tr>\n",
              "    <tr>\n",
              "      <th>4</th>\n",
              "      <td>18</td>\n",
              "      <td>0</td>\n",
              "      <td>18.0</td>\n",
              "    </tr>\n",
              "  </tbody>\n",
              "</table>\n",
              "</div>\n",
              "    <div class=\"colab-df-buttons\">\n",
              "\n",
              "  <div class=\"colab-df-container\">\n",
              "    <button class=\"colab-df-convert\" onclick=\"convertToInteractive('df-2f2bf671-81fe-4f00-b5ea-e4e49dad7153')\"\n",
              "            title=\"Convert this dataframe to an interactive table.\"\n",
              "            style=\"display:none;\">\n",
              "\n",
              "  <svg xmlns=\"http://www.w3.org/2000/svg\" height=\"24px\" viewBox=\"0 -960 960 960\">\n",
              "    <path d=\"M120-120v-720h720v720H120Zm60-500h600v-160H180v160Zm220 220h160v-160H400v160Zm0 220h160v-160H400v160ZM180-400h160v-160H180v160Zm440 0h160v-160H620v160ZM180-180h160v-160H180v160Zm440 0h160v-160H620v160Z\"/>\n",
              "  </svg>\n",
              "    </button>\n",
              "\n",
              "  <style>\n",
              "    .colab-df-container {\n",
              "      display:flex;\n",
              "      gap: 12px;\n",
              "    }\n",
              "\n",
              "    .colab-df-convert {\n",
              "      background-color: #E8F0FE;\n",
              "      border: none;\n",
              "      border-radius: 50%;\n",
              "      cursor: pointer;\n",
              "      display: none;\n",
              "      fill: #1967D2;\n",
              "      height: 32px;\n",
              "      padding: 0 0 0 0;\n",
              "      width: 32px;\n",
              "    }\n",
              "\n",
              "    .colab-df-convert:hover {\n",
              "      background-color: #E2EBFA;\n",
              "      box-shadow: 0px 1px 2px rgba(60, 64, 67, 0.3), 0px 1px 3px 1px rgba(60, 64, 67, 0.15);\n",
              "      fill: #174EA6;\n",
              "    }\n",
              "\n",
              "    .colab-df-buttons div {\n",
              "      margin-bottom: 4px;\n",
              "    }\n",
              "\n",
              "    [theme=dark] .colab-df-convert {\n",
              "      background-color: #3B4455;\n",
              "      fill: #D2E3FC;\n",
              "    }\n",
              "\n",
              "    [theme=dark] .colab-df-convert:hover {\n",
              "      background-color: #434B5C;\n",
              "      box-shadow: 0px 1px 3px 1px rgba(0, 0, 0, 0.15);\n",
              "      filter: drop-shadow(0px 1px 2px rgba(0, 0, 0, 0.3));\n",
              "      fill: #FFFFFF;\n",
              "    }\n",
              "  </style>\n",
              "\n",
              "    <script>\n",
              "      const buttonEl =\n",
              "        document.querySelector('#df-2f2bf671-81fe-4f00-b5ea-e4e49dad7153 button.colab-df-convert');\n",
              "      buttonEl.style.display =\n",
              "        google.colab.kernel.accessAllowed ? 'block' : 'none';\n",
              "\n",
              "      async function convertToInteractive(key) {\n",
              "        const element = document.querySelector('#df-2f2bf671-81fe-4f00-b5ea-e4e49dad7153');\n",
              "        const dataTable =\n",
              "          await google.colab.kernel.invokeFunction('convertToInteractive',\n",
              "                                                    [key], {});\n",
              "        if (!dataTable) return;\n",
              "\n",
              "        const docLinkHtml = 'Like what you see? Visit the ' +\n",
              "          '<a target=\"_blank\" href=https://colab.research.google.com/notebooks/data_table.ipynb>data table notebook</a>'\n",
              "          + ' to learn more about interactive tables.';\n",
              "        element.innerHTML = '';\n",
              "        dataTable['output_type'] = 'display_data';\n",
              "        await google.colab.output.renderOutput(dataTable, element);\n",
              "        const docLink = document.createElement('div');\n",
              "        docLink.innerHTML = docLinkHtml;\n",
              "        element.appendChild(docLink);\n",
              "      }\n",
              "    </script>\n",
              "  </div>\n",
              "\n",
              "\n",
              "<div id=\"df-4c40d1e0-2f59-4fe1-a0dd-4a6479347d54\">\n",
              "  <button class=\"colab-df-quickchart\" onclick=\"quickchart('df-4c40d1e0-2f59-4fe1-a0dd-4a6479347d54')\"\n",
              "            title=\"Suggest charts\"\n",
              "            style=\"display:none;\">\n",
              "\n",
              "<svg xmlns=\"http://www.w3.org/2000/svg\" height=\"24px\"viewBox=\"0 0 24 24\"\n",
              "     width=\"24px\">\n",
              "    <g>\n",
              "        <path d=\"M19 3H5c-1.1 0-2 .9-2 2v14c0 1.1.9 2 2 2h14c1.1 0 2-.9 2-2V5c0-1.1-.9-2-2-2zM9 17H7v-7h2v7zm4 0h-2V7h2v10zm4 0h-2v-4h2v4z\"/>\n",
              "    </g>\n",
              "</svg>\n",
              "  </button>\n",
              "\n",
              "<style>\n",
              "  .colab-df-quickchart {\n",
              "      --bg-color: #E8F0FE;\n",
              "      --fill-color: #1967D2;\n",
              "      --hover-bg-color: #E2EBFA;\n",
              "      --hover-fill-color: #174EA6;\n",
              "      --disabled-fill-color: #AAA;\n",
              "      --disabled-bg-color: #DDD;\n",
              "  }\n",
              "\n",
              "  [theme=dark] .colab-df-quickchart {\n",
              "      --bg-color: #3B4455;\n",
              "      --fill-color: #D2E3FC;\n",
              "      --hover-bg-color: #434B5C;\n",
              "      --hover-fill-color: #FFFFFF;\n",
              "      --disabled-bg-color: #3B4455;\n",
              "      --disabled-fill-color: #666;\n",
              "  }\n",
              "\n",
              "  .colab-df-quickchart {\n",
              "    background-color: var(--bg-color);\n",
              "    border: none;\n",
              "    border-radius: 50%;\n",
              "    cursor: pointer;\n",
              "    display: none;\n",
              "    fill: var(--fill-color);\n",
              "    height: 32px;\n",
              "    padding: 0;\n",
              "    width: 32px;\n",
              "  }\n",
              "\n",
              "  .colab-df-quickchart:hover {\n",
              "    background-color: var(--hover-bg-color);\n",
              "    box-shadow: 0 1px 2px rgba(60, 64, 67, 0.3), 0 1px 3px 1px rgba(60, 64, 67, 0.15);\n",
              "    fill: var(--button-hover-fill-color);\n",
              "  }\n",
              "\n",
              "  .colab-df-quickchart-complete:disabled,\n",
              "  .colab-df-quickchart-complete:disabled:hover {\n",
              "    background-color: var(--disabled-bg-color);\n",
              "    fill: var(--disabled-fill-color);\n",
              "    box-shadow: none;\n",
              "  }\n",
              "\n",
              "  .colab-df-spinner {\n",
              "    border: 2px solid var(--fill-color);\n",
              "    border-color: transparent;\n",
              "    border-bottom-color: var(--fill-color);\n",
              "    animation:\n",
              "      spin 1s steps(1) infinite;\n",
              "  }\n",
              "\n",
              "  @keyframes spin {\n",
              "    0% {\n",
              "      border-color: transparent;\n",
              "      border-bottom-color: var(--fill-color);\n",
              "      border-left-color: var(--fill-color);\n",
              "    }\n",
              "    20% {\n",
              "      border-color: transparent;\n",
              "      border-left-color: var(--fill-color);\n",
              "      border-top-color: var(--fill-color);\n",
              "    }\n",
              "    30% {\n",
              "      border-color: transparent;\n",
              "      border-left-color: var(--fill-color);\n",
              "      border-top-color: var(--fill-color);\n",
              "      border-right-color: var(--fill-color);\n",
              "    }\n",
              "    40% {\n",
              "      border-color: transparent;\n",
              "      border-right-color: var(--fill-color);\n",
              "      border-top-color: var(--fill-color);\n",
              "    }\n",
              "    60% {\n",
              "      border-color: transparent;\n",
              "      border-right-color: var(--fill-color);\n",
              "    }\n",
              "    80% {\n",
              "      border-color: transparent;\n",
              "      border-right-color: var(--fill-color);\n",
              "      border-bottom-color: var(--fill-color);\n",
              "    }\n",
              "    90% {\n",
              "      border-color: transparent;\n",
              "      border-bottom-color: var(--fill-color);\n",
              "    }\n",
              "  }\n",
              "</style>\n",
              "\n",
              "  <script>\n",
              "    async function quickchart(key) {\n",
              "      const quickchartButtonEl =\n",
              "        document.querySelector('#' + key + ' button');\n",
              "      quickchartButtonEl.disabled = true;  // To prevent multiple clicks.\n",
              "      quickchartButtonEl.classList.add('colab-df-spinner');\n",
              "      try {\n",
              "        const charts = await google.colab.kernel.invokeFunction(\n",
              "            'suggestCharts', [key], {});\n",
              "      } catch (error) {\n",
              "        console.error('Error during call to suggestCharts:', error);\n",
              "      }\n",
              "      quickchartButtonEl.classList.remove('colab-df-spinner');\n",
              "      quickchartButtonEl.classList.add('colab-df-quickchart-complete');\n",
              "    }\n",
              "    (() => {\n",
              "      let quickchartButtonEl =\n",
              "        document.querySelector('#df-4c40d1e0-2f59-4fe1-a0dd-4a6479347d54 button');\n",
              "      quickchartButtonEl.style.display =\n",
              "        google.colab.kernel.accessAllowed ? 'block' : 'none';\n",
              "    })();\n",
              "  </script>\n",
              "</div>\n",
              "\n",
              "  <div id=\"id_be7413b9-cec6-461a-a7cc-92eafc9374b5\">\n",
              "    <style>\n",
              "      .colab-df-generate {\n",
              "        background-color: #E8F0FE;\n",
              "        border: none;\n",
              "        border-radius: 50%;\n",
              "        cursor: pointer;\n",
              "        display: none;\n",
              "        fill: #1967D2;\n",
              "        height: 32px;\n",
              "        padding: 0 0 0 0;\n",
              "        width: 32px;\n",
              "      }\n",
              "\n",
              "      .colab-df-generate:hover {\n",
              "        background-color: #E2EBFA;\n",
              "        box-shadow: 0px 1px 2px rgba(60, 64, 67, 0.3), 0px 1px 3px 1px rgba(60, 64, 67, 0.15);\n",
              "        fill: #174EA6;\n",
              "      }\n",
              "\n",
              "      [theme=dark] .colab-df-generate {\n",
              "        background-color: #3B4455;\n",
              "        fill: #D2E3FC;\n",
              "      }\n",
              "\n",
              "      [theme=dark] .colab-df-generate:hover {\n",
              "        background-color: #434B5C;\n",
              "        box-shadow: 0px 1px 3px 1px rgba(0, 0, 0, 0.15);\n",
              "        filter: drop-shadow(0px 1px 2px rgba(0, 0, 0, 0.3));\n",
              "        fill: #FFFFFF;\n",
              "      }\n",
              "    </style>\n",
              "    <button class=\"colab-df-generate\" onclick=\"generateWithVariable('train_pizza_df')\"\n",
              "            title=\"Generate code using this dataframe.\"\n",
              "            style=\"display:none;\">\n",
              "\n",
              "  <svg xmlns=\"http://www.w3.org/2000/svg\" height=\"24px\"viewBox=\"0 0 24 24\"\n",
              "       width=\"24px\">\n",
              "    <path d=\"M7,19H8.4L18.45,9,17,7.55,7,17.6ZM5,21V16.75L18.45,3.32a2,2,0,0,1,2.83,0l1.4,1.43a1.91,1.91,0,0,1,.58,1.4,1.91,1.91,0,0,1-.58,1.4L9.25,21ZM18.45,9,17,7.55Zm-12,3A5.31,5.31,0,0,0,4.9,8.1,5.31,5.31,0,0,0,1,6.5,5.31,5.31,0,0,0,4.9,4.9,5.31,5.31,0,0,0,6.5,1,5.31,5.31,0,0,0,8.1,4.9,5.31,5.31,0,0,0,12,6.5,5.46,5.46,0,0,0,6.5,12Z\"/>\n",
              "  </svg>\n",
              "    </button>\n",
              "    <script>\n",
              "      (() => {\n",
              "      const buttonEl =\n",
              "        document.querySelector('#id_be7413b9-cec6-461a-a7cc-92eafc9374b5 button.colab-df-generate');\n",
              "      buttonEl.style.display =\n",
              "        google.colab.kernel.accessAllowed ? 'block' : 'none';\n",
              "\n",
              "      buttonEl.onclick = () => {\n",
              "        google.colab.notebook.generateWithVariable('train_pizza_df');\n",
              "      }\n",
              "      })();\n",
              "    </script>\n",
              "  </div>\n",
              "\n",
              "    </div>\n",
              "  </div>\n"
            ],
            "application/vnd.google.colaboratory.intrinsic+json": {
              "type": "dataframe",
              "variable_name": "train_pizza_df",
              "summary": "{\n  \"name\": \"train_pizza_df\",\n  \"rows\": 5,\n  \"fields\": [\n    {\n      \"column\": \"diameter\",\n      \"properties\": {\n        \"dtype\": \"number\",\n        \"std\": 4,\n        \"min\": 6,\n        \"max\": 18,\n        \"num_unique_values\": 5,\n        \"samples\": [\n          8,\n          18,\n          10\n        ],\n        \"semantic_type\": \"\",\n        \"description\": \"\"\n      }\n    },\n    {\n      \"column\": \"n_topping\",\n      \"properties\": {\n        \"dtype\": \"number\",\n        \"std\": 1,\n        \"min\": 0,\n        \"max\": 2,\n        \"num_unique_values\": 3,\n        \"samples\": [\n          2,\n          1,\n          0\n        ],\n        \"semantic_type\": \"\",\n        \"description\": \"\"\n      }\n    },\n    {\n      \"column\": \"harga\",\n      \"properties\": {\n        \"dtype\": \"number\",\n        \"std\": 4.9295030175464944,\n        \"min\": 7.0,\n        \"max\": 18.0,\n        \"num_unique_values\": 5,\n        \"samples\": [\n          9.0,\n          18.0,\n          13.0\n        ],\n        \"semantic_type\": \"\",\n        \"description\": \"\"\n      }\n    }\n  ]\n}"
            }
          },
          "metadata": {},
          "execution_count": 1
        }
      ],
      "source": [
        "import pandas as pd\n",
        "\n",
        "pizza = {'diameter': [6, 8, 10, 14, 18],\n",
        "         'n_topping': [2, 1, 0, 2, 0],\n",
        "         'harga': [7, 9, 13, 17.5, 18]}\n",
        "\n",
        "train_pizza_df = pd.DataFrame(pizza)\n",
        "train_pizza_df"
      ]
    },
    {
      "cell_type": "markdown",
      "source": [
        "### **Testing Dataset**"
      ],
      "metadata": {
        "id": "7GtKUMzohvsk"
      }
    },
    {
      "cell_type": "code",
      "source": [
        "pizza = {'diameter': [8, 9, 11, 16, 12],\n",
        "         'n_topping': [2, 0, 2, 2, 0],\n",
        "         'harga': [11, 8.5, 15, 18, 11]}\n",
        "\n",
        "test_pizza_df = pd.DataFrame(pizza)\n",
        "test_pizza_df"
      ],
      "metadata": {
        "colab": {
          "base_uri": "https://localhost:8080/",
          "height": 206
        },
        "id": "I40Egt3Qh1mN",
        "outputId": "9c60b77d-6807-4544-e2c8-c8910cf6a6e5"
      },
      "execution_count": 2,
      "outputs": [
        {
          "output_type": "execute_result",
          "data": {
            "text/plain": [
              "   diameter  n_topping  harga\n",
              "0         8          2   11.0\n",
              "1         9          0    8.5\n",
              "2        11          2   15.0\n",
              "3        16          2   18.0\n",
              "4        12          0   11.0"
            ],
            "text/html": [
              "\n",
              "  <div id=\"df-c76d5e39-a921-4105-ba5e-91379ba09cf3\" class=\"colab-df-container\">\n",
              "    <div>\n",
              "<style scoped>\n",
              "    .dataframe tbody tr th:only-of-type {\n",
              "        vertical-align: middle;\n",
              "    }\n",
              "\n",
              "    .dataframe tbody tr th {\n",
              "        vertical-align: top;\n",
              "    }\n",
              "\n",
              "    .dataframe thead th {\n",
              "        text-align: right;\n",
              "    }\n",
              "</style>\n",
              "<table border=\"1\" class=\"dataframe\">\n",
              "  <thead>\n",
              "    <tr style=\"text-align: right;\">\n",
              "      <th></th>\n",
              "      <th>diameter</th>\n",
              "      <th>n_topping</th>\n",
              "      <th>harga</th>\n",
              "    </tr>\n",
              "  </thead>\n",
              "  <tbody>\n",
              "    <tr>\n",
              "      <th>0</th>\n",
              "      <td>8</td>\n",
              "      <td>2</td>\n",
              "      <td>11.0</td>\n",
              "    </tr>\n",
              "    <tr>\n",
              "      <th>1</th>\n",
              "      <td>9</td>\n",
              "      <td>0</td>\n",
              "      <td>8.5</td>\n",
              "    </tr>\n",
              "    <tr>\n",
              "      <th>2</th>\n",
              "      <td>11</td>\n",
              "      <td>2</td>\n",
              "      <td>15.0</td>\n",
              "    </tr>\n",
              "    <tr>\n",
              "      <th>3</th>\n",
              "      <td>16</td>\n",
              "      <td>2</td>\n",
              "      <td>18.0</td>\n",
              "    </tr>\n",
              "    <tr>\n",
              "      <th>4</th>\n",
              "      <td>12</td>\n",
              "      <td>0</td>\n",
              "      <td>11.0</td>\n",
              "    </tr>\n",
              "  </tbody>\n",
              "</table>\n",
              "</div>\n",
              "    <div class=\"colab-df-buttons\">\n",
              "\n",
              "  <div class=\"colab-df-container\">\n",
              "    <button class=\"colab-df-convert\" onclick=\"convertToInteractive('df-c76d5e39-a921-4105-ba5e-91379ba09cf3')\"\n",
              "            title=\"Convert this dataframe to an interactive table.\"\n",
              "            style=\"display:none;\">\n",
              "\n",
              "  <svg xmlns=\"http://www.w3.org/2000/svg\" height=\"24px\" viewBox=\"0 -960 960 960\">\n",
              "    <path d=\"M120-120v-720h720v720H120Zm60-500h600v-160H180v160Zm220 220h160v-160H400v160Zm0 220h160v-160H400v160ZM180-400h160v-160H180v160Zm440 0h160v-160H620v160ZM180-180h160v-160H180v160Zm440 0h160v-160H620v160Z\"/>\n",
              "  </svg>\n",
              "    </button>\n",
              "\n",
              "  <style>\n",
              "    .colab-df-container {\n",
              "      display:flex;\n",
              "      gap: 12px;\n",
              "    }\n",
              "\n",
              "    .colab-df-convert {\n",
              "      background-color: #E8F0FE;\n",
              "      border: none;\n",
              "      border-radius: 50%;\n",
              "      cursor: pointer;\n",
              "      display: none;\n",
              "      fill: #1967D2;\n",
              "      height: 32px;\n",
              "      padding: 0 0 0 0;\n",
              "      width: 32px;\n",
              "    }\n",
              "\n",
              "    .colab-df-convert:hover {\n",
              "      background-color: #E2EBFA;\n",
              "      box-shadow: 0px 1px 2px rgba(60, 64, 67, 0.3), 0px 1px 3px 1px rgba(60, 64, 67, 0.15);\n",
              "      fill: #174EA6;\n",
              "    }\n",
              "\n",
              "    .colab-df-buttons div {\n",
              "      margin-bottom: 4px;\n",
              "    }\n",
              "\n",
              "    [theme=dark] .colab-df-convert {\n",
              "      background-color: #3B4455;\n",
              "      fill: #D2E3FC;\n",
              "    }\n",
              "\n",
              "    [theme=dark] .colab-df-convert:hover {\n",
              "      background-color: #434B5C;\n",
              "      box-shadow: 0px 1px 3px 1px rgba(0, 0, 0, 0.15);\n",
              "      filter: drop-shadow(0px 1px 2px rgba(0, 0, 0, 0.3));\n",
              "      fill: #FFFFFF;\n",
              "    }\n",
              "  </style>\n",
              "\n",
              "    <script>\n",
              "      const buttonEl =\n",
              "        document.querySelector('#df-c76d5e39-a921-4105-ba5e-91379ba09cf3 button.colab-df-convert');\n",
              "      buttonEl.style.display =\n",
              "        google.colab.kernel.accessAllowed ? 'block' : 'none';\n",
              "\n",
              "      async function convertToInteractive(key) {\n",
              "        const element = document.querySelector('#df-c76d5e39-a921-4105-ba5e-91379ba09cf3');\n",
              "        const dataTable =\n",
              "          await google.colab.kernel.invokeFunction('convertToInteractive',\n",
              "                                                    [key], {});\n",
              "        if (!dataTable) return;\n",
              "\n",
              "        const docLinkHtml = 'Like what you see? Visit the ' +\n",
              "          '<a target=\"_blank\" href=https://colab.research.google.com/notebooks/data_table.ipynb>data table notebook</a>'\n",
              "          + ' to learn more about interactive tables.';\n",
              "        element.innerHTML = '';\n",
              "        dataTable['output_type'] = 'display_data';\n",
              "        await google.colab.output.renderOutput(dataTable, element);\n",
              "        const docLink = document.createElement('div');\n",
              "        docLink.innerHTML = docLinkHtml;\n",
              "        element.appendChild(docLink);\n",
              "      }\n",
              "    </script>\n",
              "  </div>\n",
              "\n",
              "\n",
              "<div id=\"df-4a184a14-4a3b-4969-bd8e-f84e6ea73bf3\">\n",
              "  <button class=\"colab-df-quickchart\" onclick=\"quickchart('df-4a184a14-4a3b-4969-bd8e-f84e6ea73bf3')\"\n",
              "            title=\"Suggest charts\"\n",
              "            style=\"display:none;\">\n",
              "\n",
              "<svg xmlns=\"http://www.w3.org/2000/svg\" height=\"24px\"viewBox=\"0 0 24 24\"\n",
              "     width=\"24px\">\n",
              "    <g>\n",
              "        <path d=\"M19 3H5c-1.1 0-2 .9-2 2v14c0 1.1.9 2 2 2h14c1.1 0 2-.9 2-2V5c0-1.1-.9-2-2-2zM9 17H7v-7h2v7zm4 0h-2V7h2v10zm4 0h-2v-4h2v4z\"/>\n",
              "    </g>\n",
              "</svg>\n",
              "  </button>\n",
              "\n",
              "<style>\n",
              "  .colab-df-quickchart {\n",
              "      --bg-color: #E8F0FE;\n",
              "      --fill-color: #1967D2;\n",
              "      --hover-bg-color: #E2EBFA;\n",
              "      --hover-fill-color: #174EA6;\n",
              "      --disabled-fill-color: #AAA;\n",
              "      --disabled-bg-color: #DDD;\n",
              "  }\n",
              "\n",
              "  [theme=dark] .colab-df-quickchart {\n",
              "      --bg-color: #3B4455;\n",
              "      --fill-color: #D2E3FC;\n",
              "      --hover-bg-color: #434B5C;\n",
              "      --hover-fill-color: #FFFFFF;\n",
              "      --disabled-bg-color: #3B4455;\n",
              "      --disabled-fill-color: #666;\n",
              "  }\n",
              "\n",
              "  .colab-df-quickchart {\n",
              "    background-color: var(--bg-color);\n",
              "    border: none;\n",
              "    border-radius: 50%;\n",
              "    cursor: pointer;\n",
              "    display: none;\n",
              "    fill: var(--fill-color);\n",
              "    height: 32px;\n",
              "    padding: 0;\n",
              "    width: 32px;\n",
              "  }\n",
              "\n",
              "  .colab-df-quickchart:hover {\n",
              "    background-color: var(--hover-bg-color);\n",
              "    box-shadow: 0 1px 2px rgba(60, 64, 67, 0.3), 0 1px 3px 1px rgba(60, 64, 67, 0.15);\n",
              "    fill: var(--button-hover-fill-color);\n",
              "  }\n",
              "\n",
              "  .colab-df-quickchart-complete:disabled,\n",
              "  .colab-df-quickchart-complete:disabled:hover {\n",
              "    background-color: var(--disabled-bg-color);\n",
              "    fill: var(--disabled-fill-color);\n",
              "    box-shadow: none;\n",
              "  }\n",
              "\n",
              "  .colab-df-spinner {\n",
              "    border: 2px solid var(--fill-color);\n",
              "    border-color: transparent;\n",
              "    border-bottom-color: var(--fill-color);\n",
              "    animation:\n",
              "      spin 1s steps(1) infinite;\n",
              "  }\n",
              "\n",
              "  @keyframes spin {\n",
              "    0% {\n",
              "      border-color: transparent;\n",
              "      border-bottom-color: var(--fill-color);\n",
              "      border-left-color: var(--fill-color);\n",
              "    }\n",
              "    20% {\n",
              "      border-color: transparent;\n",
              "      border-left-color: var(--fill-color);\n",
              "      border-top-color: var(--fill-color);\n",
              "    }\n",
              "    30% {\n",
              "      border-color: transparent;\n",
              "      border-left-color: var(--fill-color);\n",
              "      border-top-color: var(--fill-color);\n",
              "      border-right-color: var(--fill-color);\n",
              "    }\n",
              "    40% {\n",
              "      border-color: transparent;\n",
              "      border-right-color: var(--fill-color);\n",
              "      border-top-color: var(--fill-color);\n",
              "    }\n",
              "    60% {\n",
              "      border-color: transparent;\n",
              "      border-right-color: var(--fill-color);\n",
              "    }\n",
              "    80% {\n",
              "      border-color: transparent;\n",
              "      border-right-color: var(--fill-color);\n",
              "      border-bottom-color: var(--fill-color);\n",
              "    }\n",
              "    90% {\n",
              "      border-color: transparent;\n",
              "      border-bottom-color: var(--fill-color);\n",
              "    }\n",
              "  }\n",
              "</style>\n",
              "\n",
              "  <script>\n",
              "    async function quickchart(key) {\n",
              "      const quickchartButtonEl =\n",
              "        document.querySelector('#' + key + ' button');\n",
              "      quickchartButtonEl.disabled = true;  // To prevent multiple clicks.\n",
              "      quickchartButtonEl.classList.add('colab-df-spinner');\n",
              "      try {\n",
              "        const charts = await google.colab.kernel.invokeFunction(\n",
              "            'suggestCharts', [key], {});\n",
              "      } catch (error) {\n",
              "        console.error('Error during call to suggestCharts:', error);\n",
              "      }\n",
              "      quickchartButtonEl.classList.remove('colab-df-spinner');\n",
              "      quickchartButtonEl.classList.add('colab-df-quickchart-complete');\n",
              "    }\n",
              "    (() => {\n",
              "      let quickchartButtonEl =\n",
              "        document.querySelector('#df-4a184a14-4a3b-4969-bd8e-f84e6ea73bf3 button');\n",
              "      quickchartButtonEl.style.display =\n",
              "        google.colab.kernel.accessAllowed ? 'block' : 'none';\n",
              "    })();\n",
              "  </script>\n",
              "</div>\n",
              "\n",
              "  <div id=\"id_78fe27a4-dc53-435d-9da4-59012408ae93\">\n",
              "    <style>\n",
              "      .colab-df-generate {\n",
              "        background-color: #E8F0FE;\n",
              "        border: none;\n",
              "        border-radius: 50%;\n",
              "        cursor: pointer;\n",
              "        display: none;\n",
              "        fill: #1967D2;\n",
              "        height: 32px;\n",
              "        padding: 0 0 0 0;\n",
              "        width: 32px;\n",
              "      }\n",
              "\n",
              "      .colab-df-generate:hover {\n",
              "        background-color: #E2EBFA;\n",
              "        box-shadow: 0px 1px 2px rgba(60, 64, 67, 0.3), 0px 1px 3px 1px rgba(60, 64, 67, 0.15);\n",
              "        fill: #174EA6;\n",
              "      }\n",
              "\n",
              "      [theme=dark] .colab-df-generate {\n",
              "        background-color: #3B4455;\n",
              "        fill: #D2E3FC;\n",
              "      }\n",
              "\n",
              "      [theme=dark] .colab-df-generate:hover {\n",
              "        background-color: #434B5C;\n",
              "        box-shadow: 0px 1px 3px 1px rgba(0, 0, 0, 0.15);\n",
              "        filter: drop-shadow(0px 1px 2px rgba(0, 0, 0, 0.3));\n",
              "        fill: #FFFFFF;\n",
              "      }\n",
              "    </style>\n",
              "    <button class=\"colab-df-generate\" onclick=\"generateWithVariable('test_pizza_df')\"\n",
              "            title=\"Generate code using this dataframe.\"\n",
              "            style=\"display:none;\">\n",
              "\n",
              "  <svg xmlns=\"http://www.w3.org/2000/svg\" height=\"24px\"viewBox=\"0 0 24 24\"\n",
              "       width=\"24px\">\n",
              "    <path d=\"M7,19H8.4L18.45,9,17,7.55,7,17.6ZM5,21V16.75L18.45,3.32a2,2,0,0,1,2.83,0l1.4,1.43a1.91,1.91,0,0,1,.58,1.4,1.91,1.91,0,0,1-.58,1.4L9.25,21ZM18.45,9,17,7.55Zm-12,3A5.31,5.31,0,0,0,4.9,8.1,5.31,5.31,0,0,0,1,6.5,5.31,5.31,0,0,0,4.9,4.9,5.31,5.31,0,0,0,6.5,1,5.31,5.31,0,0,0,8.1,4.9,5.31,5.31,0,0,0,12,6.5,5.46,5.46,0,0,0,6.5,12Z\"/>\n",
              "  </svg>\n",
              "    </button>\n",
              "    <script>\n",
              "      (() => {\n",
              "      const buttonEl =\n",
              "        document.querySelector('#id_78fe27a4-dc53-435d-9da4-59012408ae93 button.colab-df-generate');\n",
              "      buttonEl.style.display =\n",
              "        google.colab.kernel.accessAllowed ? 'block' : 'none';\n",
              "\n",
              "      buttonEl.onclick = () => {\n",
              "        google.colab.notebook.generateWithVariable('test_pizza_df');\n",
              "      }\n",
              "      })();\n",
              "    </script>\n",
              "  </div>\n",
              "\n",
              "    </div>\n",
              "  </div>\n"
            ],
            "application/vnd.google.colaboratory.intrinsic+json": {
              "type": "dataframe",
              "variable_name": "test_pizza_df",
              "summary": "{\n  \"name\": \"test_pizza_df\",\n  \"rows\": 5,\n  \"fields\": [\n    {\n      \"column\": \"diameter\",\n      \"properties\": {\n        \"dtype\": \"number\",\n        \"std\": 3,\n        \"min\": 8,\n        \"max\": 16,\n        \"num_unique_values\": 5,\n        \"samples\": [\n          9,\n          12,\n          11\n        ],\n        \"semantic_type\": \"\",\n        \"description\": \"\"\n      }\n    },\n    {\n      \"column\": \"n_topping\",\n      \"properties\": {\n        \"dtype\": \"number\",\n        \"std\": 1,\n        \"min\": 0,\n        \"max\": 2,\n        \"num_unique_values\": 2,\n        \"samples\": [\n          0,\n          2\n        ],\n        \"semantic_type\": \"\",\n        \"description\": \"\"\n      }\n    },\n    {\n      \"column\": \"harga\",\n      \"properties\": {\n        \"dtype\": \"number\",\n        \"std\": 3.7682887362833544,\n        \"min\": 8.5,\n        \"max\": 18.0,\n        \"num_unique_values\": 4,\n        \"samples\": [\n          8.5,\n          18.0\n        ],\n        \"semantic_type\": \"\",\n        \"description\": \"\"\n      }\n    }\n  ]\n}"
            }
          },
          "metadata": {},
          "execution_count": 2
        }
      ]
    },
    {
      "cell_type": "markdown",
      "source": [
        "## **Preprocessing Dataset**"
      ],
      "metadata": {
        "id": "wGqBpLdgiXIG"
      }
    },
    {
      "cell_type": "code",
      "source": [
        "import numpy as np\n",
        "\n",
        "X_train = np.array(train_pizza_df[['diameter', 'n_topping']])\n",
        "y_train = np.array(train_pizza_df['harga'])\n",
        "\n",
        "print(f'X_train:\\n{X_train}\\n')\n",
        "print(f'y_train: {y_train}')"
      ],
      "metadata": {
        "colab": {
          "base_uri": "https://localhost:8080/"
        },
        "id": "Am32fbicjBG_",
        "outputId": "0080028b-2062-4b6f-c052-39ac3cdacbf4"
      },
      "execution_count": 3,
      "outputs": [
        {
          "output_type": "stream",
          "name": "stdout",
          "text": [
            "X_train:\n",
            "[[ 6  2]\n",
            " [ 8  1]\n",
            " [10  0]\n",
            " [14  2]\n",
            " [18  0]]\n",
            "\n",
            "y_train: [ 7.   9.  13.  17.5 18. ]\n"
          ]
        }
      ]
    },
    {
      "cell_type": "code",
      "source": [
        "X_test = np.array(test_pizza_df[['diameter', 'n_topping']])\n",
        "y_test = np.array(test_pizza_df['harga'])\n",
        "\n",
        "print(f'X_test:\\n{X_test}\\n')\n",
        "print(f'y_test: {y_test}')"
      ],
      "metadata": {
        "colab": {
          "base_uri": "https://localhost:8080/"
        },
        "id": "VZP2fGi5joPA",
        "outputId": "ec8c4fa4-bca3-431b-d097-ed701217efbe"
      },
      "execution_count": 4,
      "outputs": [
        {
          "output_type": "stream",
          "name": "stdout",
          "text": [
            "X_test:\n",
            "[[ 8  2]\n",
            " [ 9  0]\n",
            " [11  2]\n",
            " [16  2]\n",
            " [12  0]]\n",
            "\n",
            "y_test: [11.   8.5 15.  18.  11. ]\n"
          ]
        }
      ]
    },
    {
      "cell_type": "markdown",
      "source": [
        "## **Multiple Linear Regression**\n",
        "\n",
        "Multiple Linear Regression merupakan generalisasi dari Simple Linear Regression yang memungkinkan untuk menggunakan beberapa explanatory variables."
      ],
      "metadata": {
        "id": "6VLFc6kLkBD4"
      }
    },
    {
      "cell_type": "markdown",
      "source": [
        "![image.png](data:image/png;base64,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)"
      ],
      "metadata": {
        "id": "arazdYpikgY4"
      }
    },
    {
      "cell_type": "markdown",
      "source": [
        "Referensi: https://en.wikipedia.org/wiki/Linear_regression"
      ],
      "metadata": {
        "id": "ZypYdY4ykggu"
      }
    },
    {
      "cell_type": "code",
      "source": [
        "from sklearn.linear_model import LinearRegression\n",
        "from sklearn.metrics import r2_score\n",
        "\n",
        "model = LinearRegression()\n",
        "model.fit(X_train, y_train)\n",
        "y_pred = model.predict(X_test)\n",
        "\n",
        "print(f'r_squared: {r2_score(y_test, y_pred)}')"
      ],
      "metadata": {
        "colab": {
          "base_uri": "https://localhost:8080/"
        },
        "id": "8piRfI8DkmGa",
        "outputId": "accb6f0d-fcc5-487e-ace0-0cf6dd6ed800"
      },
      "execution_count": 5,
      "outputs": [
        {
          "output_type": "stream",
          "name": "stdout",
          "text": [
            "r_squared: 0.7701677731318468\n"
          ]
        }
      ]
    },
    {
      "cell_type": "markdown",
      "source": [
        "## **Polynomial Regression**"
      ],
      "metadata": {
        "id": "H-ED5u0UfTZu"
      }
    },
    {
      "cell_type": "markdown",
      "source": [
        "Polynomial Regression memodelkan hubungan antara independent variable `X` dan dependent variable `Y` dengan derajat polynomial dalam `X`.\n",
        "\n",
        "Referensi: https://en.wikipedia.org/wiki/Polynomial_regression"
      ],
      "metadata": {
        "id": "WxzLMMyjfuOu"
      }
    },
    {
      "cell_type": "markdown",
      "source": [
        "### **Preprocessing Dataset**"
      ],
      "metadata": {
        "id": "_WkKidkggXXF"
      }
    },
    {
      "cell_type": "code",
      "source": [
        "X_train = np.array(train_pizza_df['diameter']).reshape(-1, 1)\n",
        "y_train = np.array(train_pizza_df['harga'])\n",
        "\n",
        "print(f'X_train shape: {X_train}\\n')\n",
        "print(f'y_train: {y_train}')"
      ],
      "metadata": {
        "colab": {
          "base_uri": "https://localhost:8080/"
        },
        "id": "kTn6to0DfZr0",
        "outputId": "3879ae9e-2ba0-4ff3-bea4-079c8ee9d4fd"
      },
      "execution_count": 7,
      "outputs": [
        {
          "output_type": "stream",
          "name": "stdout",
          "text": [
            "X_train shape: [[ 6]\n",
            " [ 8]\n",
            " [10]\n",
            " [14]\n",
            " [18]]\n",
            "\n",
            "y_train: [ 7.   9.  13.  17.5 18. ]\n"
          ]
        }
      ]
    },
    {
      "cell_type": "markdown",
      "source": [
        "## **Polynomial Regression: Quadratic**"
      ],
      "metadata": {
        "id": "0-m41zK2hS0e"
      }
    },
    {
      "cell_type": "markdown",
      "source": [
        "![image.png](data:image/png;base64,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)"
      ],
      "metadata": {
        "id": "TCU6W4X1iB0Y"
      }
    },
    {
      "cell_type": "markdown",
      "source": [
        "### **Polynomial Features**"
      ],
      "metadata": {
        "id": "Vz01yZcAhXQB"
      }
    },
    {
      "cell_type": "code",
      "source": [
        "from sklearn.preprocessing import PolynomialFeatures\n",
        "\n",
        "quadratic_feature = PolynomialFeatures(degree=2)\n",
        "X_train_quadratic = quadratic_feature.fit_transform(X_train)\n",
        "\n",
        "print(f'X_train_quadratic:\\n{X_train_quadratic}')"
      ],
      "metadata": {
        "colab": {
          "base_uri": "https://localhost:8080/"
        },
        "id": "cTa53dNRhQtp",
        "outputId": "24a7068c-90dd-4fc4-c30f-85de9f503863"
      },
      "execution_count": 8,
      "outputs": [
        {
          "output_type": "stream",
          "name": "stdout",
          "text": [
            "X_train_quadratic:\n",
            "[[  1.   6.  36.]\n",
            " [  1.   8.  64.]\n",
            " [  1.  10. 100.]\n",
            " [  1.  14. 196.]\n",
            " [  1.  18. 324.]]\n"
          ]
        }
      ]
    },
    {
      "cell_type": "markdown",
      "source": [
        "### **Training Model**"
      ],
      "metadata": {
        "id": "uj1Gl949jXR1"
      }
    },
    {
      "cell_type": "code",
      "source": [
        "model = LinearRegression()\n",
        "model.fit(X_train_quadratic, y_train)"
      ],
      "metadata": {
        "colab": {
          "base_uri": "https://localhost:8080/",
          "height": 80
        },
        "id": "7nB9lb8_jH12",
        "outputId": "ebf77f92-e1b0-49b0-9331-3fcf09b55977"
      },
      "execution_count": 9,
      "outputs": [
        {
          "output_type": "execute_result",
          "data": {
            "text/plain": [
              "LinearRegression()"
            ],
            "text/html": [
              "<style>#sk-container-id-1 {\n",
              "  /* Definition of color scheme common for light and dark mode */\n",
              "  --sklearn-color-text: #000;\n",
              "  --sklearn-color-text-muted: #666;\n",
              "  --sklearn-color-line: gray;\n",
              "  /* Definition of color scheme for unfitted estimators */\n",
              "  --sklearn-color-unfitted-level-0: #fff5e6;\n",
              "  --sklearn-color-unfitted-level-1: #f6e4d2;\n",
              "  --sklearn-color-unfitted-level-2: #ffe0b3;\n",
              "  --sklearn-color-unfitted-level-3: chocolate;\n",
              "  /* Definition of color scheme for fitted estimators */\n",
              "  --sklearn-color-fitted-level-0: #f0f8ff;\n",
              "  --sklearn-color-fitted-level-1: #d4ebff;\n",
              "  --sklearn-color-fitted-level-2: #b3dbfd;\n",
              "  --sklearn-color-fitted-level-3: cornflowerblue;\n",
              "\n",
              "  /* Specific color for light theme */\n",
              "  --sklearn-color-text-on-default-background: var(--sg-text-color, var(--theme-code-foreground, var(--jp-content-font-color1, black)));\n",
              "  --sklearn-color-background: var(--sg-background-color, var(--theme-background, var(--jp-layout-color0, white)));\n",
              "  --sklearn-color-border-box: var(--sg-text-color, var(--theme-code-foreground, var(--jp-content-font-color1, black)));\n",
              "  --sklearn-color-icon: #696969;\n",
              "\n",
              "  @media (prefers-color-scheme: dark) {\n",
              "    /* Redefinition of color scheme for dark theme */\n",
              "    --sklearn-color-text-on-default-background: var(--sg-text-color, var(--theme-code-foreground, var(--jp-content-font-color1, white)));\n",
              "    --sklearn-color-background: var(--sg-background-color, var(--theme-background, var(--jp-layout-color0, #111)));\n",
              "    --sklearn-color-border-box: var(--sg-text-color, var(--theme-code-foreground, var(--jp-content-font-color1, white)));\n",
              "    --sklearn-color-icon: #878787;\n",
              "  }\n",
              "}\n",
              "\n",
              "#sk-container-id-1 {\n",
              "  color: var(--sklearn-color-text);\n",
              "}\n",
              "\n",
              "#sk-container-id-1 pre {\n",
              "  padding: 0;\n",
              "}\n",
              "\n",
              "#sk-container-id-1 input.sk-hidden--visually {\n",
              "  border: 0;\n",
              "  clip: rect(1px 1px 1px 1px);\n",
              "  clip: rect(1px, 1px, 1px, 1px);\n",
              "  height: 1px;\n",
              "  margin: -1px;\n",
              "  overflow: hidden;\n",
              "  padding: 0;\n",
              "  position: absolute;\n",
              "  width: 1px;\n",
              "}\n",
              "\n",
              "#sk-container-id-1 div.sk-dashed-wrapped {\n",
              "  border: 1px dashed var(--sklearn-color-line);\n",
              "  margin: 0 0.4em 0.5em 0.4em;\n",
              "  box-sizing: border-box;\n",
              "  padding-bottom: 0.4em;\n",
              "  background-color: var(--sklearn-color-background);\n",
              "}\n",
              "\n",
              "#sk-container-id-1 div.sk-container {\n",
              "  /* jupyter's `normalize.less` sets `[hidden] { display: none; }`\n",
              "     but bootstrap.min.css set `[hidden] { display: none !important; }`\n",
              "     so we also need the `!important` here to be able to override the\n",
              "     default hidden behavior on the sphinx rendered scikit-learn.org.\n",
              "     See: https://github.com/scikit-learn/scikit-learn/issues/21755 */\n",
              "  display: inline-block !important;\n",
              "  position: relative;\n",
              "}\n",
              "\n",
              "#sk-container-id-1 div.sk-text-repr-fallback {\n",
              "  display: none;\n",
              "}\n",
              "\n",
              "div.sk-parallel-item,\n",
              "div.sk-serial,\n",
              "div.sk-item {\n",
              "  /* draw centered vertical line to link estimators */\n",
              "  background-image: linear-gradient(var(--sklearn-color-text-on-default-background), var(--sklearn-color-text-on-default-background));\n",
              "  background-size: 2px 100%;\n",
              "  background-repeat: no-repeat;\n",
              "  background-position: center center;\n",
              "}\n",
              "\n",
              "/* Parallel-specific style estimator block */\n",
              "\n",
              "#sk-container-id-1 div.sk-parallel-item::after {\n",
              "  content: \"\";\n",
              "  width: 100%;\n",
              "  border-bottom: 2px solid var(--sklearn-color-text-on-default-background);\n",
              "  flex-grow: 1;\n",
              "}\n",
              "\n",
              "#sk-container-id-1 div.sk-parallel {\n",
              "  display: flex;\n",
              "  align-items: stretch;\n",
              "  justify-content: center;\n",
              "  background-color: var(--sklearn-color-background);\n",
              "  position: relative;\n",
              "}\n",
              "\n",
              "#sk-container-id-1 div.sk-parallel-item {\n",
              "  display: flex;\n",
              "  flex-direction: column;\n",
              "}\n",
              "\n",
              "#sk-container-id-1 div.sk-parallel-item:first-child::after {\n",
              "  align-self: flex-end;\n",
              "  width: 50%;\n",
              "}\n",
              "\n",
              "#sk-container-id-1 div.sk-parallel-item:last-child::after {\n",
              "  align-self: flex-start;\n",
              "  width: 50%;\n",
              "}\n",
              "\n",
              "#sk-container-id-1 div.sk-parallel-item:only-child::after {\n",
              "  width: 0;\n",
              "}\n",
              "\n",
              "/* Serial-specific style estimator block */\n",
              "\n",
              "#sk-container-id-1 div.sk-serial {\n",
              "  display: flex;\n",
              "  flex-direction: column;\n",
              "  align-items: center;\n",
              "  background-color: var(--sklearn-color-background);\n",
              "  padding-right: 1em;\n",
              "  padding-left: 1em;\n",
              "}\n",
              "\n",
              "\n",
              "/* Toggleable style: style used for estimator/Pipeline/ColumnTransformer box that is\n",
              "clickable and can be expanded/collapsed.\n",
              "- Pipeline and ColumnTransformer use this feature and define the default style\n",
              "- Estimators will overwrite some part of the style using the `sk-estimator` class\n",
              "*/\n",
              "\n",
              "/* Pipeline and ColumnTransformer style (default) */\n",
              "\n",
              "#sk-container-id-1 div.sk-toggleable {\n",
              "  /* Default theme specific background. It is overwritten whether we have a\n",
              "  specific estimator or a Pipeline/ColumnTransformer */\n",
              "  background-color: var(--sklearn-color-background);\n",
              "}\n",
              "\n",
              "/* Toggleable label */\n",
              "#sk-container-id-1 label.sk-toggleable__label {\n",
              "  cursor: pointer;\n",
              "  display: flex;\n",
              "  width: 100%;\n",
              "  margin-bottom: 0;\n",
              "  padding: 0.5em;\n",
              "  box-sizing: border-box;\n",
              "  text-align: center;\n",
              "  align-items: start;\n",
              "  justify-content: space-between;\n",
              "  gap: 0.5em;\n",
              "}\n",
              "\n",
              "#sk-container-id-1 label.sk-toggleable__label .caption {\n",
              "  font-size: 0.6rem;\n",
              "  font-weight: lighter;\n",
              "  color: var(--sklearn-color-text-muted);\n",
              "}\n",
              "\n",
              "#sk-container-id-1 label.sk-toggleable__label-arrow:before {\n",
              "  /* Arrow on the left of the label */\n",
              "  content: \"▸\";\n",
              "  float: left;\n",
              "  margin-right: 0.25em;\n",
              "  color: var(--sklearn-color-icon);\n",
              "}\n",
              "\n",
              "#sk-container-id-1 label.sk-toggleable__label-arrow:hover:before {\n",
              "  color: var(--sklearn-color-text);\n",
              "}\n",
              "\n",
              "/* Toggleable content - dropdown */\n",
              "\n",
              "#sk-container-id-1 div.sk-toggleable__content {\n",
              "  max-height: 0;\n",
              "  max-width: 0;\n",
              "  overflow: hidden;\n",
              "  text-align: left;\n",
              "  /* unfitted */\n",
              "  background-color: var(--sklearn-color-unfitted-level-0);\n",
              "}\n",
              "\n",
              "#sk-container-id-1 div.sk-toggleable__content.fitted {\n",
              "  /* fitted */\n",
              "  background-color: var(--sklearn-color-fitted-level-0);\n",
              "}\n",
              "\n",
              "#sk-container-id-1 div.sk-toggleable__content pre {\n",
              "  margin: 0.2em;\n",
              "  border-radius: 0.25em;\n",
              "  color: var(--sklearn-color-text);\n",
              "  /* unfitted */\n",
              "  background-color: var(--sklearn-color-unfitted-level-0);\n",
              "}\n",
              "\n",
              "#sk-container-id-1 div.sk-toggleable__content.fitted pre {\n",
              "  /* unfitted */\n",
              "  background-color: var(--sklearn-color-fitted-level-0);\n",
              "}\n",
              "\n",
              "#sk-container-id-1 input.sk-toggleable__control:checked~div.sk-toggleable__content {\n",
              "  /* Expand drop-down */\n",
              "  max-height: 200px;\n",
              "  max-width: 100%;\n",
              "  overflow: auto;\n",
              "}\n",
              "\n",
              "#sk-container-id-1 input.sk-toggleable__control:checked~label.sk-toggleable__label-arrow:before {\n",
              "  content: \"▾\";\n",
              "}\n",
              "\n",
              "/* Pipeline/ColumnTransformer-specific style */\n",
              "\n",
              "#sk-container-id-1 div.sk-label input.sk-toggleable__control:checked~label.sk-toggleable__label {\n",
              "  color: var(--sklearn-color-text);\n",
              "  background-color: var(--sklearn-color-unfitted-level-2);\n",
              "}\n",
              "\n",
              "#sk-container-id-1 div.sk-label.fitted input.sk-toggleable__control:checked~label.sk-toggleable__label {\n",
              "  background-color: var(--sklearn-color-fitted-level-2);\n",
              "}\n",
              "\n",
              "/* Estimator-specific style */\n",
              "\n",
              "/* Colorize estimator box */\n",
              "#sk-container-id-1 div.sk-estimator input.sk-toggleable__control:checked~label.sk-toggleable__label {\n",
              "  /* unfitted */\n",
              "  background-color: var(--sklearn-color-unfitted-level-2);\n",
              "}\n",
              "\n",
              "#sk-container-id-1 div.sk-estimator.fitted input.sk-toggleable__control:checked~label.sk-toggleable__label {\n",
              "  /* fitted */\n",
              "  background-color: var(--sklearn-color-fitted-level-2);\n",
              "}\n",
              "\n",
              "#sk-container-id-1 div.sk-label label.sk-toggleable__label,\n",
              "#sk-container-id-1 div.sk-label label {\n",
              "  /* The background is the default theme color */\n",
              "  color: var(--sklearn-color-text-on-default-background);\n",
              "}\n",
              "\n",
              "/* On hover, darken the color of the background */\n",
              "#sk-container-id-1 div.sk-label:hover label.sk-toggleable__label {\n",
              "  color: var(--sklearn-color-text);\n",
              "  background-color: var(--sklearn-color-unfitted-level-2);\n",
              "}\n",
              "\n",
              "/* Label box, darken color on hover, fitted */\n",
              "#sk-container-id-1 div.sk-label.fitted:hover label.sk-toggleable__label.fitted {\n",
              "  color: var(--sklearn-color-text);\n",
              "  background-color: var(--sklearn-color-fitted-level-2);\n",
              "}\n",
              "\n",
              "/* Estimator label */\n",
              "\n",
              "#sk-container-id-1 div.sk-label label {\n",
              "  font-family: monospace;\n",
              "  font-weight: bold;\n",
              "  display: inline-block;\n",
              "  line-height: 1.2em;\n",
              "}\n",
              "\n",
              "#sk-container-id-1 div.sk-label-container {\n",
              "  text-align: center;\n",
              "}\n",
              "\n",
              "/* Estimator-specific */\n",
              "#sk-container-id-1 div.sk-estimator {\n",
              "  font-family: monospace;\n",
              "  border: 1px dotted var(--sklearn-color-border-box);\n",
              "  border-radius: 0.25em;\n",
              "  box-sizing: border-box;\n",
              "  margin-bottom: 0.5em;\n",
              "  /* unfitted */\n",
              "  background-color: var(--sklearn-color-unfitted-level-0);\n",
              "}\n",
              "\n",
              "#sk-container-id-1 div.sk-estimator.fitted {\n",
              "  /* fitted */\n",
              "  background-color: var(--sklearn-color-fitted-level-0);\n",
              "}\n",
              "\n",
              "/* on hover */\n",
              "#sk-container-id-1 div.sk-estimator:hover {\n",
              "  /* unfitted */\n",
              "  background-color: var(--sklearn-color-unfitted-level-2);\n",
              "}\n",
              "\n",
              "#sk-container-id-1 div.sk-estimator.fitted:hover {\n",
              "  /* fitted */\n",
              "  background-color: var(--sklearn-color-fitted-level-2);\n",
              "}\n",
              "\n",
              "/* Specification for estimator info (e.g. \"i\" and \"?\") */\n",
              "\n",
              "/* Common style for \"i\" and \"?\" */\n",
              "\n",
              ".sk-estimator-doc-link,\n",
              "a:link.sk-estimator-doc-link,\n",
              "a:visited.sk-estimator-doc-link {\n",
              "  float: right;\n",
              "  font-size: smaller;\n",
              "  line-height: 1em;\n",
              "  font-family: monospace;\n",
              "  background-color: var(--sklearn-color-background);\n",
              "  border-radius: 1em;\n",
              "  height: 1em;\n",
              "  width: 1em;\n",
              "  text-decoration: none !important;\n",
              "  margin-left: 0.5em;\n",
              "  text-align: center;\n",
              "  /* unfitted */\n",
              "  border: var(--sklearn-color-unfitted-level-1) 1pt solid;\n",
              "  color: var(--sklearn-color-unfitted-level-1);\n",
              "}\n",
              "\n",
              ".sk-estimator-doc-link.fitted,\n",
              "a:link.sk-estimator-doc-link.fitted,\n",
              "a:visited.sk-estimator-doc-link.fitted {\n",
              "  /* fitted */\n",
              "  border: var(--sklearn-color-fitted-level-1) 1pt solid;\n",
              "  color: var(--sklearn-color-fitted-level-1);\n",
              "}\n",
              "\n",
              "/* On hover */\n",
              "div.sk-estimator:hover .sk-estimator-doc-link:hover,\n",
              ".sk-estimator-doc-link:hover,\n",
              "div.sk-label-container:hover .sk-estimator-doc-link:hover,\n",
              ".sk-estimator-doc-link:hover {\n",
              "  /* unfitted */\n",
              "  background-color: var(--sklearn-color-unfitted-level-3);\n",
              "  color: var(--sklearn-color-background);\n",
              "  text-decoration: none;\n",
              "}\n",
              "\n",
              "div.sk-estimator.fitted:hover .sk-estimator-doc-link.fitted:hover,\n",
              ".sk-estimator-doc-link.fitted:hover,\n",
              "div.sk-label-container:hover .sk-estimator-doc-link.fitted:hover,\n",
              ".sk-estimator-doc-link.fitted:hover {\n",
              "  /* fitted */\n",
              "  background-color: var(--sklearn-color-fitted-level-3);\n",
              "  color: var(--sklearn-color-background);\n",
              "  text-decoration: none;\n",
              "}\n",
              "\n",
              "/* Span, style for the box shown on hovering the info icon */\n",
              ".sk-estimator-doc-link span {\n",
              "  display: none;\n",
              "  z-index: 9999;\n",
              "  position: relative;\n",
              "  font-weight: normal;\n",
              "  right: .2ex;\n",
              "  padding: .5ex;\n",
              "  margin: .5ex;\n",
              "  width: min-content;\n",
              "  min-width: 20ex;\n",
              "  max-width: 50ex;\n",
              "  color: var(--sklearn-color-text);\n",
              "  box-shadow: 2pt 2pt 4pt #999;\n",
              "  /* unfitted */\n",
              "  background: var(--sklearn-color-unfitted-level-0);\n",
              "  border: .5pt solid var(--sklearn-color-unfitted-level-3);\n",
              "}\n",
              "\n",
              ".sk-estimator-doc-link.fitted span {\n",
              "  /* fitted */\n",
              "  background: var(--sklearn-color-fitted-level-0);\n",
              "  border: var(--sklearn-color-fitted-level-3);\n",
              "}\n",
              "\n",
              ".sk-estimator-doc-link:hover span {\n",
              "  display: block;\n",
              "}\n",
              "\n",
              "/* \"?\"-specific style due to the `<a>` HTML tag */\n",
              "\n",
              "#sk-container-id-1 a.estimator_doc_link {\n",
              "  float: right;\n",
              "  font-size: 1rem;\n",
              "  line-height: 1em;\n",
              "  font-family: monospace;\n",
              "  background-color: var(--sklearn-color-background);\n",
              "  border-radius: 1rem;\n",
              "  height: 1rem;\n",
              "  width: 1rem;\n",
              "  text-decoration: none;\n",
              "  /* unfitted */\n",
              "  color: var(--sklearn-color-unfitted-level-1);\n",
              "  border: var(--sklearn-color-unfitted-level-1) 1pt solid;\n",
              "}\n",
              "\n",
              "#sk-container-id-1 a.estimator_doc_link.fitted {\n",
              "  /* fitted */\n",
              "  border: var(--sklearn-color-fitted-level-1) 1pt solid;\n",
              "  color: var(--sklearn-color-fitted-level-1);\n",
              "}\n",
              "\n",
              "/* On hover */\n",
              "#sk-container-id-1 a.estimator_doc_link:hover {\n",
              "  /* unfitted */\n",
              "  background-color: var(--sklearn-color-unfitted-level-3);\n",
              "  color: var(--sklearn-color-background);\n",
              "  text-decoration: none;\n",
              "}\n",
              "\n",
              "#sk-container-id-1 a.estimator_doc_link.fitted:hover {\n",
              "  /* fitted */\n",
              "  background-color: var(--sklearn-color-fitted-level-3);\n",
              "}\n",
              "</style><div id=\"sk-container-id-1\" class=\"sk-top-container\"><div class=\"sk-text-repr-fallback\"><pre>LinearRegression()</pre><b>In a Jupyter environment, please rerun this cell to show the HTML representation or trust the notebook. <br />On GitHub, the HTML representation is unable to render, please try loading this page with nbviewer.org.</b></div><div class=\"sk-container\" hidden><div class=\"sk-item\"><div class=\"sk-estimator fitted sk-toggleable\"><input class=\"sk-toggleable__control sk-hidden--visually\" id=\"sk-estimator-id-1\" type=\"checkbox\" checked><label for=\"sk-estimator-id-1\" class=\"sk-toggleable__label fitted sk-toggleable__label-arrow\"><div><div>LinearRegression</div></div><div><a class=\"sk-estimator-doc-link fitted\" rel=\"noreferrer\" target=\"_blank\" href=\"https://scikit-learn.org/1.6/modules/generated/sklearn.linear_model.LinearRegression.html\">?<span>Documentation for LinearRegression</span></a><span class=\"sk-estimator-doc-link fitted\">i<span>Fitted</span></span></div></label><div class=\"sk-toggleable__content fitted\"><pre>LinearRegression()</pre></div> </div></div></div></div>"
            ]
          },
          "metadata": {},
          "execution_count": 9
        }
      ]
    },
    {
      "cell_type": "markdown",
      "source": [
        "### **Visualisasi Model**"
      ],
      "metadata": {
        "id": "-qJ9DnCsjoWA"
      }
    },
    {
      "cell_type": "code",
      "source": [
        "import matplotlib.pyplot as plt\n",
        "\n",
        "X_vis = np.linspace(0, 25, 100).reshape(-1, 1)\n",
        "X_vis_quadratic = quadratic_feature.transform(X_vis)\n",
        "y_vis_quadratic = model.predict(X_vis_quadratic)\n",
        "\n",
        "plt.scatter(X_train, y_train)\n",
        "plt.plot(X_vis, y_vis_quadratic, 'r')\n",
        "\n",
        "plt.title('Perbandingan Diameter dan Harga Pizza')\n",
        "plt.xlabel('Diameter (inch)')\n",
        "plt.ylabel('Harga (dollar)')\n",
        "plt.xlim(0, 25)\n",
        "plt.ylim(0, 25)\n",
        "plt.grid(True)\n",
        "plt.show()"
      ],
      "metadata": {
        "colab": {
          "base_uri": "https://localhost:8080/",
          "height": 472
        },
        "id": "G0VXF4IAjnTY",
        "outputId": "f4e4b2b8-6c07-411b-e3f8-b9902ab74db5"
      },
      "execution_count": 12,
      "outputs": [
        {
          "output_type": "display_data",
          "data": {
            "text/plain": [
              "<Figure size 640x480 with 1 Axes>"
            ],
            "image/png": "[encoded data removed]"
          },
          "metadata": {}
        }
      ]
    },
    {
      "cell_type": "markdown",
      "source": [
        "## **Polynomial Regression: Quadratic vs Qubic**"
      ],
      "metadata": {
        "id": "6DsL60wtktRe"
      }
    },
    {
      "cell_type": "code",
      "source": [
        "# Training Set\n",
        "plt.scatter(X_train, y_train)"
      ],
      "metadata": {
        "colab": {
          "base_uri": "https://localhost:8080/",
          "height": 447
        },
        "id": "lFis1J8akxgj",
        "outputId": "670fcb0b-e191-4866-bb6c-d7296abf1691"
      },
      "execution_count": 13,
      "outputs": [
        {
          "output_type": "execute_result",
          "data": {
            "text/plain": [
              "<matplotlib.collections.PathCollection at 0x79e6390f4690>"
            ]
          },
          "metadata": {},
          "execution_count": 13
        },
        {
          "output_type": "display_data",
          "data": {
            "text/plain": [
              "<Figure size 640x480 with 1 Axes>"
            ],
            "image/png": "[encoded data removed]"
          },
          "metadata": {}
        }
      ]
    },
    {
      "cell_type": "code",
      "source": [
        "# Linear\n",
        "model = LinearRegression()\n",
        "model.fit(X_train, y_train)\n",
        "X_vis = np.linspace(0, 25, 100).reshape(-1, 1)\n",
        "y_vis = model.predict(X_vis)\n",
        "plt.plot(X_vis, y_vis, '--r', label='linear')"
      ],
      "metadata": {
        "colab": {
          "base_uri": "https://localhost:8080/",
          "height": 447
        },
        "id": "tRPN4d7Amv9b",
        "outputId": "2f23e87d-5ea5-4758-b97f-ed4b6cec1fe2"
      },
      "execution_count": 14,
      "outputs": [
        {
          "output_type": "execute_result",
          "data": {
            "text/plain": [
              "[<matplotlib.lines.Line2D at 0x79e639014dd0>]"
            ]
          },
          "metadata": {},
          "execution_count": 14
        },
        {
          "output_type": "display_data",
          "data": {
            "text/plain": [
              "<Figure size 640x480 with 1 Axes>"
            ],
            "image/png": "[encoded data removed]"
          },
          "metadata": {}
        }
      ]
    },
    {
      "cell_type": "code",
      "source": [
        "# Quadratic\n",
        "quadratic_feature = PolynomialFeatures(degree=2)\n",
        "X_train_quadratic = quadratic_feature.fit_transform(X_train)\n",
        "model = LinearRegression()\n",
        "model.fit(X_train_quadratic, y_train)\n",
        "X_vis_quadratic = quadratic_feature.transform(X_vis)\n",
        "y_vis = model.predict(X_vis_quadratic)\n",
        "plt.plot(X_vis, y_vis, '--g', label='quadratic')"
      ],
      "metadata": {
        "colab": {
          "base_uri": "https://localhost:8080/",
          "height": 447
        },
        "id": "izNXmdsmnAa-",
        "outputId": "19c21602-fb99-43bd-c8cc-36ec58ad94fb"
      },
      "execution_count": 15,
      "outputs": [
        {
          "output_type": "execute_result",
          "data": {
            "text/plain": [
              "[<matplotlib.lines.Line2D at 0x79e639057190>]"
            ]
          },
          "metadata": {},
          "execution_count": 15
        },
        {
          "output_type": "display_data",
          "data": {
            "text/plain": [
              "<Figure size 640x480 with 1 Axes>"
            ],
            "image/png": "[encoded data removed]"
          },
          "metadata": {}
        }
      ]
    },
    {
      "cell_type": "code",
      "source": [
        "# Cubic\n",
        "cubic_feature = PolynomialFeatures(degree=3)\n",
        "X_train_cubic = cubic_feature.fit_transform(X_train)\n",
        "model = LinearRegression()\n",
        "model.fit(X_train_cubic, y_train)\n",
        "X_vis_cubic = cubic_feature.transform(X_vis)\n",
        "y_vis = model.predict(X_vis_cubic)\n",
        "\n",
        "plt.title('Perbandingan Diameter dan Harga Pizza')\n",
        "plt.xlabel('Diameter (inch)')\n",
        "plt.ylabel('Harga (dollar)')\n",
        "plt.legend()\n",
        "plt.xlim(0, 25)\n",
        "plt.ylim(0, 25)\n",
        "plt.show()"
      ],
      "metadata": {
        "colab": {
          "base_uri": "https://localhost:8080/",
          "height": 527
        },
        "id": "-CWja2MXnp3_",
        "outputId": "20465f0e-4460-4a10-dba0-4e390bfc01f8"
      },
      "execution_count": 17,
      "outputs": [
        {
          "output_type": "stream",
          "name": "stderr",
          "text": [
            "<ipython-input-17-7a6faa333d4d>:12: UserWarning: No artists with labels found to put in legend.  Note that artists whose label start with an underscore are ignored when legend() is called with no argument.\n",
            "  plt.legend()\n"
          ]
        },
        {
          "output_type": "display_data",
          "data": {
            "text/plain": [
              "<Figure size 640x480 with 1 Axes>"
            ],
            "image/png": "[encoded data removed]"
          },
          "metadata": {}
        }
      ]
    },
    {
      "cell_type": "code",
      "source": [
        "# Training Set\n",
        "plt.scatter(X_train, y_train)\n",
        "\n",
        "# Linear\n",
        "model = LinearRegression()\n",
        "model.fit(X_train, y_train)\n",
        "X_vis = np.linspace(0, 25, 100).reshape(-1, 1)\n",
        "y_vis = model.predict(X_vis)\n",
        "plt.plot(X_vis, y_vis, '--r', label='linear')\n",
        "\n",
        "# Quadratic\n",
        "quadratic_feature = PolynomialFeatures(degree=2)\n",
        "X_train_quadratic = quadratic_feature.fit_transform(X_train)\n",
        "model = LinearRegression()\n",
        "model.fit(X_train_quadratic, y_train)\n",
        "X_vis_quadratic = quadratic_feature.transform(X_vis)\n",
        "y_vis = model.predict(X_vis_quadratic)\n",
        "plt.plot(X_vis, y_vis, '--g', label='quadratic')\n",
        "\n",
        "# Cubic\n",
        "cubic_feature = PolynomialFeatures(degree=3)\n",
        "X_train_cubic = cubic_feature.fit_transform(X_train)\n",
        "model = LinearRegression()\n",
        "model.fit(X_train_cubic, y_train)\n",
        "X_vis_cubic = cubic_feature.transform(X_vis)\n",
        "y_vis = model.predict(X_vis_cubic)\n",
        "plt.plot(X_vis, y_vis, '--y', label='cubic')\n",
        "\n",
        "plt.title('Perbandingan Diameter dan Harga Pizza')\n",
        "plt.xlabel('Diameter (inch)')\n",
        "plt.ylabel('Harga (dollar)')\n",
        "plt.legend()\n",
        "plt.xlim(0, 25)\n",
        "plt.ylim(0, 25)\n",
        "plt.show()"
      ],
      "metadata": {
        "colab": {
          "base_uri": "https://localhost:8080/",
          "height": 472
        },
        "id": "lg0wGkVGmwls",
        "outputId": "7d6deca3-4c95-4f59-f74c-a351afcb5108"
      },
      "execution_count": 20,
      "outputs": [
        {
          "output_type": "display_data",
          "data": {
            "text/plain": [
              "<Figure size 640x480 with 1 Axes>"
            ],
            "image/png": "[encoded data removed]"
          },
          "metadata": {}
        }
      ]
    }
  ]
}