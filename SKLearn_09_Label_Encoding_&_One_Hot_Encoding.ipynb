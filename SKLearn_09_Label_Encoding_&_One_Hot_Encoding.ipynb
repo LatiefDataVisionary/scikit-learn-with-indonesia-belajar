{
  "nbformat": 4,
  "nbformat_minor": 0,
  "metadata": {
    "colab": {
      "provenance": [],
      "authorship_tag": "ABX9TyOZa9YbYsRZHjJnnh5lEQ+g",
      "include_colab_link": true
    },
    "kernelspec": {
      "name": "python3",
      "display_name": "Python 3"
    },
    "language_info": {
      "name": "python"
    }
  },
  "cells": [
    {
      "cell_type": "markdown",
      "metadata": {
        "id": "view-in-github",
        "colab_type": "text"
      },
      "source": [
        "<a href=\"https://colab.research.google.com/github/LatiefDataVisionary/scikit-learn-with-indonesia-belajar/blob/main/SKLearn_09_Label_Encoding_%26_One_Hot_Encoding.ipynb\" target=\"_parent\"><img src=\"https://colab.research.google.com/assets/colab-badge.svg\" alt=\"Open In Colab\"/></a>"
      ]
    },
    {
      "cell_type": "markdown",
      "source": [
        "# **SKLearn 09: Label Encoding & One Hot Encoding | Categorical Encoding | Belajar Machine Learning**\n"
      ],
      "metadata": {
        "id": "DT0gnJ_B-IQn"
      }
    },
    {
      "cell_type": "markdown",
      "source": [
        "Categorical Encoding adalah proses konversi nilai categorical menjadi nilai numerical.\n",
        "\n",
        "Terdapat banyak jenis Categorical Encoding, dua di antaranya adalah:\n",
        "\n",
        "- Label Encoding\n",
        "- One Hot Encoding\n",
        "\n",
        "Referensi: https://en.wikipedia.org/wiki/One-hot"
      ],
      "metadata": {
        "id": "r2SHWQLO8n5C"
      }
    },
    {
      "cell_type": "code",
      "execution_count": null,
      "metadata": {
        "id": "zyx_ef8W-GP2"
      },
      "outputs": [],
      "source": []
    }
  ]
}