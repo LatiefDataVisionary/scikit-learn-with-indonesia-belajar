{
  "nbformat": 4,
  "nbformat_minor": 0,
  "metadata": {
    "colab": {
      "provenance": [],
      "authorship_tag": "ABX9TyM10wAjgJmys9L++5esTu/g",
      "include_colab_link": true
    },
    "kernelspec": {
      "name": "python3",
      "display_name": "Python 3"
    },
    "language_info": {
      "name": "python"
    }
  },
  "cells": [
    {
      "cell_type": "markdown",
      "metadata": {
        "id": "view-in-github",
        "colab_type": "text"
      },
      "source": [
        "<a href=\"https://colab.research.google.com/github/LatiefDataVisionary/scikit-learn-with-indonesia-belajar/blob/main/SKLearn_10_Bag_of_Words_%26_Stop_Word_Filtering.ipynb\" target=\"_parent\"><img src=\"https://colab.research.google.com/assets/colab-badge.svg\" alt=\"Open In Colab\"/></a>"
      ]
    },
    {
      "cell_type": "markdown",
      "source": [
        "# **SKLearn 10: Bag of Words & Stop Word Filtering | Text Processing | Belajar Machine Learning Dasar**\n"
      ],
      "metadata": {
        "id": "_jf2yara-T71"
      }
    },
    {
      "cell_type": "markdown",
      "source": [
        "**Bag of Words model sebagai representasi text**\n",
        "\n",
        "Bag of Words menyederhanakan representasi text sebagai sekumpulan kata serta mengabaikan grammar dan posisi tiap kata pada kalimat. Text akan dikonversi menjadi lowecase dan tanda baca akan diabaikan.\n",
        "\n",
        "Referensi: https://en.wikipedia.org/wiki/Bag-of-words_model"
      ],
      "metadata": {
        "id": "f4VhjnnZD1GU"
      }
    },
    {
      "cell_type": "code",
      "execution_count": null,
      "metadata": {
        "id": "t4VCHU8a-Q6p"
      },
      "outputs": [],
      "source": []
    }
  ]
}