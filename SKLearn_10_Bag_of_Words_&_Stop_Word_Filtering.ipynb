{
  "nbformat": 4,
  "nbformat_minor": 0,
  "metadata": {
    "colab": {
      "provenance": [],
      "authorship_tag": "ABX9TyPnmF1piI3dDdYushhu0Jf7",
      "include_colab_link": true
    },
    "kernelspec": {
      "name": "python3",
      "display_name": "Python 3"
    },
    "language_info": {
      "name": "python"
    }
  },
  "cells": [
    {
      "cell_type": "markdown",
      "metadata": {
        "id": "view-in-github",
        "colab_type": "text"
      },
      "source": [
        "<a href=\"https://colab.research.google.com/github/LatiefDataVisionary/scikit-learn-with-indonesia-belajar/blob/main/SKLearn_10_Bag_of_Words_%26_Stop_Word_Filtering.ipynb\" target=\"_parent\"><img src=\"https://colab.research.google.com/assets/colab-badge.svg\" alt=\"Open In Colab\"/></a>"
      ]
    },
    {
      "cell_type": "markdown",
      "source": [
        "# **SKLearn 10: Bag of Words & Stop Word Filtering | Text Processing | Belajar Machine Learning Dasar**\n"
      ],
      "metadata": {
        "id": "_jf2yara-T71"
      }
    },
    {
      "cell_type": "markdown",
      "source": [
        "**Bag of Words model sebagai representasi text**\n",
        "\n",
        "Bag of Words menyederhanakan representasi text sebagai sekumpulan kata serta mengabaikan grammar dan posisi tiap kata pada kalimat. Text akan dikonversi menjadi lowecase dan tanda baca akan diabaikan.\n",
        "\n",
        "Referensi: https://en.wikipedia.org/wiki/Bag-of-words_model"
      ],
      "metadata": {
        "id": "f4VhjnnZD1GU"
      }
    },
    {
      "cell_type": "markdown",
      "source": [
        "# **Dataset**"
      ],
      "metadata": {
        "id": "6Og3sMo4EhTT"
      }
    },
    {
      "cell_type": "code",
      "execution_count": 3,
      "metadata": {
        "id": "t4VCHU8a-Q6p",
        "colab": {
          "base_uri": "https://localhost:8080/"
        },
        "outputId": "89240674-9bb9-462a-9227-d5a5fabb036d"
      },
      "outputs": [
        {
          "output_type": "execute_result",
          "data": {
            "text/plain": [
              "['Linux has been around since the mid-1990s.',\n",
              " 'Linux distributions include the Linux kernel.',\n",
              " 'Linux is one of the most prominent open-source software.']"
            ]
          },
          "metadata": {},
          "execution_count": 3
        }
      ],
      "source": [
        "corpus = [\n",
        "    'Linux has been around since the mid-1990s.',\n",
        "    'Linux distributions include the Linux kernel.',\n",
        "    'Linux is one of the most prominent open-source software.'\n",
        "]\n",
        "\n",
        "corpus"
      ]
    },
    {
      "cell_type": "markdown",
      "source": [
        "## **Bag of Words dengan `CountVectorizer`**"
      ],
      "metadata": {
        "id": "JxScrTY1E5b2"
      }
    },
    {
      "cell_type": "markdown",
      "source": [
        "Bag or Words model dapat diterapkan dengan memanfaatkan `CountVectorizer`"
      ],
      "metadata": {
        "id": "pHtPhaSaFA1F"
      }
    },
    {
      "cell_type": "code",
      "source": [
        "from sklearn.feature_extraction.text import CountVectorizer\n",
        "\n",
        "vectorizer = CountVectorizer()\n",
        "vectorized_X = vectorizer.fit_transform(corpus).toarray()\n",
        "vectorized_X"
      ],
      "metadata": {
        "colab": {
          "base_uri": "https://localhost:8080/"
        },
        "id": "NZ0tSmAYFAdV",
        "outputId": "2f8b991f-1cdb-47e2-ff05-5502fd445054"
      },
      "execution_count": 14,
      "outputs": [
        {
          "output_type": "execute_result",
          "data": {
            "text/plain": [
              "array([[1, 1, 1, 0, 1, 0, 0, 0, 1, 1, 0, 0, 0, 0, 0, 1, 0, 0, 1],\n",
              "       [0, 0, 0, 1, 0, 1, 0, 1, 2, 0, 0, 0, 0, 0, 0, 0, 0, 0, 1],\n",
              "       [0, 0, 0, 0, 0, 0, 1, 0, 1, 0, 1, 1, 1, 1, 1, 0, 1, 1, 1]])"
            ]
          },
          "metadata": {},
          "execution_count": 14
        }
      ]
    },
    {
      "cell_type": "code",
      "source": [
        "vectorizer.get_feature_names_out()"
      ],
      "metadata": {
        "colab": {
          "base_uri": "https://localhost:8080/"
        },
        "id": "36oPSV5CFq8r",
        "outputId": "225b9a64-fee6-44e7-bcbc-64e1c7fde9b6"
      },
      "execution_count": 15,
      "outputs": [
        {
          "output_type": "execute_result",
          "data": {
            "text/plain": [
              "array(['1990s', 'around', 'been', 'distributions', 'has', 'include', 'is',\n",
              "       'kernel', 'linux', 'mid', 'most', 'of', 'one', 'open', 'prominent',\n",
              "       'since', 'software', 'source', 'the'], dtype=object)"
            ]
          },
          "metadata": {},
          "execution_count": 15
        }
      ]
    },
    {
      "cell_type": "markdown",
      "source": [
        "## **Euclidean distance untuk mengukur kedekatakan/jarak antar dokumen (vector)**"
      ],
      "metadata": {
        "id": "FkaOWjWHGUGm"
      }
    },
    {
      "cell_type": "code",
      "source": [
        "from sklearn.metrics.pairwise import euclidean_distances\n",
        "\n",
        "for i in range(len(vectorized_X)):\n",
        "  for j in range(i, len(vectorized_X)):\n",
        "    if i == j:\n",
        "      continue\n",
        "    jarak = euclidean_distances(vectorized_X[i].reshape(1, -1), vectorized_X[j].reshape(1, -1))\n",
        "    print(f'Jarak dokumen {i+1} dan {j+1}: {jarak}')"
      ],
      "metadata": {
        "colab": {
          "base_uri": "https://localhost:8080/"
        },
        "id": "1EaHFSYYGbT0",
        "outputId": "c33835d9-2d19-4de8-937c-80b66440145c"
      },
      "execution_count": 18,
      "outputs": [
        {
          "output_type": "stream",
          "name": "stdout",
          "text": [
            "Jarak dokumen 1 dan 2: [[3.16227766]]\n",
            "Jarak dokumen 1 dan 3: [[3.74165739]]\n",
            "Jarak dokumen 2 dan 3: [[3.46410162]]\n"
          ]
        }
      ]
    },
    {
      "cell_type": "markdown",
      "source": [
        "## **Stop Word Filtering pada text**\n",
        "\n",
        "Stop Word Filtering menyederhanakan representasi text dengan mengabaikan beberapa kata seperrti determiners (the, a, an), auxiliary verbs(do, be, will), dan preprositions(in, on, at)\n",
        "\n",
        "Referensi: https://en.wikipedia.org/wiki/Stop_word"
      ],
      "metadata": {
        "id": "tbn7idKGIZp0"
      }
    },
    {
      "cell_type": "markdown",
      "source": [
        "## **Dataset**"
      ],
      "metadata": {
        "id": "2iafq58FJJSb"
      }
    },
    {
      "cell_type": "code",
      "source": [
        "corpus"
      ],
      "metadata": {
        "colab": {
          "base_uri": "https://localhost:8080/"
        },
        "id": "ZKhVQGJAIOlb",
        "outputId": "f2a50322-72b3-4447-9e12-db8ebae5b12e"
      },
      "execution_count": 19,
      "outputs": [
        {
          "output_type": "execute_result",
          "data": {
            "text/plain": [
              "['Linux has been around since the mid-1990s.',\n",
              " 'Linux distributions include the Linux kernel.',\n",
              " 'Linux is one of the most prominent open-source software.']"
            ]
          },
          "metadata": {},
          "execution_count": 19
        }
      ]
    },
    {
      "cell_type": "markdown",
      "source": [
        "## **Stop Word Filtering dengan `CountVectorizer`**\n",
        "\n",
        "Stop Word Filtering juga dapat diterapkan dengan memanfaatkan `CountVectorizer`"
      ],
      "metadata": {
        "id": "p0i23sRhJUVy"
      }
    },
    {
      "cell_type": "code",
      "source": [
        "from sklearn.feature_extraction.text import CountVectorizer\n",
        "\n",
        "vectorizer = CountVectorizer(stop_words='english')\n",
        "vectorized_X = vectorizer.fit_transform(corpus).toarray()\n",
        "vectorized_X"
      ],
      "metadata": {
        "id": "C_YkT4v_JNL0",
        "outputId": "f7f07f59-05fc-42d4-a627-d7335b275e19",
        "colab": {
          "base_uri": "https://localhost:8080/"
        }
      },
      "execution_count": 20,
      "outputs": [
        {
          "output_type": "execute_result",
          "data": {
            "text/plain": [
              "array([[1, 0, 0, 0, 1, 1, 0, 0, 0, 0],\n",
              "       [0, 1, 1, 1, 2, 0, 0, 0, 0, 0],\n",
              "       [0, 0, 0, 0, 1, 0, 1, 1, 1, 1]])"
            ]
          },
          "metadata": {},
          "execution_count": 20
        }
      ]
    },
    {
      "cell_type": "code",
      "source": [
        "vectorizer.get_feature_names_out()"
      ],
      "metadata": {
        "id": "qgaKwJzsJ0uy",
        "outputId": "4e31ec8f-5ef3-4e33-fd5e-6d02030db4a6",
        "colab": {
          "base_uri": "https://localhost:8080/"
        }
      },
      "execution_count": 22,
      "outputs": [
        {
          "output_type": "execute_result",
          "data": {
            "text/plain": [
              "array(['1990s', 'distributions', 'include', 'kernel', 'linux', 'mid',\n",
              "       'open', 'prominent', 'software', 'source'], dtype=object)"
            ]
          },
          "metadata": {},
          "execution_count": 22
        }
      ]
    }
  ]
}