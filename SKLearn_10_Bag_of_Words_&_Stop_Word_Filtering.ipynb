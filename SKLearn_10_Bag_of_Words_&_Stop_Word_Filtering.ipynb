{
  "nbformat": 4,
  "nbformat_minor": 0,
  "metadata": {
    "colab": {
      "provenance": [],
      "authorship_tag": "ABX9TyP3m3FkD13YKXLY+2WSUN75",
      "include_colab_link": true
    },
    "kernelspec": {
      "name": "python3",
      "display_name": "Python 3"
    },
    "language_info": {
      "name": "python"
    }
  },
  "cells": [
    {
      "cell_type": "markdown",
      "metadata": {
        "id": "view-in-github",
        "colab_type": "text"
      },
      "source": [
        "<a href=\"https://colab.research.google.com/github/LatiefDataVisionary/scikit-learn-with-indonesia-belajar/blob/main/SKLearn_10_Bag_of_Words_%26_Stop_Word_Filtering.ipynb\" target=\"_parent\"><img src=\"https://colab.research.google.com/assets/colab-badge.svg\" alt=\"Open In Colab\"/></a>"
      ]
    },
    {
      "cell_type": "markdown",
      "source": [
        "# **SKLearn 10: Bag of Words & Stop Word Filtering | Text Processing | Belajar Machine Learning Dasar**\n"
      ],
      "metadata": {
        "id": "_jf2yara-T71"
      }
    },
    {
      "cell_type": "markdown",
      "source": [
        "**Bag of Words model sebagai representasi text**\n",
        "\n",
        "Bag of Words menyederhanakan representasi text sebagai sekumpulan kata serta mengabaikan grammar dan posisi tiap kata pada kalimat. Text akan dikonversi menjadi lowecase dan tanda baca akan diabaikan.\n",
        "\n",
        "Referensi: https://en.wikipedia.org/wiki/Bag-of-words_model"
      ],
      "metadata": {
        "id": "f4VhjnnZD1GU"
      }
    },
    {
      "cell_type": "markdown",
      "source": [
        "# **Dataset**"
      ],
      "metadata": {
        "id": "6Og3sMo4EhTT"
      }
    },
    {
      "cell_type": "code",
      "execution_count": 3,
      "metadata": {
        "id": "t4VCHU8a-Q6p",
        "colab": {
          "base_uri": "https://localhost:8080/"
        },
        "outputId": "89240674-9bb9-462a-9227-d5a5fabb036d"
      },
      "outputs": [
        {
          "output_type": "execute_result",
          "data": {
            "text/plain": [
              "['Linux has been around since the mid-1990s.',\n",
              " 'Linux distributions include the Linux kernel.',\n",
              " 'Linux is one of the most prominent open-source software.']"
            ]
          },
          "metadata": {},
          "execution_count": 3
        }
      ],
      "source": [
        "corpus = [\n",
        "    'Linux has been around since the mid-1990s.',\n",
        "    'Linux distributions include the Linux kernel.',\n",
        "    'Linux is one of the most prominent open-source software.'\n",
        "]\n",
        "\n",
        "corpus"
      ]
    },
    {
      "cell_type": "markdown",
      "source": [
        "## **Bag of Words dengan `CountVectorizer`**"
      ],
      "metadata": {
        "id": "JxScrTY1E5b2"
      }
    },
    {
      "cell_type": "markdown",
      "source": [
        "Bag or Words model dapat diterapkan dengan memanfaatkan `CountVectorizer`"
      ],
      "metadata": {
        "id": "pHtPhaSaFA1F"
      }
    },
    {
      "cell_type": "code",
      "source": [
        "from sklearn.feature_extraction.text import CountVectorizer\n",
        "\n",
        "vectorizer = CountVectorizer()\n",
        "vectorized_x = vectorizer.fit_transform(corpus).todense()\n",
        "vectorized_x"
      ],
      "metadata": {
        "id": "NZ0tSmAYFAdV",
        "outputId": "fe2aaa3f-039a-43db-f4d6-406fd3733ae0",
        "colab": {
          "base_uri": "https://localhost:8080/"
        }
      },
      "execution_count": 5,
      "outputs": [
        {
          "output_type": "execute_result",
          "data": {
            "text/plain": [
              "matrix([[1, 1, 1, 0, 1, 0, 0, 0, 1, 1, 0, 0, 0, 0, 0, 1, 0, 0, 1],\n",
              "        [0, 0, 0, 1, 0, 1, 0, 1, 2, 0, 0, 0, 0, 0, 0, 0, 0, 0, 1],\n",
              "        [0, 0, 0, 0, 0, 0, 1, 0, 1, 0, 1, 1, 1, 1, 1, 0, 1, 1, 1]])"
            ]
          },
          "metadata": {},
          "execution_count": 5
        }
      ]
    }
  ]
}