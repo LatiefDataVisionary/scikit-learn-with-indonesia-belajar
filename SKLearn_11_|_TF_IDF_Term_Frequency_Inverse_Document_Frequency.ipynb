{
  "nbformat": 4,
  "nbformat_minor": 0,
  "metadata": {
    "colab": {
      "provenance": [],
      "authorship_tag": "ABX9TyNHKsmWiWtNPOKnpt3p5e6b",
      "include_colab_link": true
    },
    "kernelspec": {
      "name": "python3",
      "display_name": "Python 3"
    },
    "language_info": {
      "name": "python"
    }
  },
  "cells": [
    {
      "cell_type": "markdown",
      "metadata": {
        "id": "view-in-github",
        "colab_type": "text"
      },
      "source": [
        "<a href=\"https://colab.research.google.com/github/LatiefDataVisionary/scikit-learn-with-indonesia-belajar/blob/main/SKLearn_11_%7C_TF_IDF_Term_Frequency_Inverse_Document_Frequency.ipynb\" target=\"_parent\"><img src=\"https://colab.research.google.com/assets/colab-badge.svg\" alt=\"Open In Colab\"/></a>"
      ]
    },
    {
      "cell_type": "markdown",
      "source": [
        "# **SKLearn 11 | TF-IDF Term Frequency - Inverse Document Frequency | Belajar Machine Learning Dasar**\n"
      ],
      "metadata": {
        "id": "6zFkXbh8DoOK"
      }
    },
    {
      "cell_type": "markdown",
      "source": [
        "TF_IDF (Term Frequency - Inverse Document Frequency) merupakan salah satu metode statistik yang digunakan untuk mengukur seberapa penting suatu kata terhadap suatu dokumen tertentu dari perkumpulan dokumen atau corpus.\n",
        "\n",
        "Referensi:\n",
        "- https://en.wikipedia.org/wiki/Tf%E2%80%93idf\n",
        "- https://scikit-learn.org/stable/modules/feature_extraction.html\n"
      ],
      "metadata": {
        "id": "TZZhDZAqrL0o"
      }
    },
    {
      "cell_type": "markdown",
      "source": [
        "## **Dataset**"
      ],
      "metadata": {
        "id": "xEt9lSCatDjO"
      }
    },
    {
      "cell_type": "code",
      "execution_count": 2,
      "metadata": {
        "id": "5_jfZ7qADkao",
        "outputId": "b6007827-5e2e-45c4-b229-705473c71195",
        "colab": {
          "base_uri": "https://localhost:8080/"
        }
      },
      "outputs": [
        {
          "output_type": "execute_result",
          "data": {
            "text/plain": [
              "['the house had a tiny little mouse',\n",
              " 'the cat saw the mouse',\n",
              " 'the mouse ran away from the house',\n",
              " 'the cat finally ate the mouse',\n",
              " 'the end of the mouse story']"
            ]
          },
          "metadata": {},
          "execution_count": 2
        }
      ],
      "source": [
        "corpus = [\n",
        "    'the house had a tiny little mouse',\n",
        "    'the cat saw the mouse',\n",
        "    'the mouse ran away from the house',\n",
        "    'the cat finally ate the mouse',\n",
        "    'the end of the mouse story'\n",
        "]\n",
        "\n",
        "corpus"
      ]
    }
  ]
}