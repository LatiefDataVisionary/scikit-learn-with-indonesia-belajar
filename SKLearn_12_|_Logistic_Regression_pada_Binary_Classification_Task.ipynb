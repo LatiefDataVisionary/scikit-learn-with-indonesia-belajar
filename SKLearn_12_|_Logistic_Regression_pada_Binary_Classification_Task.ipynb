{
  "nbformat": 4,
  "nbformat_minor": 0,
  "metadata": {
    "colab": {
      "provenance": [],
      "authorship_tag": "ABX9TyMl8bhzyXxkihzU78o/XHfn",
      "include_colab_link": true
    },
    "kernelspec": {
      "name": "python3",
      "display_name": "Python 3"
    },
    "language_info": {
      "name": "python"
    }
  },
  "cells": [
    {
      "cell_type": "markdown",
      "metadata": {
        "id": "view-in-github",
        "colab_type": "text"
      },
      "source": [
        "<a href=\"https://colab.research.google.com/github/LatiefDataVisionary/scikit-learn-with-indonesia-belajar/blob/main/SKLearn_12_%7C_Logistic_Regression_pada_Binary_Classification_Task.ipynb\" target=\"_parent\"><img src=\"https://colab.research.google.com/assets/colab-badge.svg\" alt=\"Open In Colab\"/></a>"
      ]
    },
    {
      "cell_type": "markdown",
      "source": [
        "# **SKLearn 12 | Logistic Regression pada Binary Classification Task | Belajar Machine Learning Dasar**\n"
      ],
      "metadata": {
        "id": "0tFh6NgADzDu"
      }
    },
    {
      "cell_type": "markdown",
      "source": [
        "Referensi: https://en.wikipedia.org/wiki/Logistic_regression"
      ],
      "metadata": {
        "id": "xgXsaxdHwe6-"
      }
    },
    {
      "cell_type": "code",
      "execution_count": null,
      "metadata": {
        "id": "FZtvFq6ADxzm"
      },
      "outputs": [],
      "source": []
    }
  ]
}