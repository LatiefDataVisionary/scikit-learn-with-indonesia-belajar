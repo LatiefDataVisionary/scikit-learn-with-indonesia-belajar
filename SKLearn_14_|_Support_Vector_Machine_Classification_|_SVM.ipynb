{
  "nbformat": 4,
  "nbformat_minor": 0,
  "metadata": {
    "colab": {
      "provenance": [],
      "authorship_tag": "ABX9TyNz8iPHKJoaYQCKd7eqvyfC",
      "include_colab_link": true
    },
    "kernelspec": {
      "name": "python3",
      "display_name": "Python 3"
    },
    "language_info": {
      "name": "python"
    }
  },
  "cells": [
    {
      "cell_type": "markdown",
      "metadata": {
        "id": "view-in-github",
        "colab_type": "text"
      },
      "source": [
        "<a href=\"https://colab.research.google.com/github/LatiefDataVisionary/scikit-learn-with-indonesia-belajar/blob/main/SKLearn_14_%7C_Support_Vector_Machine_Classification_%7C_SVM.ipynb\" target=\"_parent\"><img src=\"https://colab.research.google.com/assets/colab-badge.svg\" alt=\"Open In Colab\"/></a>"
      ]
    },
    {
      "cell_type": "markdown",
      "source": [
        "# **SKLearn 14 | Support Vector Machine Classification | SVM | Belajar Machine Learning Dasar**\n"
      ],
      "metadata": {
        "id": "V92OE6OwEQBz"
      }
    },
    {
      "cell_type": "code",
      "execution_count": null,
      "metadata": {
        "id": "r4yC4RTUEENS"
      },
      "outputs": [],
      "source": []
    }
  ]
}