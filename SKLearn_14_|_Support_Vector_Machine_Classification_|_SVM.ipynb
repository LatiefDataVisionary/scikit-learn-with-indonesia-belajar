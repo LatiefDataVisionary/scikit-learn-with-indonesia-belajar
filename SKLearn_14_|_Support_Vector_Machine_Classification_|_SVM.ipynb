{
  "nbformat": 4,
  "nbformat_minor": 0,
  "metadata": {
    "colab": {
      "provenance": [],
      "authorship_tag": "ABX9TyP9zHAUfUop6R+afjD2JB3j",
      "include_colab_link": true
    },
    "kernelspec": {
      "name": "python3",
      "display_name": "Python 3"
    },
    "language_info": {
      "name": "python"
    }
  },
  "cells": [
    {
      "cell_type": "markdown",
      "metadata": {
        "id": "view-in-github",
        "colab_type": "text"
      },
      "source": [
        "<a href=\"https://colab.research.google.com/github/LatiefDataVisionary/scikit-learn-with-indonesia-belajar/blob/main/SKLearn_14_%7C_Support_Vector_Machine_Classification_%7C_SVM.ipynb\" target=\"_parent\"><img src=\"https://colab.research.google.com/assets/colab-badge.svg\" alt=\"Open In Colab\"/></a>"
      ]
    },
    {
      "cell_type": "markdown",
      "source": [
        "# **SKLearn 14 | Support Vector Machine Classification | SVM | Belajar Machine Learning Dasar**\n"
      ],
      "metadata": {
        "id": "V92OE6OwEQBz"
      }
    },
    {
      "cell_type": "markdown",
      "source": [
        "## **Dataset: The MNIST database of handwritten digits**"
      ],
      "metadata": {
        "id": "KKQ2X_vHhHLC"
      }
    },
    {
      "cell_type": "code",
      "execution_count": null,
      "metadata": {
        "id": "r4yC4RTUEENS"
      },
      "outputs": [],
      "source": [
        "from sklearn.datasets import fetch_openml\n",
        "\n",
        "X, y = fetch_openml('mnist_784', data_home='./dataset/mnist', return_X_y=True)\n",
        "X.shape"
      ]
    },
    {
      "cell_type": "code",
      "source": [
        "y.shape"
      ],
      "metadata": {
        "id": "GbkO3TBWhzhW"
      },
      "execution_count": null,
      "outputs": []
    },
    {
      "cell_type": "code",
      "source": [
        "X"
      ],
      "metadata": {
        "id": "53d6ebcKh1hg"
      },
      "execution_count": null,
      "outputs": []
    },
    {
      "cell_type": "code",
      "source": [
        "import matplotlib.pyplot as plt\n",
        "import matplotlib.cm as cm\n",
        "\n",
        "pos = 1\n",
        "for data in X[:8]:\n",
        "  plt.subplot((1, 8, pos)),\n",
        "  plt.imshow(data.reshape((28, 28)),\n",
        "             cmap=cm.Greys_r)\n",
        "  plt.axis('off')\n",
        "  pos += 1\n",
        "\n",
        "plt.show()"
      ],
      "metadata": {
        "id": "-JL5lIZRh20M"
      },
      "execution_count": null,
      "outputs": []
    },
    {
      "cell_type": "code",
      "source": [
        "y[:8]"
      ],
      "metadata": {
        "id": "gsFM-MGfiX2P"
      },
      "execution_count": null,
      "outputs": []
    },
    {
      "cell_type": "code",
      "source": [
        "X_train = X[:60000]\n",
        "y_train = y[:60000]\n",
        "X_test = X[60000:]\n",
        "y_test = y[60000:]\n",
        "\n",
        "X_train = X[:1000]\n",
        "y_train = y[:1000]\n",
        "X_test = X[69000:]\n",
        "y_test = y[69000:]"
      ],
      "metadata": {
        "id": "bc8oZUdLikf6"
      },
      "execution_count": null,
      "outputs": []
    },
    {
      "cell_type": "markdown",
      "source": [
        "## **Classification dengan SVC (Support Vector Classifier)**"
      ],
      "metadata": {
        "id": "mPh3HDWzi4jc"
      }
    },
    {
      "cell_type": "code",
      "source": [
        "from sklearn.svm import SVC\n",
        "\n",
        "model = SVC(random_state=0)\n",
        "model.fit(X_train, y_train)"
      ],
      "metadata": {
        "id": "H3soWJovi-xe"
      },
      "execution_count": null,
      "outputs": []
    },
    {
      "cell_type": "code",
      "source": [
        "from sklearn.metrics import classification_report\n",
        "\n",
        "y_pred = model.predict(X_test)\n",
        "print(classifcation_report(y_test, y_pred))"
      ],
      "metadata": {
        "id": "-aPTIrA5jRj6"
      },
      "execution_count": null,
      "outputs": []
    }
  ]
}