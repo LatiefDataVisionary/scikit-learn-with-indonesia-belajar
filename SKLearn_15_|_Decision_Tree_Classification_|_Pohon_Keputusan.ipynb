{
  "nbformat": 4,
  "nbformat_minor": 0,
  "metadata": {
    "colab": {
      "provenance": [],
      "authorship_tag": "ABX9TyPNfzjF+cr21AYf5/uNXdIs",
      "include_colab_link": true
    },
    "kernelspec": {
      "name": "python3",
      "display_name": "Python 3"
    },
    "language_info": {
      "name": "python"
    }
  },
  "cells": [
    {
      "cell_type": "markdown",
      "metadata": {
        "id": "view-in-github",
        "colab_type": "text"
      },
      "source": [
        "<a href=\"https://colab.research.google.com/github/LatiefDataVisionary/scikit-learn-with-indonesia-belajar/blob/main/SKLearn_15_%7C_Decision_Tree_Classification_%7C_Pohon_Keputusan.ipynb\" target=\"_parent\"><img src=\"https://colab.research.google.com/assets/colab-badge.svg\" alt=\"Open In Colab\"/></a>"
      ]
    },
    {
      "cell_type": "markdown",
      "source": [
        "# **SKLearn 15 | Decision Tree Classification | Pohon Keputusan | Belajar Machine Learning Dasar**\n"
      ],
      "metadata": {
        "id": "3Z9CuhnUEfpr"
      }
    },
    {
      "cell_type": "markdown",
      "source": [
        "## **Dataset**"
      ],
      "metadata": {
        "id": "vQHYoB0Q0oxZ"
      }
    },
    {
      "cell_type": "code",
      "execution_count": 1,
      "metadata": {
        "id": "pTstvOWNEeyT",
        "outputId": "da17fc53-e1e7-4bb0-be6f-ab0174c91b6e",
        "colab": {
          "base_uri": "https://localhost:8080/"
        }
      },
      "outputs": [
        {
          "output_type": "stream",
          "name": "stdout",
          "text": [
            "Dimesi Feature: (150, 4)\n",
            "Class: {np.int64(0), np.int64(1), np.int64(2)}\n"
          ]
        }
      ],
      "source": [
        "from sklearn.datasets import load_iris\n",
        "\n",
        "X, y = load_iris(return_X_y=True)\n",
        "\n",
        "print(f'Dimesi Feature: {X.shape}')\n",
        "print(f'Class: {set(y)}')"
      ]
    },
    {
      "cell_type": "code",
      "source": [
        "from sklearn.model_selection import train_test_split\n",
        "\n",
        "X_train, X_test, y_test, y_test = train_test_split(X,\n",
        "                                                   y,\n",
        "                                                   test_size=0.3,\n",
        "                                                   random_state=0)"
      ],
      "metadata": {
        "id": "WBHBZWr807pL"
      },
      "execution_count": 3,
      "outputs": []
    }
  ]
}