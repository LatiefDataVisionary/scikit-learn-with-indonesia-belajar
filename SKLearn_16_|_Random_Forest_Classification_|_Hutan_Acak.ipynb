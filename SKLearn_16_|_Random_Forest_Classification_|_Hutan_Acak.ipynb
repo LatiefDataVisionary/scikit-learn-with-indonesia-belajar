{
  "nbformat": 4,
  "nbformat_minor": 0,
  "metadata": {
    "colab": {
      "provenance": [],
      "authorship_tag": "ABX9TyP6vX7MGdXSMwufVgCZyU3U",
      "include_colab_link": true
    },
    "kernelspec": {
      "name": "python3",
      "display_name": "Python 3"
    },
    "language_info": {
      "name": "python"
    }
  },
  "cells": [
    {
      "cell_type": "markdown",
      "metadata": {
        "id": "view-in-github",
        "colab_type": "text"
      },
      "source": [
        "<a href=\"https://colab.research.google.com/github/LatiefDataVisionary/scikit-learn-with-indonesia-belajar/blob/main/SKLearn_16_%7C_Random_Forest_Classification_%7C_Hutan_Acak.ipynb\" target=\"_parent\"><img src=\"https://colab.research.google.com/assets/colab-badge.svg\" alt=\"Open In Colab\"/></a>"
      ]
    },
    {
      "cell_type": "markdown",
      "source": [
        "# **SKLearn 16 | Random Forest Classification | Hutan Acak | Belajar Machine Learning Dasar**\n"
      ],
      "metadata": {
        "id": "CJGV41yfEmxR"
      }
    },
    {
      "cell_type": "code",
      "execution_count": null,
      "metadata": {
        "id": "iXlkHn8SEloL"
      },
      "outputs": [],
      "source": []
    }
  ]
}